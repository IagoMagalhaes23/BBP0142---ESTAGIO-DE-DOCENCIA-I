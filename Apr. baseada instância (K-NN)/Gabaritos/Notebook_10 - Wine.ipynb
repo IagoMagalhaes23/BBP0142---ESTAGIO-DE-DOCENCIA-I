{
  "cells": [
    {
      "cell_type": "markdown",
      "metadata": {
        "id": "Q7GFn9kF1TYo"
      },
      "source": [
        "#**Notebook 10**\n",
        "- **Professor:** Iális Cavalcante\n",
        "- **Monitor:** Iago Magalhães\n",
        "- **Disciplina:** Ciência de dados\n",
        "- **Curso:** Engenharia da Computação\n",
        "- **Descrição:**\n",
        "No notebook 10 iremos aprender sobre o algoritmo KNearest Neighbors para tarefas de classificação.\n"
      ]
    },
    {
      "cell_type": "markdown",
      "metadata": {
        "id": "ZjZyQToq1eTO"
      },
      "source": [
        "##Importação da bibliotecas"
      ]
    },
    {
      "cell_type": "code",
      "execution_count": null,
      "metadata": {
        "id": "dv1uPGty1JX6"
      },
      "outputs": [],
      "source": [
        "import numpy as np\n",
        "import matplotlib.pyplot as plt\n",
        "import pandas as pd\n",
        "from sklearn import neighbors\n",
        "from sklearn import datasets\n",
        "from sklearn.model_selection import train_test_split\n",
        "from sklearn.neighbors import KNeighborsClassifier\n",
        "from sklearn import metrics\n",
        "from sklearn.model_selection import GridSearchCV"
      ]
    },
    {
      "cell_type": "markdown",
      "metadata": {
        "id": "wDnUyiX51jkb"
      },
      "source": [
        "##Carregando a base de dados através do SKLearn"
      ]
    },
    {
      "cell_type": "code",
      "execution_count": null,
      "metadata": {
        "id": "93RDXIyN1mR-"
      },
      "outputs": [],
      "source": [
        "wine = datasets.load_wine()"
      ]
    },
    {
      "cell_type": "markdown",
      "metadata": {
        "id": "NUjBWplL1oFT"
      },
      "source": [
        "##Lendo a base de dados com o Pandas"
      ]
    },
    {
      "cell_type": "code",
      "execution_count": null,
      "metadata": {
        "colab": {
          "base_uri": "https://localhost:8080/",
          "height": 483
        },
        "id": "M-XYxtEd1tWb",
        "outputId": "eacac6c6-f9a5-4df1-df6b-cc86b756e09d"
      },
      "outputs": [],
      "source": [
        "# Criando o DataFrame\n",
        "df_wine = pd.DataFrame(data=wine.data,columns=wine.feature_names)\n",
        "# Criando a coluna com os valores da variável target.\n",
        "df_wine['class'] = wine.target\n",
        "\n",
        "df_wine.head().T"
      ]
    },
    {
      "cell_type": "markdown",
      "metadata": {
        "id": "t71sELf31uC7"
      },
      "source": [
        "##Verificando informações da base de dados"
      ]
    },
    {
      "cell_type": "code",
      "execution_count": null,
      "metadata": {
        "colab": {
          "base_uri": "https://localhost:8080/"
        },
        "id": "tL8fcOOl12d2",
        "outputId": "861be86d-1008-4712-fcd5-ca3ab5e5f924"
      },
      "outputs": [],
      "source": [
        "df_wine.info()"
      ]
    },
    {
      "cell_type": "code",
      "execution_count": null,
      "metadata": {
        "colab": {
          "base_uri": "https://localhost:8080/"
        },
        "id": "MOvOaZCt13OC",
        "outputId": "12f142f4-37cb-4102-8281-62649fb7f344"
      },
      "outputs": [],
      "source": [
        "df_wine['class'].value_counts()"
      ]
    },
    {
      "cell_type": "markdown",
      "metadata": {
        "id": "XKsIsdxt15Zs"
      },
      "source": [
        "##Separando os dados de treino e teste"
      ]
    },
    {
      "cell_type": "code",
      "execution_count": null,
      "metadata": {
        "id": "Dg1T3Dxe18A1"
      },
      "outputs": [],
      "source": [
        "X_train, X_test, y_train, y_test = train_test_split(df_wine.drop('class',axis=1), df_wine['class'], test_size=0.3)"
      ]
    },
    {
      "cell_type": "markdown",
      "metadata": {
        "id": "qt4xo-9n192k"
      },
      "source": [
        "##Alguns parâmetros interessantes:\n",
        "n_neighbors: Número de vizinhos (default = 5), é o parâmetro K que vimos na parte de funcionamento do algoritmo.\n",
        "\n",
        "Weights: Peso de amostras vizinhas (default = uniform).\n",
        "\n",
        "metric: Métrica utilizada para o cálculo de distância (default = minkowski), temos outras métricas como a distância Hamming, Manhattan e a Markowski.\n",
        "\n",
        "p: Parâmetro de poder para a métrica (default = 2), essa valor varia de acordo com a métrica de distância escolhida.\n",
        "\n",
        "n_jobs: Número de jobs paralelos para executar no momento da busca de vizinhos (default = 1). Com esse parâmetro podemos definir quantas cpu queremos usar para fazer o processo de predição."
      ]
    },
    {
      "cell_type": "markdown",
      "metadata": {
        "id": "B5vgfBvW2CmL"
      },
      "source": [
        "##Criando modelo e treinando modelo"
      ]
    },
    {
      "cell_type": "code",
      "execution_count": null,
      "metadata": {
        "colab": {
          "base_uri": "https://localhost:8080/"
        },
        "id": "bMXNxDWP2Fu7",
        "outputId": "75fc5a59-fe7c-4266-dd3d-68c21282ca92"
      },
      "outputs": [],
      "source": [
        "# Definindo o número de vizinhos.\n",
        "knn = KNeighborsClassifier(n_neighbors=3) #O número de vizinhos é o número de classes\n",
        "\n",
        "knn.fit(X_train, y_train) #Realiza o treinamento do modelo"
      ]
    },
    {
      "cell_type": "markdown",
      "metadata": {
        "id": "28aZ8mQQ2RlL"
      },
      "source": [
        "##Realizando predições"
      ]
    },
    {
      "cell_type": "code",
      "execution_count": null,
      "metadata": {
        "colab": {
          "base_uri": "https://localhost:8080/"
        },
        "id": "z0zx087F2SXS",
        "outputId": "51df59e5-6fcd-4621-900f-aa8dba79d6b5"
      },
      "outputs": [],
      "source": [
        "resultado = knn.predict(X_test)\n",
        "resultado"
      ]
    },
    {
      "cell_type": "markdown",
      "metadata": {
        "id": "xv0pAWWJ2JTE"
      },
      "source": [
        "##Plotando matriz de confusão"
      ]
    },
    {
      "cell_type": "code",
      "execution_count": null,
      "metadata": {
        "colab": {
          "base_uri": "https://localhost:8080/"
        },
        "id": "UbVUYWrj2QyK",
        "outputId": "841d2c64-4575-4c47-a1c6-9ce794b01de4"
      },
      "outputs": [],
      "source": [
        "print (pd.crosstab(y_test,resultado, rownames=['Real'], colnames=['Predito'], margins=True))"
      ]
    },
    {
      "cell_type": "markdown",
      "metadata": {
        "id": "XWhwg3i02ZAO"
      },
      "source": [
        "##Plotando métricas de avaliações"
      ]
    },
    {
      "cell_type": "code",
      "execution_count": null,
      "metadata": {
        "colab": {
          "base_uri": "https://localhost:8080/"
        },
        "id": "2y3YVxLu2gi6",
        "outputId": "4b6e20d5-43fa-4650-f1cf-d62eff1ecc13"
      },
      "outputs": [],
      "source": [
        "print(metrics.classification_report(y_test,resultado,target_names=wine.target_names))"
      ]
    },
    {
      "cell_type": "markdown",
      "metadata": {
        "id": "quklsDgh2hQi"
      },
      "source": [
        "##Otimizando o parâmetro k utilizando o GridSearch"
      ]
    },
    {
      "cell_type": "code",
      "execution_count": null,
      "metadata": {
        "colab": {
          "base_uri": "https://localhost:8080/",
          "height": 408
        },
        "id": "afcV8jMe2j4K",
        "outputId": "269ccc10-24bb-4c39-c0f8-9277d62235fa"
      },
      "outputs": [],
      "source": [
        "# Definindo a lista de valores.\n",
        "k_list = list(range(1,31))\n",
        "\n",
        "# Colocamos os valores em um dicionário\n",
        "parametros = dict(n_neighbors=k_list)\n",
        "\n",
        "grid = GridSearchCV(knn, parametros, cv=5, scoring='accuracy')\n",
        "\n",
        "grid.fit(df_wine.drop('class',axis=1),df_wine['class'])\n",
        "\n",
        "print(\"Melhores parametros {} com o valor de acurácia {} \".format(grid.best_params_,grid.best_score_))\n",
        "\n",
        "scores = grid.cv_results_\n",
        "#print(type(scores))\n",
        "#print(scores.items)\n",
        "set_dados = scores.setdefault('mean_test_score')\n",
        "#set_dados\n",
        "#print(scores.mean_test_score)\n",
        "plt.figure(figsize=(10,6))\n",
        "plt.plot(k_list, set_dados, color='red', linestyle='dashed', marker='o')"
      ]
    }
  ],
  "metadata": {
    "colab": {
      "provenance": []
    },
    "kernelspec": {
      "display_name": "Python 3",
      "name": "python3"
    },
    "language_info": {
      "name": "python"
    }
  },
  "nbformat": 4,
  "nbformat_minor": 0
}
