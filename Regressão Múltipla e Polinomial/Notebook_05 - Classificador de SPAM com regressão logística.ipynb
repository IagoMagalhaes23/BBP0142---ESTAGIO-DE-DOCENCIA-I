{
  "cells": [
    {
      "cell_type": "markdown",
      "metadata": {
        "id": "46Wgvcemg2zt"
      },
      "source": [
        "#**Notebook 05**\n",
        "- **Professor:** Iális Cavalcante\n",
        "- **Monitor:** Iago Magalhães\n",
        "- **Disciplina:** Ciência de dados\n",
        "- **Curso:** Engenharia da Computação\n",
        "- **Descrição:**\n",
        "No notebook 05 vamos avançar um pouco mais sobre os conceitos de regressão logística.\n",
        "- **Questão:** Os alunos da Universidade Federal do Ceará recebem diversos spam's durante o semestre. Isso dificulta a comnicação de professores e alunos. Sabendo disso, o professor Iális decidiu desenvolver um classificador binário utilizando o algoritmo de regresão logística. Para isso, um dataset com amostras de spam e suas classes são disponibilizadas.\n",
        "\n"
      ]
    },
    {
      "cell_type": "markdown",
      "metadata": {
        "id": "YRh-JyH3z_cq"
      },
      "source": [
        "##Instalação de bibliotecas"
      ]
    },
    {
      "cell_type": "code",
      "execution_count": null,
      "metadata": {
        "id": "SJ8QNRmJ0CYh"
      },
      "outputs": [],
      "source": [
        "!pip install plotly --upgrade"
      ]
    },
    {
      "cell_type": "markdown",
      "metadata": {
        "id": "NOSU58lWh-ZL"
      },
      "source": [
        "##Importações de bibliotecas"
      ]
    },
    {
      "cell_type": "code",
      "execution_count": 29,
      "metadata": {
        "id": "UEMJd3sPfhzB"
      },
      "outputs": [],
      "source": [
        "import plotly.graph_objects as go\n",
        "import matplotlib.pyplot as plt\n",
        "import plotly.express as px\n",
        "import seaborn as sns\n",
        "import pandas as pd\n",
        "import numpy as np\n",
        "\n",
        "from sklearn.feature_extraction.text import TfidfVectorizer\n",
        "from sklearn.model_selection import train_test_split\n",
        "from sklearn.model_selection import cross_val_score\n",
        "from sklearn.linear_model import LogisticRegression\n",
        "from sklearn.metrics import ConfusionMatrixDisplay\n",
        "from sklearn.linear_model import LinearRegression\n",
        "from sklearn.metrics import mean_absolute_error\n",
        "from sklearn.metrics import mean_squared_error\n",
        "from sklearn.metrics import confusion_matrix\n",
        "from sklearn.metrics import max_error\n",
        "from sklearn import preprocessing"
      ]
    },
    {
      "cell_type": "markdown",
      "metadata": {
        "id": "G3fUxNosiBJh"
      },
      "source": [
        "##Leitura de dados"
      ]
    },
    {
      "cell_type": "code",
      "execution_count": null,
      "metadata": {
        "id": "iSP91hQ4iD9q"
      },
      "outputs": [],
      "source": [
        "#Leia a base de dados SMSSpamCollection e selecione os atributos\n",
        "atributos = ['', '']\n",
        "df_sms = pd.read_csv('', delimiter='\\t', header=None, names=atributos)\n",
        "df_sms"
      ]
    },
    {
      "cell_type": "markdown",
      "metadata": {
        "id": "JEOcnex_iGgf"
      },
      "source": [
        "##Funções extras"
      ]
    },
    {
      "cell_type": "code",
      "execution_count": null,
      "metadata": {
        "id": "IeaX1tjr3AMh"
      },
      "outputs": [],
      "source": []
    },
    {
      "cell_type": "markdown",
      "metadata": {
        "id": "aOXqXJqkiENs"
      },
      "source": [
        "##Análise de dados"
      ]
    },
    {
      "cell_type": "code",
      "execution_count": null,
      "metadata": {
        "id": "chLAAl8fiGNg"
      },
      "outputs": [],
      "source": [
        "sms = df_sms['mensagem'].values\n",
        "classe = df_sms['classe'].values\n",
        "print(sms)"
      ]
    },
    {
      "cell_type": "code",
      "execution_count": null,
      "metadata": {
        "id": "t6ULtq_iNmfa"
      },
      "outputs": [],
      "source": [
        "print(classe)"
      ]
    },
    {
      "cell_type": "markdown",
      "metadata": {
        "id": "Jh-Vz8518J5_"
      },
      "source": [
        "##Convertendo os textos para representações numéricas"
      ]
    },
    {
      "cell_type": "code",
      "execution_count": 11,
      "metadata": {
        "id": "zFaT_m0SYXWF"
      },
      "outputs": [],
      "source": [
        "tfidf = TfidfVectorizer(token_pattern=u'[a-zA-Z]{3,}')\n",
        "tfidf.fit(sms)\n",
        "sms_vector = tfidf.transform(sms)"
      ]
    },
    {
      "cell_type": "code",
      "execution_count": null,
      "metadata": {
        "id": "XOGgjCwqYuVR"
      },
      "outputs": [],
      "source": [
        "for key in sorted(tfidf.vocabulary_.keys())[:100]:\n",
        "    print(\"{}: {}\".format(key, tfidf.vocabulary_[key]))"
      ]
    },
    {
      "cell_type": "code",
      "execution_count": null,
      "metadata": {
        "id": "P0mDsPtOOSBs"
      },
      "outputs": [],
      "source": [
        "print('SMS original: {}'.format(sms[0]))"
      ]
    },
    {
      "cell_type": "code",
      "execution_count": null,
      "metadata": {
        "id": "d-G5fg-cZ5k9"
      },
      "outputs": [],
      "source": [
        "print('SMS tfidf value: {}'.format(sms_vector[0]))"
      ]
    },
    {
      "cell_type": "code",
      "execution_count": null,
      "metadata": {
        "id": "QbDvdAQiDrmB"
      },
      "outputs": [],
      "source": [
        "print('SMS vector: {}'.format(tfidf.inverse_transform(sms_vector[0])))"
      ]
    },
    {
      "cell_type": "code",
      "execution_count": 16,
      "metadata": {
        "id": "O9M5pL6K8dQX"
      },
      "outputs": [],
      "source": [
        "le = preprocessing.LabelEncoder()\n",
        "le.fit(classe)\n",
        "classe_encoder = le.transform(classe)"
      ]
    },
    {
      "cell_type": "code",
      "execution_count": null,
      "metadata": {
        "id": "N-E1vUQW8gdh"
      },
      "outputs": [],
      "source": [
        "print(classe_encoder)"
      ]
    },
    {
      "cell_type": "code",
      "execution_count": null,
      "metadata": {
        "id": "1uXInHWj8iHF"
      },
      "outputs": [],
      "source": [
        "print(le.classes_)"
      ]
    },
    {
      "cell_type": "markdown",
      "metadata": {
        "id": "Vb_YTl3niM5p"
      },
      "source": [
        "##Algoritmo de Machine Learning"
      ]
    },
    {
      "cell_type": "markdown",
      "metadata": {
        "id": "WisjkmPlicex"
      },
      "source": [
        "###Divisão de dados de treino e teste"
      ]
    },
    {
      "cell_type": "code",
      "execution_count": 19,
      "metadata": {
        "id": "W27ARJhjigh9"
      },
      "outputs": [],
      "source": [
        "X_train, X_test, y_train, y_test = train_test_split(sms_vector, classe_encoder, test_size = 0.3, random_state = 0)"
      ]
    },
    {
      "cell_type": "code",
      "execution_count": null,
      "metadata": {
        "id": "4Ie4jkHOcfeE"
      },
      "outputs": [],
      "source": [
        "print('Shape dos dados de treino: {}'.format(X_train.shape))\n",
        "print('Shape das classes de treino: {}'.format(y_train.shape, '\\n'))\n",
        "print('Shape dos dados de teste: {}'.format(X_test.shape))\n",
        "print('Shape das classes de teste: {}'.format(y_test.shape))"
      ]
    },
    {
      "cell_type": "markdown",
      "metadata": {
        "id": "8aoBpPNUigxw"
      },
      "source": [
        "###Algoritmo de Regressão Logística"
      ]
    },
    {
      "cell_type": "code",
      "execution_count": 25,
      "metadata": {
        "id": "BrLq0bN1imUX"
      },
      "outputs": [],
      "source": [
        "#Crie um algortimo de Regressão Logística\n",
        "regressor_log = _"
      ]
    },
    {
      "cell_type": "markdown",
      "metadata": {
        "id": "U6R3u6IIimw0"
      },
      "source": [
        "###Treinamento do modelo"
      ]
    },
    {
      "cell_type": "code",
      "execution_count": null,
      "metadata": {
        "id": "9_delDq4ipO6"
      },
      "outputs": [],
      "source": [
        "regressor_log.fit(X_train, y_train)"
      ]
    },
    {
      "cell_type": "code",
      "execution_count": null,
      "metadata": {
        "id": "cOr08QA7dN5F"
      },
      "outputs": [],
      "source": [
        "regressor_log.score(X_test, y_test)"
      ]
    },
    {
      "cell_type": "code",
      "execution_count": null,
      "metadata": {
        "id": "qFmFCRegdZMs"
      },
      "outputs": [],
      "source": [
        "#Realize previsões com a função predict\n",
        "previsoes = regressor_log._\n",
        "previsoes"
      ]
    },
    {
      "cell_type": "code",
      "execution_count": null,
      "metadata": {
        "id": "DsK5voDm9Pmg"
      },
      "outputs": [],
      "source": [
        "#Utilize a função cross_val_score com cv = 5 para realizar o treinamento com validação cruzada neste conjunto de dados\n",
        "scores_dt = _\n",
        "print(scores_dt.mean())"
      ]
    },
    {
      "cell_type": "markdown",
      "metadata": {
        "id": "diK5jeUciSio"
      },
      "source": [
        "##Visualização dos resultados"
      ]
    },
    {
      "cell_type": "code",
      "execution_count": null,
      "metadata": {
        "id": "JaJfIalG9dzT"
      },
      "outputs": [],
      "source": [
        "#Plote a matriz de confusão\n",
        "matrix = confusion_matrix(_, _)\n",
        "print(matrix)"
      ]
    },
    {
      "cell_type": "code",
      "execution_count": null,
      "metadata": {
        "id": "QgT5BlHm9juG"
      },
      "outputs": [],
      "source": [
        "disp = ConfusionMatrixDisplay(confusion_matrix=matrix, display_labels=le.classes_)\n",
        "disp.plot();"
      ]
    },
    {
      "cell_type": "markdown",
      "metadata": {
        "id": "mnEU8gwT4p_i"
      },
      "source": [
        "##Atividades de casa\n",
        "- Analise o desempenho de outros algoritmos para o mesmo problema."
      ]
    },
    {
      "cell_type": "markdown",
      "metadata": {
        "id": "Nx0py0djiU5x"
      },
      "source": [
        "##Referências\n",
        "- [Regressão Logística com SKLearn](https://scikit-learn.org/stable/modules/generated/sklearn.linear_model.LogisticRegression.html)\n",
        "- [Regressão Logística](https://www.sakurai.dev.br/regressao-logistica/)\n",
        "- [Matriz de confusão](https://www.ibm.com/docs/pt-br/db2/10.5?topic=visualizer-confusion-matrix-view)"
      ]
    }
  ],
  "metadata": {
    "colab": {
      "provenance": [],
      "toc_visible": true
    },
    "kernelspec": {
      "display_name": "Python 3",
      "name": "python3"
    },
    "language_info": {
      "name": "python"
    }
  },
  "nbformat": 4,
  "nbformat_minor": 0
}
