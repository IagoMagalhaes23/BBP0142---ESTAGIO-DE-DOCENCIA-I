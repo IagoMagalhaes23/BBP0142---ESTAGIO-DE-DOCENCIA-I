{
  "nbformat": 4,
  "nbformat_minor": 0,
  "metadata": {
    "colab": {
      "provenance": [],
      "toc_visible": true
    },
    "kernelspec": {
      "name": "python3",
      "display_name": "Python 3"
    },
    "language_info": {
      "name": "python"
    }
  },
  "cells": [
    {
      "cell_type": "markdown",
      "source": [
        "#**Notebook 05**\n",
        "- **Professor:** Iális Cavalcante\n",
        "- **Monitor:** Iago Magalhães\n",
        "- **Disciplina:** Ciência de dados\n",
        "- **Curso:** Engenharia da Computação\n",
        "- **Descrição:**\n",
        "No notebook 05 vamos avançar um pouco mais sobre os conceitos de regressão logística.\n",
        "- **Questão:** Os alunos da Universidade Federal do Ceará recebem diversos spam's durante o semestre. Isso dificulta a comnicação de professores e alunos. Sabendo disso, o professor Iális decidiu desenvolver um classificador binário utilizando o algoritmo de regresão logística. Para isso, um dataset com amostras de spam e suas classes são disponibilizadas.\n",
        "\n"
      ],
      "metadata": {
        "id": "46Wgvcemg2zt"
      }
    },
    {
      "cell_type": "markdown",
      "source": [
        "##Instalação de bibliotecas"
      ],
      "metadata": {
        "id": "YRh-JyH3z_cq"
      }
    },
    {
      "cell_type": "code",
      "source": [
        "!pip install plotly --upgrade"
      ],
      "metadata": {
        "id": "SJ8QNRmJ0CYh"
      },
      "execution_count": null,
      "outputs": []
    },
    {
      "cell_type": "markdown",
      "source": [
        "##Importações de bibliotecas"
      ],
      "metadata": {
        "id": "NOSU58lWh-ZL"
      }
    },
    {
      "cell_type": "code",
      "execution_count": 29,
      "metadata": {
        "id": "UEMJd3sPfhzB"
      },
      "outputs": [],
      "source": [
        "import plotly.graph_objects as go\n",
        "import matplotlib.pyplot as plt\n",
        "import plotly.express as px\n",
        "import seaborn as sns\n",
        "import pandas as pd\n",
        "import numpy as np\n",
        "\n",
        "from sklearn.feature_extraction.text import TfidfVectorizer\n",
        "from sklearn.model_selection import train_test_split\n",
        "from sklearn.model_selection import cross_val_score\n",
        "from sklearn.linear_model import LogisticRegression\n",
        "from sklearn.metrics import ConfusionMatrixDisplay\n",
        "from sklearn.linear_model import LinearRegression\n",
        "from sklearn.metrics import mean_absolute_error\n",
        "from sklearn.metrics import mean_squared_error\n",
        "from sklearn.metrics import confusion_matrix\n",
        "from sklearn.metrics import max_error\n",
        "from sklearn import preprocessing"
      ]
    },
    {
      "cell_type": "markdown",
      "source": [
        "##Leitura de dados"
      ],
      "metadata": {
        "id": "G3fUxNosiBJh"
      }
    },
    {
      "cell_type": "code",
      "source": [
        "atributos = ['classe', 'mensagem']\n",
        "df_sms = pd.read_csv('SMSSpamCollection', delimiter='\\t', header=None, names=atributos)\n",
        "df_sms"
      ],
      "metadata": {
        "id": "iSP91hQ4iD9q"
      },
      "execution_count": null,
      "outputs": []
    },
    {
      "cell_type": "markdown",
      "source": [
        "##Funções extras"
      ],
      "metadata": {
        "id": "JEOcnex_iGgf"
      }
    },
    {
      "cell_type": "code",
      "source": [],
      "metadata": {
        "id": "IeaX1tjr3AMh"
      },
      "execution_count": null,
      "outputs": []
    },
    {
      "cell_type": "markdown",
      "source": [
        "##Análise de dados"
      ],
      "metadata": {
        "id": "aOXqXJqkiENs"
      }
    },
    {
      "cell_type": "code",
      "source": [
        "sms = df_sms['mensagem'].values\n",
        "classe = df_sms['classe'].values\n",
        "print(sms)"
      ],
      "metadata": {
        "id": "chLAAl8fiGNg"
      },
      "execution_count": null,
      "outputs": []
    },
    {
      "cell_type": "code",
      "source": [
        "print(classe)"
      ],
      "metadata": {
        "id": "t6ULtq_iNmfa"
      },
      "execution_count": null,
      "outputs": []
    },
    {
      "cell_type": "markdown",
      "source": [
        "##Convertendo os textos para representações numéricas"
      ],
      "metadata": {
        "id": "Jh-Vz8518J5_"
      }
    },
    {
      "cell_type": "code",
      "source": [
        "tfidf = TfidfVectorizer(token_pattern=u'[a-zA-Z]{3,}')\n",
        "tfidf.fit(sms)\n",
        "sms_vector = tfidf.transform(sms)"
      ],
      "metadata": {
        "id": "zFaT_m0SYXWF"
      },
      "execution_count": 11,
      "outputs": []
    },
    {
      "cell_type": "code",
      "source": [
        "for key in sorted(tfidf.vocabulary_.keys())[:100]:\n",
        "    print(\"{}: {}\".format(key, tfidf.vocabulary_[key]))"
      ],
      "metadata": {
        "id": "XOGgjCwqYuVR"
      },
      "execution_count": null,
      "outputs": []
    },
    {
      "cell_type": "code",
      "source": [
        "print('SMS original: {}'.format(sms[0]))"
      ],
      "metadata": {
        "id": "P0mDsPtOOSBs"
      },
      "execution_count": null,
      "outputs": []
    },
    {
      "cell_type": "code",
      "source": [
        "print('SMS tfidf value: {}'.format(sms_vector[0]))"
      ],
      "metadata": {
        "id": "d-G5fg-cZ5k9"
      },
      "execution_count": null,
      "outputs": []
    },
    {
      "cell_type": "code",
      "source": [
        "print('SMS vector: {}'.format(tfidf.inverse_transform(sms_vector[0])))"
      ],
      "metadata": {
        "id": "QbDvdAQiDrmB"
      },
      "execution_count": null,
      "outputs": []
    },
    {
      "cell_type": "code",
      "source": [
        "le = preprocessing.LabelEncoder()\n",
        "le.fit(classe)\n",
        "classe_encoder = le.transform(classe)"
      ],
      "metadata": {
        "id": "O9M5pL6K8dQX"
      },
      "execution_count": 16,
      "outputs": []
    },
    {
      "cell_type": "code",
      "source": [
        "print(classe_encoder)"
      ],
      "metadata": {
        "id": "N-E1vUQW8gdh"
      },
      "execution_count": null,
      "outputs": []
    },
    {
      "cell_type": "code",
      "source": [
        "print(le.classes_)"
      ],
      "metadata": {
        "id": "1uXInHWj8iHF"
      },
      "execution_count": null,
      "outputs": []
    },
    {
      "cell_type": "markdown",
      "source": [
        "##Algoritmo de Machine Learning"
      ],
      "metadata": {
        "id": "Vb_YTl3niM5p"
      }
    },
    {
      "cell_type": "markdown",
      "source": [
        "###Divisão de dados de treino e teste"
      ],
      "metadata": {
        "id": "WisjkmPlicex"
      }
    },
    {
      "cell_type": "code",
      "source": [
        "X_train, X_test, y_train, y_test = train_test_split(sms_vector, classe_encoder, test_size = 0.3, random_state = 0)"
      ],
      "metadata": {
        "id": "W27ARJhjigh9"
      },
      "execution_count": 19,
      "outputs": []
    },
    {
      "cell_type": "code",
      "source": [
        "print('Shape dos dados de treino: {}'.format(X_train.shape))\n",
        "print('Shape das classes de treino: {}'.format(y_train.shape, '\\n'))\n",
        "print('Shape dos dados de teste: {}'.format(X_test.shape))\n",
        "print('Shape das classes de teste: {}'.format(y_test.shape))"
      ],
      "metadata": {
        "id": "4Ie4jkHOcfeE"
      },
      "execution_count": null,
      "outputs": []
    },
    {
      "cell_type": "markdown",
      "source": [
        "###Algoritmo de Regressão Logística"
      ],
      "metadata": {
        "id": "8aoBpPNUigxw"
      }
    },
    {
      "cell_type": "code",
      "source": [
        "#Crie um algortimo de Regressão Logística\n",
        "regressor_log = LogisticRegression()"
      ],
      "metadata": {
        "id": "BrLq0bN1imUX"
      },
      "execution_count": 25,
      "outputs": []
    },
    {
      "cell_type": "markdown",
      "source": [
        "###Treinamento do modelo"
      ],
      "metadata": {
        "id": "U6R3u6IIimw0"
      }
    },
    {
      "cell_type": "code",
      "source": [
        "#Treine o modelo com a função fit\n",
        "regressor_log.fit(X_train, y_train)"
      ],
      "metadata": {
        "id": "9_delDq4ipO6"
      },
      "execution_count": null,
      "outputs": []
    },
    {
      "cell_type": "code",
      "source": [
        "regressor_log.score(X_test, y_test)"
      ],
      "metadata": {
        "id": "cOr08QA7dN5F"
      },
      "execution_count": null,
      "outputs": []
    },
    {
      "cell_type": "code",
      "source": [
        "#Realize previsões com a função predict\n",
        "previsoes = regressor_log.predict(X_test)\n",
        "previsoes"
      ],
      "metadata": {
        "id": "qFmFCRegdZMs"
      },
      "execution_count": null,
      "outputs": []
    },
    {
      "cell_type": "code",
      "source": [
        "scores_dt = cross_val_score(regressor_log, X_test, y_test, scoring='accuracy', cv=5)\n",
        "print(scores_dt.mean())"
      ],
      "metadata": {
        "id": "DsK5voDm9Pmg"
      },
      "execution_count": null,
      "outputs": []
    },
    {
      "cell_type": "markdown",
      "source": [
        "##Visualização dos resultados"
      ],
      "metadata": {
        "id": "diK5jeUciSio"
      }
    },
    {
      "cell_type": "code",
      "source": [
        "matrix = confusion_matrix(y_test, previsoes)\n",
        "print(matrix)"
      ],
      "metadata": {
        "id": "JaJfIalG9dzT"
      },
      "execution_count": null,
      "outputs": []
    },
    {
      "cell_type": "code",
      "source": [
        "disp = ConfusionMatrixDisplay(confusion_matrix=matrix, display_labels=le.classes_)\n",
        "disp.plot();"
      ],
      "metadata": {
        "id": "QgT5BlHm9juG"
      },
      "execution_count": null,
      "outputs": []
    },
    {
      "cell_type": "markdown",
      "source": [
        "##Atividades de casa\n",
        "- Analise o desempenho de outros algoritmos para o mesmo problema."
      ],
      "metadata": {
        "id": "mnEU8gwT4p_i"
      }
    },
    {
      "cell_type": "markdown",
      "source": [
        "##Referências\n",
        "- [Regressão Logística com SKLearn](https://scikit-learn.org/stable/modules/generated/sklearn.linear_model.LogisticRegression.html)\n",
        "- [Regressão Logística](https://www.sakurai.dev.br/regressao-logistica/)\n",
        "- [Matriz de confusão](https://www.ibm.com/docs/pt-br/db2/10.5?topic=visualizer-confusion-matrix-view)"
      ],
      "metadata": {
        "id": "Nx0py0djiU5x"
      }
    }
  ]
}