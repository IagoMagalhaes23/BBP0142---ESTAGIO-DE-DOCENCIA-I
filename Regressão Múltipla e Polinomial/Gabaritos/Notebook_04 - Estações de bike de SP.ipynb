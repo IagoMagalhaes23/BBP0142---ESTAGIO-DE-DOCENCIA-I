{
  "nbformat": 4,
  "nbformat_minor": 0,
  "metadata": {
    "colab": {
      "provenance": [],
      "toc_visible": true
    },
    "kernelspec": {
      "name": "python3",
      "display_name": "Python 3"
    },
    "language_info": {
      "name": "python"
    }
  },
  "cells": [
    {
      "cell_type": "markdown",
      "source": [
        "#**Notebook 04**\n",
        "- **Professor:** Iális Cavalcante\n",
        "- **Monitor:** Iago Magalhães\n",
        "- **Disciplina:** Ciência de dados\n",
        "- **Curso:** Engenharia da Computação\n",
        "- **Descrição:**\n",
        "No notebook 04 iremos aprender sobre regressão polinomial.\n",
        "- **Questão:** O aluno João Vitor deseja práticar exercícios diariamente. Usando seus conhecimentos, ele encontrou uma base de dados sobre estações de bicicleta na cidade de São Paulo e com base nas infromações contidas nela, vai buscar extrair dados para que consiga agendar as bicicletas em horários e dias com maior disponibilidade.\n",
        "\n"
      ],
      "metadata": {
        "id": "46Wgvcemg2zt"
      }
    },
    {
      "cell_type": "markdown",
      "source": [
        "##Importações de bibliotecas"
      ],
      "metadata": {
        "id": "NOSU58lWh-ZL"
      }
    },
    {
      "cell_type": "code",
      "execution_count": null,
      "metadata": {
        "id": "UEMJd3sPfhzB"
      },
      "outputs": [],
      "source": [
        "import matplotlib.pyplot as plt\n",
        "import datetime as dt\n",
        "import seaborn as sns\n",
        "import pandas as pd\n",
        "import numpy as np\n",
        "import folium\n",
        "\n",
        "from sklearn.preprocessing import PolynomialFeatures\n",
        "from sklearn.model_selection import train_test_split\n",
        "from sklearn.linear_model import LinearRegression\n",
        "from sklearn.metrics import mean_absolute_error\n",
        "from sklearn.metrics import mean_squared_error\n",
        "from sklearn.metrics import max_error"
      ]
    },
    {
      "cell_type": "markdown",
      "source": [
        "##Leitura de dados"
      ],
      "metadata": {
        "id": "G3fUxNosiBJh"
      }
    },
    {
      "cell_type": "code",
      "source": [
        "df = pd.read_csv('sp_bike.csv')\n",
        "df.head()"
      ],
      "metadata": {
        "id": "iSP91hQ4iD9q"
      },
      "execution_count": null,
      "outputs": []
    },
    {
      "cell_type": "markdown",
      "source": [
        "##Análise de dados"
      ],
      "metadata": {
        "id": "aOXqXJqkiENs"
      }
    },
    {
      "cell_type": "code",
      "source": [
        "#Verificando estações ativas\n",
        "df = df[df.status == 'A']\n",
        "df.head()"
      ],
      "metadata": {
        "id": "chLAAl8fiGNg"
      },
      "execution_count": null,
      "outputs": []
    },
    {
      "cell_type": "code",
      "source": [
        "#Removendo estações duplicadas para mostrar uma de cada no mapa.\n",
        "df_estacoes = df[['name', 'lat', 'lng']].drop_duplicates()\n",
        "df_estacoes.info()"
      ],
      "metadata": {
        "id": "t6ULtq_iNmfa"
      },
      "execution_count": null,
      "outputs": []
    },
    {
      "cell_type": "code",
      "source": [
        "#Gerando um gráfico com as localizações das estações na cidade de São Paulo\n",
        "cord_center = [df_estacoes.lat.mean(), df_estacoes.lng.mean()]\n",
        "mp = folium.Map(location=cord_center, zoom_start=13, tiles='cartodbpositron')\n",
        "for i, location in df_estacoes.iterrows():\n",
        "    folium.CircleMarker(\n",
        "        location=[location['lat'],location['lng']],\n",
        "        radius=2,\n",
        "        popup=location['name']\n",
        "    ).add_to(mp)\n",
        "mp"
      ],
      "metadata": {
        "id": "zFaT_m0SYXWF"
      },
      "execution_count": null,
      "outputs": []
    },
    {
      "cell_type": "markdown",
      "source": [
        "###Verificar a disponibilidade das bicicletas nas estações"
      ],
      "metadata": {
        "id": "yw0X7M1bluli"
      }
    },
    {
      "cell_type": "code",
      "source": [
        "df['created_at'] = pd.to_datetime(df.created_at)\n",
        "df['hora'] = df['created_at'].apply(lambda x: dt.datetime.strftime(x, '%H'))\n",
        "df['dia_semana'] = df['created_at'].dt.weekday\n",
        "df.head()"
      ],
      "metadata": {
        "id": "XOGgjCwqYuVR"
      },
      "execution_count": null,
      "outputs": []
    },
    {
      "cell_type": "code",
      "source": [
        "df_media_hora = df.groupby(['name', 'hora', 'dia_semana'], as_index=False).agg('mean')\n",
        "df_media_hora['available'] = df_media_hora['available'].astype(int)\n",
        "df_media_hora.head()"
      ],
      "metadata": {
        "id": "P0mDsPtOOSBs"
      },
      "execution_count": null,
      "outputs": []
    },
    {
      "cell_type": "code",
      "source": [
        "df_media_hora[df_media_hora.name == 'Metrô Faria Lima']"
      ],
      "metadata": {
        "id": "d-G5fg-cZ5k9"
      },
      "execution_count": null,
      "outputs": []
    },
    {
      "cell_type": "code",
      "source": [
        "df_hora = df_media_hora[['hora', 'available']].groupby(['hora'], as_index=False).agg('mean')\n",
        "df_hora.head()"
      ],
      "metadata": {
        "id": "QbDvdAQiDrmB"
      },
      "execution_count": null,
      "outputs": []
    },
    {
      "cell_type": "code",
      "source": [
        "sns.lineplot(data=df_hora, x=\"hora\", y=\"available\")"
      ],
      "metadata": {
        "id": "fWNmsDBwl522"
      },
      "execution_count": null,
      "outputs": []
    },
    {
      "cell_type": "markdown",
      "source": [
        "##Algoritmo de Machine Learning"
      ],
      "metadata": {
        "id": "Vb_YTl3niM5p"
      }
    },
    {
      "cell_type": "markdown",
      "source": [
        "###Algoritmo de Regressão Linear"
      ],
      "metadata": {
        "id": "8aoBpPNUigxw"
      }
    },
    {
      "cell_type": "code",
      "source": [
        "X = df_hora[['hora']].astype(int).values\n",
        "y = df_hora[['available']].values\n",
        "\n",
        "model = LinearRegression()\n",
        "model.fit(X, y)\n",
        "\n",
        "y_hora_linear = model.predict(X)"
      ],
      "metadata": {
        "id": "W27ARJhjigh9"
      },
      "execution_count": null,
      "outputs": []
    },
    {
      "cell_type": "code",
      "source": [
        "sns.scatterplot(data=df_hora, x='hora', y='available');\n",
        "plt.plot(X, y_hora_linear, color='r')\n",
        "plt.show()"
      ],
      "metadata": {
        "id": "4Ie4jkHOcfeE"
      },
      "execution_count": null,
      "outputs": []
    },
    {
      "cell_type": "code",
      "source": [
        "mean_squared_error(y, y_hora_linear, squared=False)"
      ],
      "metadata": {
        "id": "2io1mNwCmNNO"
      },
      "execution_count": null,
      "outputs": []
    },
    {
      "cell_type": "markdown",
      "source": [
        "###Algoritmo de Regressão Polinomial"
      ],
      "metadata": {
        "id": "hvBwRuQgmQpj"
      }
    },
    {
      "cell_type": "code",
      "source": [
        "polinomial = PolynomialFeatures(degree=7, include_bias=False)\n",
        "X_polinomial = polinomial.fit_transform(X)"
      ],
      "metadata": {
        "id": "BrLq0bN1imUX"
      },
      "execution_count": null,
      "outputs": []
    },
    {
      "cell_type": "code",
      "source": [
        "model = LinearRegression()\n",
        "model.fit(X_polinomial, y)\n",
        "\n",
        "y_polinomial = model.predict(X_polinomial)"
      ],
      "metadata": {
        "id": "n2GvJNBQmUEP"
      },
      "execution_count": null,
      "outputs": []
    },
    {
      "cell_type": "code",
      "source": [
        "sns.scatterplot(data=df_hora, x='hora', y='available');\n",
        "plt.plot(X, y_polinomial, color='g')\n",
        "plt.show()"
      ],
      "metadata": {
        "id": "PyRBwpXkmWVm"
      },
      "execution_count": null,
      "outputs": []
    },
    {
      "cell_type": "code",
      "source": [
        "mean_squared_error(y, y_polinomial, squared=False)"
      ],
      "metadata": {
        "id": "VS5HU2Aema4C"
      },
      "execution_count": null,
      "outputs": []
    },
    {
      "cell_type": "markdown",
      "source": [
        "###Treinando uma Regressão Polinomial para uma estação específica"
      ],
      "metadata": {
        "id": "U6R3u6IIimw0"
      }
    },
    {
      "cell_type": "code",
      "source": [
        "df_metro_fl = df_media_hora[df_media_hora.name == 'Metrô Faria Lima']\n",
        "df_metro_fl.head()"
      ],
      "metadata": {
        "id": "9_delDq4ipO6"
      },
      "execution_count": null,
      "outputs": []
    },
    {
      "cell_type": "code",
      "source": [
        "sns.lineplot(data=df_metro_fl, x=\"hora\", y=\"available\", hue='dia_semana')"
      ],
      "metadata": {
        "id": "cOr08QA7dN5F"
      },
      "execution_count": null,
      "outputs": []
    },
    {
      "cell_type": "code",
      "source": [
        "df_metro_fl_dia_semana = df_metro_fl[df_metro_fl.dia_semana < 5]"
      ],
      "metadata": {
        "id": "qFmFCRegdZMs"
      },
      "execution_count": null,
      "outputs": []
    },
    {
      "cell_type": "code",
      "source": [
        "sns.lineplot(data=df_metro_fl_dia_semana, x=\"hora\", y=\"available\", hue='dia_semana')"
      ],
      "metadata": {
        "id": "_y3GreB-mZvY"
      },
      "execution_count": null,
      "outputs": []
    },
    {
      "cell_type": "code",
      "source": [
        "df_metro_fl_fim_semana = df_metro_fl[df_metro_fl.dia_semana >= 5]"
      ],
      "metadata": {
        "id": "WUcW4dYGmnrX"
      },
      "execution_count": null,
      "outputs": []
    },
    {
      "cell_type": "code",
      "source": [
        "sns.lineplot(data=df_metro_fl_fim_semana, x=\"hora\", y=\"available\", hue='dia_semana');"
      ],
      "metadata": {
        "id": "v7YuLTL_mpvw"
      },
      "execution_count": null,
      "outputs": []
    },
    {
      "cell_type": "code",
      "source": [
        "df_media_dia_semana = df_metro_fl_dia_semana.groupby(['hora'], as_index=False).agg('mean')\n",
        "df_media_fim_semana = df_metro_fl_fim_semana.groupby(['hora'], as_index=False).agg('mean')"
      ],
      "metadata": {
        "id": "vTCEECz1msjk"
      },
      "execution_count": null,
      "outputs": []
    },
    {
      "cell_type": "code",
      "source": [
        "plt.plot(df_media_dia_semana['hora'], df_media_dia_semana['available'], color='r')\n",
        "plt.plot(df_media_fim_semana['hora'], df_media_fim_semana['available'], color='b')\n",
        "plt.show()"
      ],
      "metadata": {
        "id": "K-y7e4ZAmuW4"
      },
      "execution_count": null,
      "outputs": []
    },
    {
      "cell_type": "markdown",
      "source": [
        "###Treinando a Regressão Polinomial para os dias da semana"
      ],
      "metadata": {
        "id": "6LHnjPvlmxlP"
      }
    },
    {
      "cell_type": "code",
      "source": [
        "X_dia_semana = df_media_dia_semana[['hora']].astype(int).values\n",
        "y_dia_semana = df_media_dia_semana[['available']].values"
      ],
      "metadata": {
        "id": "4JMw8S-Gmyfc"
      },
      "execution_count": null,
      "outputs": []
    },
    {
      "cell_type": "code",
      "source": [
        "polinomial = PolynomialFeatures(degree=7, include_bias=False)\n",
        "X_dia_semana_polinomial = polinomial.fit_transform(X_dia_semana)"
      ],
      "metadata": {
        "id": "CgwsKoglm2N-"
      },
      "execution_count": null,
      "outputs": []
    },
    {
      "cell_type": "code",
      "source": [
        "model = LinearRegression()\n",
        "model.fit(X_dia_semana_polinomial, y_dia_semana)"
      ],
      "metadata": {
        "id": "-5VSCCutm34M"
      },
      "execution_count": null,
      "outputs": []
    },
    {
      "cell_type": "code",
      "source": [
        "y_dia_semana_polinomial = model.predict(X_dia_semana_polinomial)"
      ],
      "metadata": {
        "id": "amEfq9KCm6kJ"
      },
      "execution_count": null,
      "outputs": []
    },
    {
      "cell_type": "code",
      "source": [
        "sns.scatterplot(data=df_media_dia_semana, x='hora', y='available');\n",
        "plt.plot(X_dia_semana, y_dia_semana_polinomial, color='g')\n",
        "plt.show()"
      ],
      "metadata": {
        "id": "oQnZi4xUm8IH"
      },
      "execution_count": null,
      "outputs": []
    },
    {
      "cell_type": "code",
      "source": [
        "mean_squared_error(y_dia_semana, y_dia_semana_polinomial, squared=False)"
      ],
      "metadata": {
        "id": "fcnGlGPwm-D9"
      },
      "execution_count": null,
      "outputs": []
    },
    {
      "cell_type": "markdown",
      "source": [
        "###Treinando a Regressão Polinomial para o final de semana"
      ],
      "metadata": {
        "id": "WhUblt3LnAiE"
      }
    },
    {
      "cell_type": "code",
      "source": [
        "X_fim_semana = df_media_fim_semana[['hora']].astype(int).values\n",
        "y_fim_semana = df_media_fim_semana[['available']].values"
      ],
      "metadata": {
        "id": "dKRWvt1RnBLu"
      },
      "execution_count": null,
      "outputs": []
    },
    {
      "cell_type": "code",
      "source": [
        "polinomial = PolynomialFeatures(degree=7, include_bias=False)\n",
        "X_fim_semana_polinomial = polinomial.fit_transform(X_fim_semana)"
      ],
      "metadata": {
        "id": "XuoIohkYnDVn"
      },
      "execution_count": null,
      "outputs": []
    },
    {
      "cell_type": "code",
      "source": [
        "model = LinearRegression()\n",
        "model.fit(X_fim_semana_polinomial, y_fim_semana)"
      ],
      "metadata": {
        "id": "sVRAACMnnGIE"
      },
      "execution_count": null,
      "outputs": []
    },
    {
      "cell_type": "code",
      "source": [
        "y_fim_semana_polinomial = model.predict(X_fim_semana_polinomial)"
      ],
      "metadata": {
        "id": "1Xi5Yn7wnGji"
      },
      "execution_count": null,
      "outputs": []
    },
    {
      "cell_type": "code",
      "source": [
        "sns.scatterplot(data=df_media_fim_semana, x='hora', y='available');\n",
        "plt.plot(X_fim_semana, y_fim_semana_polinomial, color='g')\n",
        "plt.show()"
      ],
      "metadata": {
        "id": "CdpDC_s3nIZI"
      },
      "execution_count": null,
      "outputs": []
    },
    {
      "cell_type": "code",
      "source": [
        "mean_squared_error(y_fim_semana, y_fim_semana_polinomial, squared=False)"
      ],
      "metadata": {
        "id": "6U3i9HIgnLv7"
      },
      "execution_count": null,
      "outputs": []
    },
    {
      "cell_type": "markdown",
      "source": [
        "##Atividades de casa\n",
        "- Analise a possibilidade de realizar previsões de horários em que as estações tem menor movimento em dias especifícos da semana com o algoritmo de regressão polinomial."
      ],
      "metadata": {
        "id": "mnEU8gwT4p_i"
      }
    },
    {
      "cell_type": "markdown",
      "source": [
        "##Referências\n",
        "- [Regressão Polinomial](https://www.sakurai.dev.br/regressao-polinomial/)\n",
        "- [Folium](https://python-visualization.github.io/folium/latest/)\n",
        "- [Dataset Bicycle Sharing Brazil](https://www.kaggle.com/datasets/marlesson/bicycle-sharing-brazil-sp-gyn)"
      ],
      "metadata": {
        "id": "Nx0py0djiU5x"
      }
    }
  ]
}