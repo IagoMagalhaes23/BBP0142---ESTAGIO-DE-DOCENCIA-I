{
  "cells": [
    {
      "cell_type": "markdown",
      "metadata": {
        "id": "46Wgvcemg2zt"
      },
      "source": [
        "#**Notebook 06**\n",
        "- **Professor:** Iális Cavalcante\n",
        "- **Monitor:** Iago Magalhães\n",
        "- **Disciplina:** Ciência de dados\n",
        "- **Curso:** Engenharia da Computação\n",
        "- **Descrição:**\n",
        "No notebook 06 iremos aprender sobre regressão múltipla.\n",
        "- **Questão:** O número de fumantes ainda é gigantesco e entender o comportamento desse público é de fundamental importância para campanhas de concientização. Neste dataset, possuimos informações sobre clientes de cigarros. Ajude a equipe de saúde a entender mais sobre os dados presente nessa base de dados, auxiliando com uma análise de dados sobre qual faixa de idade e sexo que mais consomem este produto e através de um algoritmo de regressão indique qual o valor gasto com cigarro por cada cliente.\n",
        "\n"
      ]
    },
    {
      "cell_type": "markdown",
      "metadata": {
        "id": "NOSU58lWh-ZL"
      },
      "source": [
        "##Importações de bibliotecas"
      ]
    },
    {
      "cell_type": "code",
      "execution_count": null,
      "metadata": {
        "id": "UEMJd3sPfhzB"
      },
      "outputs": [],
      "source": [
        "import pandas as pd\n",
        "import numpy as np\n",
        "import matplotlib.pyplot as plt\n",
        "import seaborn as sns\n",
        "from sklearn import metrics\n",
        "import statsmodels.api as sm\n",
        "pd.set_option('display.max_columns', 500)\n",
        "from sklearn.model_selection import train_test_split\n",
        "import warnings\n",
        "warnings.filterwarnings(\"ignore\")\n",
        "from scipy.stats import kurtosis\n",
        "import statsmodels.stats.api as sms\n",
        "from statsmodels.compat import lzip\n",
        "from statsmodels.graphics.gofplots import qqplot\n",
        "from statsmodels.graphics.tsaplots import plot_acf\n",
        "from statsmodels.stats.diagnostic import het_breuschpagan, het_goldfeldquandt,het_white\n",
        "from statsmodels.stats.diagnostic import linear_harvey_collier, linear_reset, spec_white\n",
        "from statsmodels.stats.diagnostic import linear_rainbow\n",
        "from statsmodels.graphics.regressionplots import plot_leverage_resid2\n",
        "from yellowbrick.regressor import CooksDistance\n",
        "from statsmodels.stats.outliers_influence import OLSInfluence, variance_inflation_factor\n",
        "from sklearn.linear_model import LinearRegression\n",
        "from sklearn.preprocessing import LabelEncoder"
      ]
    },
    {
      "cell_type": "markdown",
      "metadata": {
        "id": "G3fUxNosiBJh"
      },
      "source": [
        "##Leitura de dados"
      ]
    },
    {
      "cell_type": "code",
      "execution_count": null,
      "metadata": {
        "id": "iSP91hQ4iD9q"
      },
      "outputs": [],
      "source": [
        "df = pd.read_csv('insurance.csv')\n",
        "df.head()"
      ]
    },
    {
      "cell_type": "markdown",
      "metadata": {
        "id": "aOXqXJqkiENs"
      },
      "source": [
        "##Análise de dados"
      ]
    },
    {
      "cell_type": "code",
      "execution_count": null,
      "metadata": {
        "id": "chLAAl8fiGNg"
      },
      "outputs": [],
      "source": [
        "df.describe()"
      ]
    },
    {
      "cell_type": "code",
      "execution_count": null,
      "metadata": {
        "id": "t6ULtq_iNmfa"
      },
      "outputs": [],
      "source": [
        "le = LabelEncoder()\n",
        "\n",
        "#sex\n",
        "le.fit(df.sex)\n",
        "df.sex = le.transform(df.sex)\n",
        "\n",
        "# smoker\n",
        "le.fit(df.smoker)\n",
        "df.smoker = le.transform(df.smoker)\n",
        "\n",
        "#region\n",
        "le.fit(df.region)\n",
        "df.region = le.transform(df.region)"
      ]
    },
    {
      "cell_type": "code",
      "execution_count": null,
      "metadata": {
        "id": "zFaT_m0SYXWF"
      },
      "outputs": [],
      "source": [
        "df.info()"
      ]
    },
    {
      "cell_type": "code",
      "execution_count": null,
      "metadata": {
        "id": "XOGgjCwqYuVR"
      },
      "outputs": [],
      "source": [
        "corr = df.corr()\n",
        "corr"
      ]
    },
    {
      "cell_type": "code",
      "execution_count": null,
      "metadata": {
        "id": "P0mDsPtOOSBs"
      },
      "outputs": [],
      "source": [
        "f, ax = plt.subplots(figsize=(10, 8))\n",
        "sns.heatmap(corr, cmap=sns.color_palette(\"Blues\"), linewidths=.5, annot=True);"
      ]
    },
    {
      "cell_type": "code",
      "execution_count": null,
      "metadata": {
        "id": "d-G5fg-cZ5k9"
      },
      "outputs": [],
      "source": [
        "plt.figure(figsize=(12,5))\n",
        "plt.title(\"Distribuição dos custos\")\n",
        "ax = sns.distplot(df[\"charges\"], color = 'b')"
      ]
    },
    {
      "cell_type": "code",
      "execution_count": null,
      "metadata": {
        "id": "QbDvdAQiDrmB"
      },
      "outputs": [],
      "source": [
        "fig= plt.figure(figsize=(17,6))\n",
        "\n",
        "ax=fig.add_subplot(121)\n",
        "sns.distplot(df[(df.smoker == 1)][\"charges\"],color='r',ax=ax)\n",
        "ax.set_title('Distribuição de gastos por fumantes');\n",
        "\n",
        "ax=fig.add_subplot(122)\n",
        "sns.distplot(df[(df.smoker == 0)]['charges'],color='c',ax=ax)\n",
        "ax.set_title('Distribuição de gastos por não fumantes');"
      ]
    },
    {
      "cell_type": "code",
      "execution_count": null,
      "metadata": {
        "id": "fWNmsDBwl522"
      },
      "outputs": [],
      "source": [
        "g = sns.catplot(x=\"smoker\", kind=\"count\",hue = 'sex', palette=\"Blues_r\", data=df,legend_out= True)\n",
        "\n",
        "# Eixos\n",
        "(g.set_axis_labels(\"\", \"Total\")\n",
        "  .set_xticklabels([\"Não Fumante\", \"Fumante\"])\n",
        "  )\n",
        "\n",
        "# Legenda\n",
        "g._legend.set_title('Sexo')\n",
        "new_labels = ['Mulheres', 'Homens']\n",
        "for t, l in zip(g._legend.texts, new_labels): t.set_text(l)"
      ]
    },
    {
      "cell_type": "code",
      "execution_count": null,
      "metadata": {
        "id": "-Zs1iNr65-0B"
      },
      "outputs": [],
      "source": [
        "#Distribuição de gastos por fumante e não fumante por sexo\n",
        "g= sns.catplot(x=\"sex\", y=\"charges\", hue=\"smoker\",\n",
        "            kind=\"violin\", data=df, palette = 'Blues', legend_out= False, ax=ax);\n",
        "\n",
        "# Eixos\n",
        "(g.set_axis_labels(\"\", \"Gasto Total\")\n",
        "  .set_xticklabels([\"Homens\", \"Mulheres\"])\n",
        "  )\n",
        "\n",
        "# Legenda\n",
        "leg = g.axes.flat[0].get_legend()\n",
        "new_title = ''\n",
        "leg.set_title(new_title)\n",
        "new_labels = [\"Não Fumante\", \"Fumante\"]\n",
        "for t, l in zip(g._legend.texts, new_labels): t.set_text(l)\n",
        "g._legend.set_bbox_to_anchor((.39,1))"
      ]
    },
    {
      "cell_type": "code",
      "execution_count": null,
      "metadata": {
        "id": "e06jzjbn6Aaz"
      },
      "outputs": [],
      "source": [
        "plt.figure(figsize=(12,5))\n",
        "plt.title(\"Distribuição de idade\")\n",
        "ax = sns.distplot(df[\"age\"], color = 'b')"
      ]
    },
    {
      "cell_type": "code",
      "execution_count": null,
      "metadata": {
        "id": "zP5Nuzj36Db6"
      },
      "outputs": [],
      "source": [
        "plt.figure(figsize=(12,5))\n",
        "plt.title(\"Distribuição de custos por idade e por fumantes\")\n",
        "\n",
        "#Distribuição de gastos por fumante e não fumante por sexo\n",
        "sns.scatterplot(x=df.age,y=df.charges, hue= df.smoker, sizes=(12,5),  palette=\"ch:r=-.2,d=.3_r\");"
      ]
    },
    {
      "cell_type": "code",
      "execution_count": null,
      "metadata": {
        "id": "YPBgAs1m6FTQ"
      },
      "outputs": [],
      "source": [
        "plt.figure(figsize=(12,5))\n",
        "plt.title(\"Distribuição de IMC\")\n",
        "ax = sns.distplot(df[\"bmi\"], color = 'b')"
      ]
    },
    {
      "cell_type": "code",
      "execution_count": null,
      "metadata": {
        "id": "igO0WiFi6Fzr"
      },
      "outputs": [],
      "source": [
        "plt.figure(figsize=(12,5))\n",
        "plt.title(\"Distribuição de custos com pacientes com IMC maior que 30\")\n",
        "ax = sns.distplot(df[(df.bmi >= 30)]['charges'], color = 'b')"
      ]
    },
    {
      "cell_type": "code",
      "execution_count": null,
      "metadata": {
        "id": "-2La-muS6JRq"
      },
      "outputs": [],
      "source": [
        "plt.figure(figsize=(12,5))\n",
        "plt.title(\"Distribuição de custos com pacientes com IMC menor que 30\")\n",
        "ax = sns.distplot(df[(df.bmi < 30)]['charges'], color = 'b')"
      ]
    },
    {
      "cell_type": "code",
      "execution_count": null,
      "metadata": {
        "id": "huw6LmZr6LFa"
      },
      "outputs": [],
      "source": [
        "sns.catplot(x=\"children\", kind=\"count\", palette=\"Blues\", data=df);"
      ]
    },
    {
      "cell_type": "code",
      "execution_count": null,
      "metadata": {
        "id": "8JI4rWmh6Mvw"
      },
      "outputs": [],
      "source": [
        "#Distruição de Gastos por Fumantes e não fumantes\n",
        "plt.figure(figsize=(12,5))\n",
        "plt.title(\"Distribuição de custos por idade e por fumantes\")\n",
        "#Distribuição de gastos por fumante e não fumante por sexo\n",
        "sns.scatterplot(x=df.children,y=df.charges, sizes=(12,5),  palette=\"ch:r=-.2,d=.3_r\");"
      ]
    },
    {
      "cell_type": "markdown",
      "metadata": {
        "id": "Vb_YTl3niM5p"
      },
      "source": [
        "##Algoritmo de Machine Learning"
      ]
    },
    {
      "cell_type": "markdown",
      "metadata": {
        "id": "8aoBpPNUigxw"
      },
      "source": [
        "###Algoritmo de Regressão Linear"
      ]
    },
    {
      "cell_type": "code",
      "execution_count": null,
      "metadata": {
        "id": "W27ARJhjigh9"
      },
      "outputs": [],
      "source": [
        "#Separando os dados\n",
        "x = df.drop(['charges'], axis = 1)\n",
        "y = df.charges\n",
        "\n",
        "#Separe os dados de Treino e Teste\n",
        "x_train, x_test, y_train, y_test = train_test_split(_)\n",
        "\n",
        "#Criando um Objeto de Regressão Linear\n",
        "lr = LinearRegression()\n",
        "\n",
        "#Treine o Modelo\n",
        "lr.fit(_)"
      ]
    },
    {
      "cell_type": "code",
      "execution_count": null,
      "metadata": {
        "id": "4Ie4jkHOcfeE"
      },
      "outputs": [],
      "source": [
        "#Calcule o score do modelo\n",
        "r_sq = lr._(x, y)\n",
        "print('Coeficiente de Determinação (R²):', r_sq)"
      ]
    },
    {
      "cell_type": "code",
      "execution_count": null,
      "metadata": {
        "id": "2io1mNwCmNNO"
      },
      "outputs": [],
      "source": [
        "print('Intercepto:', lr.intercept_)"
      ]
    },
    {
      "cell_type": "code",
      "execution_count": null,
      "metadata": {
        "id": "BrLq0bN1imUX"
      },
      "outputs": [],
      "source": [
        "coeff_df = pd.DataFrame(lr.coef_,x.columns,columns=['Coefficient'])\n",
        "coeff_df"
      ]
    },
    {
      "cell_type": "code",
      "execution_count": null,
      "metadata": {
        "id": "n2GvJNBQmUEP"
      },
      "outputs": [],
      "source": [
        "y_pred = lr.predict(x_test)\n",
        "print('MAE:', metrics.mean_absolute_error(y_test, y_pred))\n",
        "print('MSE:', metrics.mean_squared_error(y_test, y_pred))\n",
        "print('RMSE:', np.sqrt(metrics.mean_squared_error(y_test, y_pred)))"
      ]
    },
    {
      "cell_type": "markdown",
      "metadata": {
        "id": "mnEU8gwT4p_i"
      },
      "source": [
        "##Atividades de casa\n",
        "- Utilize os algortimos de regressão linear e polinomial na mesma base de dados e realize uma análise comparativa."
      ]
    },
    {
      "cell_type": "markdown",
      "metadata": {
        "id": "Nx0py0djiU5x"
      },
      "source": [
        "##Referências\n",
        "- [Regressão Múltipla](https://medium.com/@lamartine_sl/regress%C3%A3o-linear-com-sklearn-modelo-de-previs%C3%A3o-de-custos-com-plano-de-sa%C3%BAde-5e963e590f4c)\n",
        "- [Insurance](https://github.com/stedy/Machine-Learning-with-R-datasets/blob/master/insurance.csv)"
      ]
    }
  ],
  "metadata": {
    "colab": {
      "provenance": [],
      "toc_visible": true
    },
    "kernelspec": {
      "display_name": "Python 3",
      "name": "python3"
    },
    "language_info": {
      "name": "python"
    }
  },
  "nbformat": 4,
  "nbformat_minor": 0
}
