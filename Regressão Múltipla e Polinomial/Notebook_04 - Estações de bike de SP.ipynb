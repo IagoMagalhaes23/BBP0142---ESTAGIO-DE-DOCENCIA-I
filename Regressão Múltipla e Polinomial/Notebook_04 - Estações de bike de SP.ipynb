{
  "cells": [
    {
      "cell_type": "markdown",
      "metadata": {
        "id": "46Wgvcemg2zt"
      },
      "source": [
        "#**Notebook 04**\n",
        "- **Professor:** Iális Cavalcante\n",
        "- **Monitor:** Iago Magalhães\n",
        "- **Disciplina:** Ciência de dados\n",
        "- **Curso:** Engenharia da Computação\n",
        "- **Descrição:**\n",
        "No notebook 04 iremos aprender sobre regressão polinomial.\n",
        "- **Questão:** O aluno João Vitor deseja práticar exercícios diariamente. Usando seus conhecimentos, ele encontrou uma base de dados sobre estações de bicicleta na cidade de São Paulo e com base nas infromações contidas nela, vai buscar extrair dados para que consiga agendar as bicicletas em horários e dias com maior disponibilidade.\n",
        "\n"
      ]
    },
    {
      "cell_type": "markdown",
      "metadata": {
        "id": "NOSU58lWh-ZL"
      },
      "source": [
        "##Importações de bibliotecas"
      ]
    },
    {
      "cell_type": "code",
      "execution_count": null,
      "metadata": {
        "id": "UEMJd3sPfhzB"
      },
      "outputs": [],
      "source": [
        "import matplotlib.pyplot as plt\n",
        "import datetime as dt\n",
        "import seaborn as sns\n",
        "import pandas as pd\n",
        "import numpy as np\n",
        "import folium\n",
        "\n",
        "from sklearn.preprocessing import PolynomialFeatures\n",
        "from sklearn.model_selection import train_test_split\n",
        "from sklearn.linear_model import LinearRegression\n",
        "from sklearn.metrics import mean_absolute_error\n",
        "from sklearn.metrics import mean_squared_error\n",
        "from sklearn.metrics import max_error"
      ]
    },
    {
      "cell_type": "markdown",
      "metadata": {
        "id": "G3fUxNosiBJh"
      },
      "source": [
        "##Leitura de dados"
      ]
    },
    {
      "cell_type": "code",
      "execution_count": null,
      "metadata": {
        "id": "iSP91hQ4iD9q"
      },
      "outputs": [],
      "source": [
        "df = pd.read_csv('sp_bike.csv')\n",
        "df.head()"
      ]
    },
    {
      "cell_type": "markdown",
      "metadata": {
        "id": "aOXqXJqkiENs"
      },
      "source": [
        "##Análise de dados"
      ]
    },
    {
      "cell_type": "code",
      "execution_count": null,
      "metadata": {
        "id": "chLAAl8fiGNg"
      },
      "outputs": [],
      "source": [
        "#Verifique quais as estações ativas\n",
        "df = df[]\n",
        "df.head()"
      ]
    },
    {
      "cell_type": "code",
      "execution_count": null,
      "metadata": {
        "id": "t6ULtq_iNmfa"
      },
      "outputs": [],
      "source": [
        "#Remova as estações duplicadas para mostrar uma de cada no mapa.\n",
        "df_estacoes = df[['name', 'lat', 'lng']]._\n",
        "df_estacoes.info()"
      ]
    },
    {
      "cell_type": "code",
      "execution_count": null,
      "metadata": {
        "id": "zFaT_m0SYXWF"
      },
      "outputs": [],
      "source": [
        "#Gerando um gráfico com as localizações das estações na cidade de São Paulo\n",
        "cord_center = [df_estacoes.lat.mean(), df_estacoes.lng.mean()]\n",
        "mp = folium.Map(location=cord_center, zoom_start=13, tiles='cartodbpositron')\n",
        "for i, location in df_estacoes.iterrows():\n",
        "    folium.CircleMarker(\n",
        "        location=[location['lat'],location['lng']],\n",
        "        radius=2,\n",
        "        popup=location['name']\n",
        "    ).add_to(mp)\n",
        "mp"
      ]
    },
    {
      "cell_type": "markdown",
      "metadata": {
        "id": "yw0X7M1bluli"
      },
      "source": [
        "###Verificar a disponibilidade das bicicletas nas estações"
      ]
    },
    {
      "cell_type": "code",
      "execution_count": null,
      "metadata": {
        "id": "XOGgjCwqYuVR"
      },
      "outputs": [],
      "source": [
        "df['created_at'] = pd.to_datetime(df.created_at)\n",
        "df['hora'] = df['created_at'].apply(lambda x: dt.datetime.strftime(x, '%H'))\n",
        "df['dia_semana'] = df['created_at'].dt.weekday\n",
        "df.head()"
      ]
    },
    {
      "cell_type": "code",
      "execution_count": null,
      "metadata": {
        "id": "P0mDsPtOOSBs"
      },
      "outputs": [],
      "source": [
        "df_media_hora = df.groupby(['name', 'hora', 'dia_semana'], as_index=False).agg('mean')\n",
        "df_media_hora['available'] = df_media_hora['available'].astype(int)\n",
        "df_media_hora.head()"
      ]
    },
    {
      "cell_type": "code",
      "execution_count": null,
      "metadata": {
        "id": "d-G5fg-cZ5k9"
      },
      "outputs": [],
      "source": [
        "df_media_hora[df_media_hora.name == 'Metrô Faria Lima']"
      ]
    },
    {
      "cell_type": "code",
      "execution_count": null,
      "metadata": {
        "id": "QbDvdAQiDrmB"
      },
      "outputs": [],
      "source": [
        "df_hora = df_media_hora[['hora', 'available']].groupby(['hora'], as_index=False).agg('mean')\n",
        "df_hora.head()"
      ]
    },
    {
      "cell_type": "code",
      "execution_count": null,
      "metadata": {
        "id": "fWNmsDBwl522"
      },
      "outputs": [],
      "source": [
        "sns.lineplot(data=df_hora, x=\"hora\", y=\"available\")"
      ]
    },
    {
      "cell_type": "markdown",
      "metadata": {
        "id": "Vb_YTl3niM5p"
      },
      "source": [
        "##Algoritmo de Machine Learning"
      ]
    },
    {
      "cell_type": "markdown",
      "metadata": {
        "id": "8aoBpPNUigxw"
      },
      "source": [
        "###Algoritmo de Regressão Linear"
      ]
    },
    {
      "cell_type": "code",
      "execution_count": null,
      "metadata": {
        "id": "W27ARJhjigh9"
      },
      "outputs": [],
      "source": [
        "#Crie os datasets de X e Y com os values dos labels 'hora' e 'available'\n",
        "X = df_hora[['hora']].astype(int)._\n",
        "y = df_hora[['available']]._\n",
        "\n",
        "model = LinearRegression()\n",
        "model.fit(X, y)\n",
        "\n",
        "y_hora_linear = model.predict(X)"
      ]
    },
    {
      "cell_type": "code",
      "execution_count": null,
      "metadata": {
        "id": "4Ie4jkHOcfeE"
      },
      "outputs": [],
      "source": [
        "sns.scatterplot(data=df_hora, x='hora', y='available');\n",
        "plt.plot(X, y_hora_linear, color='r')\n",
        "plt.show()"
      ]
    },
    {
      "cell_type": "code",
      "execution_count": null,
      "metadata": {
        "id": "2io1mNwCmNNO"
      },
      "outputs": [],
      "source": [
        "#Calcule o valor de MSE\n",
        "mean_squared_error()"
      ]
    },
    {
      "cell_type": "markdown",
      "metadata": {
        "id": "hvBwRuQgmQpj"
      },
      "source": [
        "###Algoritmo de Regressão Polinomial"
      ]
    },
    {
      "cell_type": "code",
      "execution_count": null,
      "metadata": {
        "id": "BrLq0bN1imUX"
      },
      "outputs": [],
      "source": [
        "polinomial = PolynomialFeatures(degree=7, include_bias=False)\n",
        "X_polinomial = polinomial.fit_transform(X)"
      ]
    },
    {
      "cell_type": "code",
      "execution_count": null,
      "metadata": {
        "id": "n2GvJNBQmUEP"
      },
      "outputs": [],
      "source": [
        "model = LinearRegression()\n",
        "model._ #Treine o algoritmo\n",
        "\n",
        "y_polinomial = model.predict(X_polinomial)"
      ]
    },
    {
      "cell_type": "code",
      "execution_count": null,
      "metadata": {
        "id": "PyRBwpXkmWVm"
      },
      "outputs": [],
      "source": [
        "sns.scatterplot(data=df_hora, x='hora', y='available');\n",
        "plt.plot(X, y_polinomial, color='g')\n",
        "plt.show()"
      ]
    },
    {
      "cell_type": "code",
      "execution_count": null,
      "metadata": {
        "id": "VS5HU2Aema4C"
      },
      "outputs": [],
      "source": [
        "mean_squared_error(y, y_polinomial, squared=False)"
      ]
    },
    {
      "cell_type": "markdown",
      "metadata": {
        "id": "U6R3u6IIimw0"
      },
      "source": [
        "###Treinando uma Regressão Polinomial para uma estação específica"
      ]
    },
    {
      "cell_type": "code",
      "execution_count": null,
      "metadata": {
        "id": "9_delDq4ipO6"
      },
      "outputs": [],
      "source": [
        "df_metro_fl = df_media_hora[df_media_hora.name == 'Metrô Faria Lima']\n",
        "df_metro_fl.head()"
      ]
    },
    {
      "cell_type": "code",
      "execution_count": null,
      "metadata": {
        "id": "cOr08QA7dN5F"
      },
      "outputs": [],
      "source": [
        "sns.lineplot(data=df_metro_fl, x=\"hora\", y=\"available\", hue='dia_semana')"
      ]
    },
    {
      "cell_type": "code",
      "execution_count": null,
      "metadata": {
        "id": "qFmFCRegdZMs"
      },
      "outputs": [],
      "source": [
        "df_metro_fl_dia_semana = df_metro_fl[df_metro_fl.dia_semana < 5]"
      ]
    },
    {
      "cell_type": "code",
      "execution_count": null,
      "metadata": {
        "id": "_y3GreB-mZvY"
      },
      "outputs": [],
      "source": [
        "sns.lineplot(data=df_metro_fl_dia_semana, x=\"hora\", y=\"available\", hue='dia_semana')"
      ]
    },
    {
      "cell_type": "code",
      "execution_count": null,
      "metadata": {
        "id": "WUcW4dYGmnrX"
      },
      "outputs": [],
      "source": [
        "df_metro_fl_fim_semana = df_metro_fl[df_metro_fl.dia_semana >= 5]"
      ]
    },
    {
      "cell_type": "code",
      "execution_count": null,
      "metadata": {
        "id": "v7YuLTL_mpvw"
      },
      "outputs": [],
      "source": [
        "sns.lineplot(data=df_metro_fl_fim_semana, x=\"hora\", y=\"available\", hue='dia_semana');"
      ]
    },
    {
      "cell_type": "code",
      "execution_count": null,
      "metadata": {
        "id": "vTCEECz1msjk"
      },
      "outputs": [],
      "source": [
        "df_media_dia_semana = df_metro_fl_dia_semana.groupby(['hora'], as_index=False).agg('mean')\n",
        "df_media_fim_semana = df_metro_fl_fim_semana.groupby(['hora'], as_index=False).agg('mean')"
      ]
    },
    {
      "cell_type": "code",
      "execution_count": null,
      "metadata": {
        "id": "K-y7e4ZAmuW4"
      },
      "outputs": [],
      "source": [
        "plt.plot(df_media_dia_semana['hora'], df_media_dia_semana['available'], color='r')\n",
        "plt.plot(df_media_fim_semana['hora'], df_media_fim_semana['available'], color='b')\n",
        "plt.show()"
      ]
    },
    {
      "cell_type": "markdown",
      "metadata": {
        "id": "6LHnjPvlmxlP"
      },
      "source": [
        "###Treinando a Regressão Polinomial para os dias da semana"
      ]
    },
    {
      "cell_type": "code",
      "execution_count": null,
      "metadata": {
        "id": "4JMw8S-Gmyfc"
      },
      "outputs": [],
      "source": [
        "X_dia_semana = df_media_dia_semana[['hora']].astype(int).values\n",
        "y_dia_semana = df_media_dia_semana[['available']].values"
      ]
    },
    {
      "cell_type": "code",
      "execution_count": null,
      "metadata": {
        "id": "CgwsKoglm2N-"
      },
      "outputs": [],
      "source": [
        "polinomial = PolynomialFeatures(degree=7, include_bias=False)\n",
        "X_dia_semana_polinomial = polinomial.fit_transform(X_dia_semana)"
      ]
    },
    {
      "cell_type": "code",
      "execution_count": null,
      "metadata": {
        "id": "-5VSCCutm34M"
      },
      "outputs": [],
      "source": [
        "model = LinearRegression()\n",
        "model.fit(X_dia_semana_polinomial, y_dia_semana)"
      ]
    },
    {
      "cell_type": "code",
      "execution_count": null,
      "metadata": {
        "id": "amEfq9KCm6kJ"
      },
      "outputs": [],
      "source": [
        "y_dia_semana_polinomial = model.predict(X_dia_semana_polinomial)"
      ]
    },
    {
      "cell_type": "code",
      "execution_count": null,
      "metadata": {
        "id": "oQnZi4xUm8IH"
      },
      "outputs": [],
      "source": [
        "sns.scatterplot(data=df_media_dia_semana, x='hora', y='available');\n",
        "plt.plot(X_dia_semana, y_dia_semana_polinomial, color='g')\n",
        "plt.show()"
      ]
    },
    {
      "cell_type": "code",
      "execution_count": null,
      "metadata": {
        "id": "fcnGlGPwm-D9"
      },
      "outputs": [],
      "source": [
        "mean_squared_error(y_dia_semana, y_dia_semana_polinomial, squared=False)"
      ]
    },
    {
      "cell_type": "markdown",
      "metadata": {
        "id": "WhUblt3LnAiE"
      },
      "source": [
        "###Treinando a Regressão Polinomial para o final de semana"
      ]
    },
    {
      "cell_type": "code",
      "execution_count": null,
      "metadata": {
        "id": "dKRWvt1RnBLu"
      },
      "outputs": [],
      "source": [
        "X_fim_semana = df_media_fim_semana[['hora']].astype(int).values\n",
        "y_fim_semana = df_media_fim_semana[['available']].values"
      ]
    },
    {
      "cell_type": "code",
      "execution_count": null,
      "metadata": {
        "id": "XuoIohkYnDVn"
      },
      "outputs": [],
      "source": [
        "polinomial = PolynomialFeatures(degree=7, include_bias=False)\n",
        "X_fim_semana_polinomial = polinomial.fit_transform(X_fim_semana)"
      ]
    },
    {
      "cell_type": "code",
      "execution_count": null,
      "metadata": {
        "id": "sVRAACMnnGIE"
      },
      "outputs": [],
      "source": [
        "model = LinearRegression()\n",
        "model.fit(X_fim_semana_polinomial, y_fim_semana)"
      ]
    },
    {
      "cell_type": "code",
      "execution_count": null,
      "metadata": {
        "id": "1Xi5Yn7wnGji"
      },
      "outputs": [],
      "source": [
        "y_fim_semana_polinomial = model.predict(X_fim_semana_polinomial)"
      ]
    },
    {
      "cell_type": "code",
      "execution_count": null,
      "metadata": {
        "id": "CdpDC_s3nIZI"
      },
      "outputs": [],
      "source": [
        "sns.scatterplot(data=df_media_fim_semana, x='hora', y='available');\n",
        "plt.plot(X_fim_semana, y_fim_semana_polinomial, color='g')\n",
        "plt.show()"
      ]
    },
    {
      "cell_type": "code",
      "execution_count": null,
      "metadata": {
        "id": "6U3i9HIgnLv7"
      },
      "outputs": [],
      "source": [
        "mean_squared_error(y_fim_semana, y_fim_semana_polinomial, squared=False)"
      ]
    },
    {
      "cell_type": "markdown",
      "metadata": {
        "id": "mnEU8gwT4p_i"
      },
      "source": [
        "##Atividades de casa\n",
        "- Analise a possibilidade de realizar previsões de horários em que as estações tem menor movimento em dias especifícos da semana com o algoritmo de regressão polinomial."
      ]
    },
    {
      "cell_type": "markdown",
      "metadata": {
        "id": "Nx0py0djiU5x"
      },
      "source": [
        "##Referências\n",
        "- [Regressão Polinomial](https://www.sakurai.dev.br/regressao-polinomial/)\n",
        "- [Folium](https://python-visualization.github.io/folium/latest/)\n",
        "- [Dataset Bicycle Sharing Brazil](https://www.kaggle.com/datasets/marlesson/bicycle-sharing-brazil-sp-gyn)"
      ]
    }
  ],
  "metadata": {
    "colab": {
      "provenance": [],
      "toc_visible": true
    },
    "kernelspec": {
      "display_name": "Python 3",
      "name": "python3"
    },
    "language_info": {
      "name": "python"
    }
  },
  "nbformat": 4,
  "nbformat_minor": 0
}
