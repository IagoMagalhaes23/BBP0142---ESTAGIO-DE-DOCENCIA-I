{
  "nbformat": 4,
  "nbformat_minor": 0,
  "metadata": {
    "colab": {
      "provenance": []
    },
    "kernelspec": {
      "name": "python3",
      "display_name": "Python 3"
    },
    "language_info": {
      "name": "python"
    }
  },
  "cells": [
    {
      "cell_type": "markdown",
      "source": [
        "#Notebook\n",
        "- **Professor:** Iális Cavalcante\n",
        "- **Monitor:** Iago Magalhães\n",
        "- **Disciplina:** Ciência de dados\n",
        "- **Curso:** Engenharia da Computação\n",
        "- **Descrição:** Este exemplo compara diferentes métodos de redução de dimensionalidade (linear) aplicados no conjunto de dados Digits. O conjunto de dados contém imagens de dígitos de 0 a 9 com aproximadamente 180 amostras de cada classe. Cada imagem tem dimensão 8x8 = 64 e é reduzida a um ponto de dados bidimensional.\n",
        "A Análise de Componentes Principais (PCA) aplicada a esses dados identifica a combinação de atributos (componentes principais ou direções no espaço de características) que respondem pela maior variância nos dados. Aqui, plotamos as diferentes amostras nos 2 primeiros componentes principais.\n",
        "A Análise Discriminante Linear (LDA) tenta identificar atributos que são responsáveis ​​pela maior variância entre classes . Em particular, a LDA, em contraste com a PCA, é um método supervisionado, usando rótulos de classe conhecidos.\n",
        "A Análise de Componentes de Vizinhança (NCA) tenta encontrar um espaço de características tal que um algoritmo estocástico de vizinho mais próximo dará a melhor precisão. Como LDA, é um método supervisionado.\n",
        "Pode-se ver que o NCA impõe um agrupamento de dados que é visualmente significativo, apesar da grande redução na dimensão."
      ],
      "metadata": {
        "id": "VZDTDMVE3ekO"
      }
    },
    {
      "cell_type": "markdown",
      "source": [
        "##Importações"
      ],
      "metadata": {
        "id": "cJGKUbnF3kjE"
      }
    },
    {
      "cell_type": "code",
      "execution_count": null,
      "metadata": {
        "id": "yiot4fMI1cgM"
      },
      "outputs": [],
      "source": [
        "import matplotlib.pyplot as plt\n",
        "import numpy as np\n",
        "\n",
        "from sklearn import datasets\n",
        "from sklearn.decomposition import PCA\n",
        "from sklearn.discriminant_analysis import LinearDiscriminantAnalysis\n",
        "from sklearn.model_selection import train_test_split\n",
        "from sklearn.neighbors import KNeighborsClassifier, NeighborhoodComponentsAnalysis\n",
        "from sklearn.pipeline import make_pipeline\n",
        "from sklearn.preprocessing import StandardScaler"
      ]
    },
    {
      "cell_type": "markdown",
      "source": [
        "##Carregando dados"
      ],
      "metadata": {
        "id": "K01wF6ds3l-G"
      }
    },
    {
      "cell_type": "code",
      "source": [
        "X, y = datasets.load_digits(return_X_y=True)\n",
        "\n",
        "X_train, X_test, y_train, y_test = train_test_split(\n",
        "    X, y, test_size=0.5, stratify=y, random_state=random_state\n",
        ")"
      ],
      "metadata": {
        "id": "MB77EJdd4810"
      },
      "execution_count": null,
      "outputs": []
    },
    {
      "cell_type": "markdown",
      "source": [
        "##Aplicando técnicas de redução de dimensionalidade"
      ],
      "metadata": {
        "id": "Bcj9oEYi3p9r"
      }
    },
    {
      "cell_type": "code",
      "source": [
        "n_neighbors = 3\n",
        "random_state = 0\n",
        "dim = len(X[0])\n",
        "n_classes = len(np.unique(y))\n",
        "\n",
        "pca = make_pipeline(StandardScaler(), PCA(n_components=2, random_state=random_state))\n",
        "\n",
        "lda = make_pipeline(StandardScaler(), LinearDiscriminantAnalysis(n_components=2))\n",
        "\n",
        "nca = make_pipeline(\n",
        "    StandardScaler(),\n",
        "    NeighborhoodComponentsAnalysis(n_components=2, random_state=random_state),\n",
        ")"
      ],
      "metadata": {
        "id": "PYhlzgdY5G23"
      },
      "execution_count": null,
      "outputs": []
    },
    {
      "cell_type": "markdown",
      "source": [
        "##Treinamento"
      ],
      "metadata": {
        "id": "NE_sUqRc3sh8"
      }
    },
    {
      "cell_type": "code",
      "source": [
        "knn = KNeighborsClassifier(n_neighbors=n_neighbors)"
      ],
      "metadata": {
        "id": "gHRE34KG5Wek"
      },
      "execution_count": null,
      "outputs": []
    },
    {
      "cell_type": "markdown",
      "source": [
        "##Visualização dos dados"
      ],
      "metadata": {
        "id": "j2dDOrYn3vGY"
      }
    },
    {
      "cell_type": "code",
      "source": [
        "dim_reduction_methods = [(\"PCA\", pca), (\"LDA\", lda), (\"NCA\", nca)]\n",
        "\n",
        "for i, (name, model) in enumerate(dim_reduction_methods):\n",
        "    plt.figure()\n",
        "    model.fit(X_train, y_train)\n",
        "    knn.fit(model.transform(X_train), y_train)\n",
        "    acc_knn = knn.score(model.transform(X_test), y_test)\n",
        "    X_embedded = model.transform(X)\n",
        "    plt.scatter(X_embedded[:, 0], X_embedded[:, 1], c=y, s=30, cmap=\"Set1\")\n",
        "    plt.title(\n",
        "        \"{}, KNN (k={})\\nTest accuracy = {:.2f}\".format(name, n_neighbors, acc_knn)\n",
        "    )\n",
        "plt.show()"
      ],
      "metadata": {
        "id": "ujVyESqj5Knk"
      },
      "execution_count": null,
      "outputs": []
    },
    {
      "cell_type": "markdown",
      "source": [
        "##Atividades de casa\n",
        "- Altere o número de vizinhos no algoritmo KNN e visualize alterações nos dados;\n",
        "- Altere o valor do parâmetro 'n_components' para cada técnica de redução de dimensionalidade e analise os resultados."
      ],
      "metadata": {
        "id": "VSr4X2Uh3wyH"
      }
    },
    {
      "cell_type": "markdown",
      "source": [
        "##Referências\n",
        "- [Redução de dimensionalidade com análise de componentes de vizinhança](https://scikit-learn.org/stable/auto_examples/neighbors/plot_nca_dim_reduction.html#sphx-glr-auto-examples-neighbors-plot-nca-dim-reduction-py)"
      ],
      "metadata": {
        "id": "awIXdKI43y7l"
      }
    }
  ]
}