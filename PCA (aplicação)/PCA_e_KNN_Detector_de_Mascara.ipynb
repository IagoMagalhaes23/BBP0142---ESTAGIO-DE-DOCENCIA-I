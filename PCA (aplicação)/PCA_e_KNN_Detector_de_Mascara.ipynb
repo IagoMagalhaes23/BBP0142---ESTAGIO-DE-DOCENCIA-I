{
  "nbformat": 4,
  "nbformat_minor": 0,
  "metadata": {
    "colab": {
      "provenance": []
    },
    "kernelspec": {
      "name": "python3",
      "display_name": "Python 3"
    },
    "language_info": {
      "name": "python"
    }
  },
  "cells": [
    {
      "cell_type": "markdown",
      "source": [
        "#Usando Machine Learning para reconhecer máscaras"
      ],
      "metadata": {
        "id": "CrGCrdf2EyEu"
      }
    },
    {
      "cell_type": "markdown",
      "source": [
        "##Importando bibliotecas"
      ],
      "metadata": {
        "id": "6HoXvjPKE8mM"
      }
    },
    {
      "cell_type": "code",
      "execution_count": null,
      "metadata": {
        "id": "nHrhLaB4ETZS"
      },
      "outputs": [],
      "source": [
        "import cv2 as cv\n",
        "import matplotlib.pyplot as plt\n",
        "import numpy as np\n",
        "import os\n",
        "from google.colab import files"
      ]
    },
    {
      "cell_type": "markdown",
      "source": [
        "##Upload dos arquivos"
      ],
      "metadata": {
        "id": "aDO2EAbeI_A9"
      }
    },
    {
      "cell_type": "code",
      "source": [
        "importar = files.upload()\n",
        "print(*importar, sep=\"\\n\")"
      ],
      "metadata": {
        "id": "qdYBOzTQJCFa"
      },
      "execution_count": null,
      "outputs": []
    },
    {
      "cell_type": "markdown",
      "source": [
        "##Lendo imagem com OpenCV"
      ],
      "metadata": {
        "id": "sl8T4vAUJOsy"
      }
    },
    {
      "cell_type": "code",
      "source": [
        "imagem = cv.imread(\"\")"
      ],
      "metadata": {
        "id": "WHk1iE8TJSPa"
      },
      "execution_count": null,
      "outputs": []
    },
    {
      "cell_type": "code",
      "source": [
        "type(imagem)"
      ],
      "metadata": {
        "id": "f6zKzKYZJV9D"
      },
      "execution_count": null,
      "outputs": []
    },
    {
      "cell_type": "markdown",
      "source": [
        "##Mostrando imagem"
      ],
      "metadata": {
        "id": "EYS5te39Jc4K"
      }
    },
    {
      "cell_type": "code",
      "source": [
        "def mostrar_imagem(imagem):\n",
        "  imagem_rgb = cv.cvtColor(imagem, cv.COLOR_BGR2RGB)\n",
        "  plt.imshow(imagem_rgb)"
      ],
      "metadata": {
        "id": "xLe8xW9HJkLj"
      },
      "execution_count": null,
      "outputs": []
    },
    {
      "cell_type": "code",
      "source": [
        "mostrar_imagem(imagem)"
      ],
      "metadata": {
        "id": "6AFkPoXvJ9hT"
      },
      "execution_count": null,
      "outputs": []
    },
    {
      "cell_type": "markdown",
      "source": [
        "##Pré-processamento da imagem"
      ],
      "metadata": {
        "id": "ElzYDxbLLFG7"
      }
    },
    {
      "cell_type": "code",
      "source": [
        "imagemgray = cv.cvtColor(imagem, cv.COLOR_BGR2GRAY)\n",
        "mostrar_imagem(imagemgray)"
      ],
      "metadata": {
        "id": "k-oXr4FtLIX6"
      },
      "execution_count": null,
      "outputs": []
    },
    {
      "cell_type": "markdown",
      "source": [
        "##Utilizando CascadeClassifier"
      ],
      "metadata": {
        "id": "kBLY66LHLdk6"
      }
    },
    {
      "cell_type": "code",
      "source": [
        "classificador = cv.CascadeClassifier(cv.data.haarcascades + 'haarcascade_frontalface_default.xml')"
      ],
      "metadata": {
        "id": "lItc_lg0L7mu"
      },
      "execution_count": null,
      "outputs": []
    },
    {
      "cell_type": "code",
      "source": [
        "faces = classificador.detectMultiScale(imagemgray)"
      ],
      "metadata": {
        "id": "R27WGFKsMAQz"
      },
      "execution_count": null,
      "outputs": []
    },
    {
      "cell_type": "code",
      "source": [
        "imagem_copia = np.array(imagem)"
      ],
      "metadata": {
        "id": "neaZp6cLMF2t"
      },
      "execution_count": null,
      "outputs": []
    },
    {
      "cell_type": "code",
      "source": [
        "for x,y,w,h in faces:\n",
        "  cv.rectangle(imagem_copia, (x,y), (x+w, y+h), (0,255,0), 2)"
      ],
      "metadata": {
        "id": "oepxE6YXMO_u"
      },
      "execution_count": null,
      "outputs": []
    },
    {
      "cell_type": "code",
      "source": [
        "mostrar_imagem(imagem_copia)"
      ],
      "metadata": {
        "id": "Q9nLKE7tMdQG"
      },
      "execution_count": null,
      "outputs": []
    },
    {
      "cell_type": "markdown",
      "source": [
        "##Recortando e padronizando imagens com o OpenCV"
      ],
      "metadata": {
        "id": "lieynLuGMhHZ"
      }
    },
    {
      "cell_type": "code",
      "source": [
        "imagens_cortadas = list()"
      ],
      "metadata": {
        "id": "dsrGgKsuMl9c"
      },
      "execution_count": null,
      "outputs": []
    },
    {
      "cell_type": "code",
      "source": [
        "for x,y,w,h in faces:\n",
        "  face = imagem[y:y+h, x:x+w]\n",
        "  face = cv.resize(face, (160,160))\n",
        "  imagens_cortadas.append(face)"
      ],
      "metadata": {
        "id": "jrmAikRJMpv-"
      },
      "execution_count": null,
      "outputs": []
    },
    {
      "cell_type": "code",
      "source": [
        "len(imagens_cortadas)"
      ],
      "metadata": {
        "id": "hYb0yoSaRa_7"
      },
      "execution_count": null,
      "outputs": []
    },
    {
      "cell_type": "code",
      "source": [
        "for img in imagens_cortadas:\n",
        "  print(img.shape)"
      ],
      "metadata": {
        "id": "PqHUw7E9Rc96"
      },
      "execution_count": null,
      "outputs": []
    },
    {
      "cell_type": "code",
      "source": [
        "mostrar_imagem(imagens_cortadas[0])"
      ],
      "metadata": {
        "id": "RKEfkLtqRiDz"
      },
      "execution_count": null,
      "outputs": []
    },
    {
      "cell_type": "markdown",
      "source": [
        "##Salvando conjunto de dados"
      ],
      "metadata": {
        "id": "jpN-6zxmRpun"
      }
    },
    {
      "cell_type": "code",
      "source": [
        "def salvar_imagens(imagens, caminho):\n",
        "  if not os.path.exists(caminho):\n",
        "    os.mkdir(caminho)\n",
        "  index = len(os.listdir(caminho))\n",
        "  for imagem in imagens:\n",
        "    cv.write(f\"{caminho}/{index}.jpg\", imagem)\n",
        "    index += 1"
      ],
      "metadata": {
        "id": "2MbV5S9FRtxj"
      },
      "execution_count": null,
      "outputs": []
    },
    {
      "cell_type": "markdown",
      "source": [
        "##Modelo de ML"
      ],
      "metadata": {
        "id": "xwSrVZ9ymZO_"
      }
    },
    {
      "cell_type": "code",
      "source": [
        "import cv2 as cv\n",
        "import numpy as np\n",
        "import pandas as pd\n",
        "import os\n",
        "from sklearn.decomposition import PCA\n",
        "from sklearn.model_selection import train_test_split, GridSearchCV\n",
        "from sklearn.neighbors import KNeighborsClassifier\n",
        "from sklearn.metrics import confusion_matrix\n",
        "import matplotlib.pyplot as plt\n",
        "import warnings\n",
        "\n",
        "warnings.filterwarnings(\"ignore\")"
      ],
      "metadata": {
        "id": "z7qdRbdrmbPv"
      },
      "execution_count": null,
      "outputs": []
    },
    {
      "cell_type": "code",
      "source": [
        "def carrega_dataframe():\n",
        "  dados = {\n",
        "      \"ARQUIVO\": [],\n",
        "      \"ROTULO\": [],\n",
        "      \"ALVO\": []\n",
        "  }\n",
        "\n",
        "  caminho_com_mascara = \"/content/drive/MyDrive/Detector de Máscaras/imagens/com-mascara/\"\n",
        "  caminho_sem_mascara = \"/content/drive/MyDrive/Detector de Máscaras/imagens/sem-mascara/\"\n",
        "\n",
        "  com_mascara = os.listdir(caminho_com_mascara)\n",
        "  sem_mascara = os.listdir(caminho_sem_mascara)\n",
        "\n",
        "  for arquivo in com_mascara:\n",
        "    dados[\"ARQUIVO\"].append(f\"{caminho_com_mascara}{os.sep}{arquivo}\")\n",
        "    dados[\"ROTULO\"].append(f\"Com mascara\")\n",
        "    dados[\"ALVO\"].append(1)\n",
        "\n",
        "  for arquivo in sem_mascara:\n",
        "    dados[\"ARQUIVO\"].append(f\"{caminho_sem_mascara}{os.sep}{arquivo}\")\n",
        "    dados[\"ROTULO\"].append(f\"Sem mascara\")\n",
        "    dados[\"ALVO\"].append(0)\n",
        "\n",
        "  dataframe = pd.DataFrame(dados)\n",
        "\n",
        "  return dataframe"
      ],
      "metadata": {
        "id": "KD9UpSZZm_Ur"
      },
      "execution_count": null,
      "outputs": []
    },
    {
      "cell_type": "code",
      "source": [
        "dados = carrega_dataframe()\n",
        "\n",
        "dados.to_csv(\"imagens_df.csv\")\n",
        "\n",
        "dados = pd.read_csv(\"imagens_df.csv\")\n",
        "\n",
        "dados.head()"
      ],
      "metadata": {
        "id": "gOZHJ5r2ombQ"
      },
      "execution_count": null,
      "outputs": []
    },
    {
      "cell_type": "code",
      "source": [
        "def ler_imagens(dados):\n",
        "  arquivos = dados[\"ARQUIVO\"]\n",
        "  imagens = list()\n",
        "\n",
        "  for arquivo in arquivos:\n",
        "    img = cv.cvtColor(cv.imread(arquivo), cv.COLOR_BGR2GRAY).flatten()\n",
        "    imagens.append(img)\n",
        "\n",
        "  dados[\"IMAGEM\"] = imagens"
      ],
      "metadata": {
        "id": "ByPavzxKozjy"
      },
      "execution_count": null,
      "outputs": []
    },
    {
      "cell_type": "code",
      "source": [
        "ler_imagens(dados)"
      ],
      "metadata": {
        "id": "IXyJRPoDpOzf"
      },
      "execution_count": null,
      "outputs": []
    },
    {
      "cell_type": "code",
      "source": [
        "dados.head()"
      ],
      "metadata": {
        "id": "ECkiyr0XpQ0O"
      },
      "execution_count": null,
      "outputs": []
    },
    {
      "cell_type": "code",
      "source": [
        "X = list(dados[\"IMAGEM\"])\n",
        "y = list(dados[\"ALVO\"])"
      ],
      "metadata": {
        "id": "f_ZxCSVEpSs-"
      },
      "execution_count": null,
      "outputs": []
    },
    {
      "cell_type": "code",
      "source": [
        "X_train, X_test, y_train, y_test = train_test_split(X, y, train_size=0.99, random_state=13)"
      ],
      "metadata": {
        "id": "81Ad4mkUpcdQ"
      },
      "execution_count": null,
      "outputs": []
    },
    {
      "cell_type": "code",
      "source": [
        "pca = PCA(n_components=30)\n",
        "pca.fit(X_train)"
      ],
      "metadata": {
        "id": "J04adkFqppTn"
      },
      "execution_count": null,
      "outputs": []
    },
    {
      "cell_type": "code",
      "source": [
        "X_train = pca.transform(X_train)\n",
        "X_test = pca.transform(X_test)"
      ],
      "metadata": {
        "id": "LwQQ1S6_pwRH"
      },
      "execution_count": null,
      "outputs": []
    },
    {
      "cell_type": "code",
      "source": [
        "parametros = {\n",
        "    \"n_neighbors\": [2, 3, 5, 11, 19, 23, 29],\n",
        "    \"weights\": [\"uniform\", \"distance\"],\n",
        "    \"metric\": [\"euclidean\", \"manhattam\", \"cosine\", \"l1\", \"l2\"]\n",
        "}\n",
        "\n",
        "knn = GridSearchCV(KNeighborsClassifier(), parametros)\n",
        "\n",
        "knn.fit(X_train, y_train)"
      ],
      "metadata": {
        "id": "PLvTagWyp4yJ"
      },
      "execution_count": null,
      "outputs": []
    },
    {
      "cell_type": "code",
      "source": [
        "knn.score(X=X_test, y=y_test)"
      ],
      "metadata": {
        "id": "euQ11Aoaqg93"
      },
      "execution_count": null,
      "outputs": []
    },
    {
      "cell_type": "code",
      "source": [
        "predicao = knn.predict(X_test)"
      ],
      "metadata": {
        "id": "ug_OwRToqmRn"
      },
      "execution_count": null,
      "outputs": []
    },
    {
      "cell_type": "code",
      "source": [
        "verdadeiros_positivos, falsos_positivos, falsos_negativos, verdadeiros_negativos = confusion_matrix(y_test, predicao).ravel()"
      ],
      "metadata": {
        "id": "Jv7uaoVjqplO"
      },
      "execution_count": null,
      "outputs": []
    },
    {
      "cell_type": "code",
      "source": [
        "verdadeiros_positivos, verdadeiros_negativos"
      ],
      "metadata": {
        "id": "ZPRcsQz9q9ln"
      },
      "execution_count": null,
      "outputs": []
    },
    {
      "cell_type": "code",
      "source": [
        "falsos_positivos, falsos_negativos"
      ],
      "metadata": {
        "id": "XIMV4lZ8rCfq"
      },
      "execution_count": null,
      "outputs": []
    },
    {
      "cell_type": "code",
      "source": [
        "importar = files.upload()\n",
        "print(*importar, sep=\"\\n\")"
      ],
      "metadata": {
        "id": "GaHrQYFHrGpT"
      },
      "execution_count": null,
      "outputs": []
    },
    {
      "cell_type": "code",
      "source": [
        "classificador = cv.CascadeClassifier(cv.data.haarcascades + 'haarcascade_frontalface_default.xml')"
      ],
      "metadata": {
        "id": "EjsyNAthrRg3"
      },
      "execution_count": null,
      "outputs": []
    },
    {
      "cell_type": "code",
      "source": [
        "def processa_imagem(pca, classificador, imagem):\n",
        "  img = cv.imread(imagem)\n",
        "  imagem_cinza = cv.cvtColor(img, cv.COLOR_BGR2GRAY)\n",
        "  faces = classificador.detectMultiScale(img)\n",
        "  vetores = list()\n",
        "  cont = 0\n",
        "  fig = plt.figure(figsize=(10,10))\n",
        "  for x,y,w,h in faces:\n",
        "    face_cortada = imagem_cinza[y:y+h, x:x+w]\n",
        "    fig.add_subplot(3, 3, cont+1)\n",
        "    plt.imshow(cv.cvtColor(face_cortada, cv.COLOR_BGR2RGB))\n",
        "    cont+=1\n",
        "    face_cortada = cv.resize(face_cortada, (160,160))\n",
        "    vetor = face_cortada.flatten()\n",
        "    vetores.append(vetor)\n",
        "  plt.show()\n",
        "  return vetores"
      ],
      "metadata": {
        "id": "eN2bPAQGrknn"
      },
      "execution_count": null,
      "outputs": []
    },
    {
      "cell_type": "code",
      "source": [
        "classes = {\n",
        "    0: \"Sem máscara\",\n",
        "    1: \"Com máscara\"\n",
        "}"
      ],
      "metadata": {
        "id": "to_sQ2ySs6So"
      },
      "execution_count": null,
      "outputs": []
    },
    {
      "cell_type": "code",
      "source": [
        "vetores = processa_imagem(pca, classificador, \"/content/20160816_181754.jpg\")\n",
        "c = knn.predict(pca.transform(vetores))\n",
        "\n",
        "print(*[classes[e] for e in c], sep=' - ')"
      ],
      "metadata": {
        "id": "csptumcQtAA6"
      },
      "execution_count": null,
      "outputs": []
    },
    {
      "cell_type": "markdown",
      "source": [
        "##Referências\n",
        "- [Detector de Máscaras com Python - parte 4](https://www.youtube.com/watch?v=nhBrH6amajg)\n",
        "- [Detector de Máscaras – Parte 4](https://iaexpert.academy/videos/detector-de-mascaras-parte-4/)\n",
        "- [Dataset](https://drive.google.com/drive/folders/1ii-rbbC9jcAiILm3HeR-y4HxemdKN1BR)"
      ],
      "metadata": {
        "id": "L888O0zg2_HU"
      }
    }
  ]
}