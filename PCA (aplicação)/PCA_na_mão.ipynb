{
  "nbformat": 4,
  "nbformat_minor": 0,
  "metadata": {
    "colab": {
      "provenance": []
    },
    "kernelspec": {
      "name": "python3",
      "display_name": "Python 3"
    },
    "language_info": {
      "name": "python"
    }
  },
  "cells": [
    {
      "cell_type": "markdown",
      "source": [
        "#Notebook\n",
        "- **Professor:** Iális Cavalcante\n",
        "- **Monitor:** Iago Magalhães\n",
        "- **Disciplina:** Ciência de dados\n",
        "- **Curso:** Engenharia da Computação\n",
        "- **Descrição:** PCA, ou análise de componentes principais é uma técnica para reduzir a dimensão de um conjunto de dados preservando, de certa forma, suas propriedades. Executar essa técnica na mão ou sem ajuda de funções prontas é um bom exercício para aprender a fundo o que está por trás desse processo. Nesse tutorial faremos um exemplo de PCA na mão, sempre conferindo as contas com Python e, depois, faremos o mesmo exemplo usando a biblioteca Scikit-learn."
      ],
      "metadata": {
        "id": "VZDTDMVE3ekO"
      }
    },
    {
      "cell_type": "markdown",
      "source": [
        "##Importações"
      ],
      "metadata": {
        "id": "cJGKUbnF3kjE"
      }
    },
    {
      "cell_type": "code",
      "execution_count": null,
      "metadata": {
        "id": "yiot4fMI1cgM"
      },
      "outputs": [],
      "source": [
        "import pandas as pd\n",
        "import numpy as np\n",
        "import matplotlib.pyplot as plt\n",
        "import seaborn as sns\n",
        "from sklearn.decomposition import PCA"
      ]
    },
    {
      "cell_type": "markdown",
      "source": [
        "##Analise de dados"
      ],
      "metadata": {
        "id": "K01wF6ds3l-G"
      }
    },
    {
      "cell_type": "code",
      "source": [
        "df = pd.DataFrame({\n",
        "    'var1':[1,3,1,2,2,1],\n",
        "    'var2':[2,4,3,4,3,4],\n",
        "    'target': [0,1,0,1,1,1]\n",
        "})\n",
        "X = df.drop('target', axis=1)\n",
        "y = df['target']"
      ],
      "metadata": {
        "id": "MB77EJdd4810"
      },
      "execution_count": null,
      "outputs": []
    },
    {
      "cell_type": "code",
      "source": [
        "mean_vec = np.mean(X, axis=0)\n",
        "print(mean_vec)"
      ],
      "metadata": {
        "id": "MCHpwfFevmSB"
      },
      "execution_count": null,
      "outputs": []
    },
    {
      "cell_type": "code",
      "source": [
        "M = X - mean_vec"
      ],
      "metadata": {
        "id": "6luNsbwqvpcj"
      },
      "execution_count": null,
      "outputs": []
    },
    {
      "cell_type": "markdown",
      "source": [
        "###Calculando a Matriz de Covariância"
      ],
      "metadata": {
        "id": "0MC3usuovxsb"
      }
    },
    {
      "cell_type": "code",
      "source": [
        "C = M.T.dot(M) / (X.shape[0]-1)\n",
        "C"
      ],
      "metadata": {
        "id": "82myEKtUvxQT"
      },
      "execution_count": null,
      "outputs": []
    },
    {
      "cell_type": "markdown",
      "source": [
        "###Calculando Autovalores e Autovetores"
      ],
      "metadata": {
        "id": "XjCpWlB-v69K"
      }
    },
    {
      "cell_type": "code",
      "source": [
        "# determinando auto-valores e auto-vetores\n",
        "autovalores, autovetores = np.linalg.eig(C)\n",
        "\n",
        "# imprimindo auto-valores de C\n",
        "print(\"Auto-valores:\")\n",
        "print(autovalores)\n",
        "print()\n",
        "\n",
        "# imprimindo autovetores\n",
        "print(\"Auto-vetores:\")\n",
        "print(autovetores)"
      ],
      "metadata": {
        "id": "xZ1k0o_uv9ml"
      },
      "execution_count": null,
      "outputs": []
    },
    {
      "cell_type": "code",
      "source": [
        "pares_de_autos = [\n",
        "    (\n",
        "        np.abs(autovalores[i]),\n",
        "        autovetores[:,i]\n",
        "    ) for i in range(len(autovalores))\n",
        "]\n",
        "pares_de_autos.sort()\n",
        "pares_de_autos.reverse()"
      ],
      "metadata": {
        "id": "2VpzYk6nwAaA"
      },
      "execution_count": null,
      "outputs": []
    },
    {
      "cell_type": "code",
      "source": [
        "# calculando a variância explicada e a variância explicada cumulativa\n",
        "total = sum(autovalores)\n",
        "var_exp = [\n",
        "    (i / total)*100 for i in sorted(\n",
        "        autovalores, reverse=True\n",
        "    )\n",
        "]\n",
        "cum_var_exp = np.cumsum(var_exp)"
      ],
      "metadata": {
        "id": "xDa_e5o6wEEj"
      },
      "execution_count": null,
      "outputs": []
    },
    {
      "cell_type": "code",
      "source": [
        "# visualizando as informações\n",
        "x = [\n",
        "    'PC %s' %i for i in range(\n",
        "        1,len(autovalores)+1\n",
        "    )\n",
        "]\n",
        "df_temp = pd.DataFrame(\n",
        "    {'auto-valores': autovalores,\n",
        "     'cum_var_exp':cum_var_exp,\n",
        "     'var_exp':var_exp,\n",
        "     'Componente':x}\n",
        ")\n",
        "print(df_temp)\n",
        "print()\n",
        "print(\"Auto-vetores\")\n",
        "for autovetor in [p[1] for p in pares_de_autos]:\n",
        "    print(autovetor)\n",
        "print()"
      ],
      "metadata": {
        "id": "fNjONB5jwGKH"
      },
      "execution_count": null,
      "outputs": []
    },
    {
      "cell_type": "code",
      "source": [
        "# visualizando graficamente os dados originais\n",
        "sns.pairplot(\n",
        "    df,\n",
        "    vars = ['var1','var2'],\n",
        "    hue='target',\n",
        "    diag_kind=\"hist\"\n",
        ")\n",
        "plt.show()"
      ],
      "metadata": {
        "id": "sQZGcvwowJDM"
      },
      "execution_count": null,
      "outputs": []
    },
    {
      "cell_type": "code",
      "source": [
        "# visualizando graficamente os dados através da mudança de base\n",
        "# considerando base de auto-vetores\n",
        "n_componentes = 2 # projetamos nas 2 (duas) primeiras componentes\n",
        "autovetores = [p[1] for p in pares_de_autos]\n",
        "A = autovetores[0:n_componentes]\n",
        "X = np.dot(X,np.array(A).T)\n",
        "new_df = pd.DataFrame(X,columns=['pc1','pc2'])\n",
        "new_df['target'] = df['target']\n",
        "sns.pairplot(\n",
        "    new_df, vars = ['pc1','pc2'], hue='target', diag_kind=\"hist\"\n",
        ")\n",
        "plt.show()"
      ],
      "metadata": {
        "id": "pp3TFqLFwL4P"
      },
      "execution_count": null,
      "outputs": []
    },
    {
      "cell_type": "markdown",
      "source": [
        "##Aplicando técnicas de redução de dimensionalidade em imagens"
      ],
      "metadata": {
        "id": "Bcj9oEYi3p9r"
      }
    },
    {
      "cell_type": "markdown",
      "source": [
        "Outra aplicação é a redução de dimensão em imagens. Para esse exemplo, escolhemos a imagem Pássaro mineiro barulhento retirada do site Pixabay.\n",
        "Link imagem: https://leandrocl2005.github.io/pca_na_mao_e_no_python/bird.jpg"
      ],
      "metadata": {
        "id": "jka384EWxTB3"
      }
    },
    {
      "cell_type": "markdown",
      "source": [
        "Carregando a imagem"
      ],
      "metadata": {
        "id": "Umf6BfzSxUGR"
      }
    },
    {
      "cell_type": "code",
      "source": [
        "X = plt.imread('bird.jpg')\n",
        "X.shape"
      ],
      "metadata": {
        "id": "PYhlzgdY5G23"
      },
      "execution_count": null,
      "outputs": []
    },
    {
      "cell_type": "markdown",
      "source": [
        "Observe que a matriz tem 1920 linhas e 1899 colunas. Aplicaremos, em seguida, a técnica PCA."
      ],
      "metadata": {
        "id": "oZj-tV8HxVlB"
      }
    },
    {
      "cell_type": "code",
      "source": [
        "pca = PCA(0.99) # variância explicada de 0.99\n",
        "lower_dimension_data = pca.fit_transform(X)\n",
        "lower_dimension_data.shape"
      ],
      "metadata": {
        "id": "2OblWQbGwb3x"
      },
      "execution_count": null,
      "outputs": []
    },
    {
      "cell_type": "markdown",
      "source": [
        "O número 0.99 passado como parâmetro para o métodos PCA diz que queremos um número de componentes que nos garanta 99% de variância explicada cumulativa. Observe que para isso, utilizou-se 145 componentes. Isso é uma redução imensa, uma vez que a original possuia 1899 colunas. Queremos ver, caso necessário recuperar a imagem, como essas imagens ficam com a dimensão reduzida. Para isso serão necessários duas funções auxiliares."
      ],
      "metadata": {
        "id": "T8IJkaspxef7"
      }
    },
    {
      "cell_type": "code",
      "source": [
        "def pca_with_var_exp(X, var_exp=0.99):\n",
        "    pca = PCA(var_exp) # variância explicada de 0.99\n",
        "    lower_dimension_data = pca.fit_transform(X)\n",
        "    print(lower_dimension_data.shape)\n",
        "    approximation = pca.inverse_transform(lower_dimension_data)\n",
        "    return approximation\n",
        "\n",
        "def plot_subplot(X, i):\n",
        "    plt.subplot(3,2,i)\n",
        "    plt.imshow(X, cmap=\"gray\")\n",
        "    plt.xticks([])\n",
        "    plt.yticks([])"
      ],
      "metadata": {
        "id": "3_6yId9gwf1Q"
      },
      "execution_count": null,
      "outputs": []
    },
    {
      "cell_type": "markdown",
      "source": [
        "A primeira função reduz a imagem X mantendo var_exp de variância explicada cumulativa. Compararemos 3 valores: 0.99, 0.95 e 0.90."
      ],
      "metadata": {
        "id": "rg6XhrB-xhPC"
      }
    },
    {
      "cell_type": "code",
      "source": [
        "# calculando algumas aproximações\n",
        "img_1 = pca_with_var_exp(X, var_exp=0.99)\n",
        "img_2 = pca_with_var_exp(X, var_exp=0.95)\n",
        "img_3 = pca_with_var_exp(X, var_exp=0.90)"
      ],
      "metadata": {
        "id": "zJdE7_7GwiOO"
      },
      "execution_count": null,
      "outputs": []
    },
    {
      "cell_type": "markdown",
      "source": [
        "A segunda função mostra o gráfico. Utilizaremos ela para comparar as imagens obtidas com a original."
      ],
      "metadata": {
        "id": "-lqj-AIkxi-_"
      }
    },
    {
      "cell_type": "code",
      "source": [
        "# visualizando aproximações\n",
        "plt.figure(figsize=(6,8))\n",
        "\n",
        "plot_subplot(X, 1)\n",
        "plt.title(\"Original\")\n",
        "plot_subplot(img_1, 2)\n",
        "plt.title(\"Var. Explicada de 99%\")\n",
        "plot_subplot(X, 3)\n",
        "plt.title(\"Original\")\n",
        "plot_subplot(img_2, 4)\n",
        "plt.title(\"Var. Explicada de 95%\")\n",
        "plot_subplot(X, 5)\n",
        "plt.title(\"Original\")\n",
        "plot_subplot(img_3, 6)\n",
        "plt.title(\"Var. Explicada de 90%\")\n",
        "\n",
        "plt.tight_layout()\n",
        "plt.show()"
      ],
      "metadata": {
        "id": "TX27ahq_wlFi"
      },
      "execution_count": null,
      "outputs": []
    },
    {
      "cell_type": "markdown",
      "source": [
        "##Referências\n",
        "- [PCA na mão e no Python](https://leandrocruvinel.medium.com/pca-na-m%C3%A3o-e-no-python-d559e9c8f053)"
      ],
      "metadata": {
        "id": "awIXdKI43y7l"
      }
    }
  ]
}