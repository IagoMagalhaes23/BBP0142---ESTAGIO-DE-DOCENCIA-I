{
  "cells": [
    {
      "cell_type": "markdown",
      "metadata": {
        "id": "46Wgvcemg2zt"
      },
      "source": [
        "#**Notebook 09**\n",
        "- **Professor:** Iális Cavalcante\n",
        "- **Monitor:** Iago Magalhães\n",
        "- **Disciplina:** Ciência de dados\n",
        "- **Curso:** Engenharia da Computação\n",
        "- **Descrição:**\n",
        "No notebook 9 iremos aprender sobre o algoritmo Naive Bayes Gaussian.\n"
      ]
    },
    {
      "cell_type": "markdown",
      "metadata": {
        "id": "NOSU58lWh-ZL"
      },
      "source": [
        "##Importações de bibliotecas"
      ]
    },
    {
      "cell_type": "code",
      "execution_count": 1,
      "metadata": {
        "id": "2VBoa5lBxhhj"
      },
      "outputs": [],
      "source": [
        "!pip -q install plotly\n",
        "!pip -q install yellowbrick"
      ]
    },
    {
      "cell_type": "code",
      "execution_count": 2,
      "metadata": {
        "id": "UEMJd3sPfhzB"
      },
      "outputs": [],
      "source": [
        "import numpy as np\n",
        "import pandas as pd\n",
        "import seaborn as sns\n",
        "import plotly.express as px\n",
        "import matplotlib.pyplot as plt\n",
        "\n",
        "from sklearn.naive_bayes import GaussianNB\n",
        "from sklearn.preprocessing import LabelEncoder\n",
        "from sklearn.preprocessing import StandardScaler\n",
        "from yellowbrick.classifier import ConfusionMatrix\n",
        "from sklearn.model_selection import train_test_split\n",
        "from sklearn.metrics import accuracy_score, confusion_matrix, classification_report"
      ]
    },
    {
      "cell_type": "markdown",
      "metadata": {
        "id": "VUF8Z0Wlwg1G"
      },
      "source": [
        "##Leitura dos dados"
      ]
    },
    {
      "cell_type": "code",
      "execution_count": 15,
      "metadata": {
        "id": "d1yz3pbxwn2d"
      },
      "outputs": [],
      "source": [
        "base_credit = pd.read_csv('credit_data.csv')"
      ]
    },
    {
      "cell_type": "code",
      "execution_count": null,
      "metadata": {
        "colab": {
          "base_uri": "https://localhost:8080/",
          "height": 423
        },
        "id": "Q9uIrI8zwodq",
        "outputId": "9b2cbaa0-bf67-4e8d-9ebd-e771f826aa34"
      },
      "outputs": [],
      "source": [
        "base_credit"
      ]
    },
    {
      "cell_type": "markdown",
      "metadata": {
        "id": "bab2cL9Fwsxb"
      },
      "source": [
        "##Análise de dados"
      ]
    },
    {
      "cell_type": "code",
      "execution_count": null,
      "metadata": {
        "colab": {
          "base_uri": "https://localhost:8080/",
          "height": 363
        },
        "id": "m19hjasDwpae",
        "outputId": "72b2b81e-b3a8-49b0-904a-e7a9e57f6713"
      },
      "outputs": [],
      "source": [
        "base_credit.head(10)"
      ]
    },
    {
      "cell_type": "code",
      "execution_count": null,
      "metadata": {
        "colab": {
          "base_uri": "https://localhost:8080/",
          "height": 300
        },
        "id": "79WnheDvwuZq",
        "outputId": "616206a0-6207-4e55-f32a-6e6dd6a0669c"
      },
      "outputs": [],
      "source": [
        "base_credit.tail(8)"
      ]
    },
    {
      "cell_type": "code",
      "execution_count": null,
      "metadata": {
        "colab": {
          "base_uri": "https://localhost:8080/",
          "height": 300
        },
        "id": "X-EQ7_ulxBTw",
        "outputId": "05188954-b3c2-4832-b5f9-337d8ec21699"
      },
      "outputs": [],
      "source": [
        "base_credit.describe()"
      ]
    },
    {
      "cell_type": "code",
      "execution_count": null,
      "metadata": {
        "colab": {
          "base_uri": "https://localhost:8080/",
          "height": 81
        },
        "id": "QQliFoOi3F59",
        "outputId": "eb2789f9-0476-489b-aad9-4c49c83bfc3a"
      },
      "outputs": [],
      "source": [
        "base_credit[base_credit['income'] >= 69995.685578]"
      ]
    },
    {
      "cell_type": "code",
      "execution_count": null,
      "metadata": {
        "colab": {
          "base_uri": "https://localhost:8080/",
          "height": 81
        },
        "id": "NXAul5vv3IrG",
        "outputId": "72eea1b6-6c9b-4239-daeb-ff6aabd907d9"
      },
      "outputs": [],
      "source": [
        "base_credit[base_credit['loan'] <= 1.377630]"
      ]
    },
    {
      "cell_type": "code",
      "execution_count": null,
      "metadata": {
        "colab": {
          "base_uri": "https://localhost:8080/"
        },
        "id": "nnzVy8DgxEOT",
        "outputId": "5cb367d1-26c2-4c6b-8176-1add3ecf2336"
      },
      "outputs": [],
      "source": [
        "np.unique(base_credit['default'], return_counts=True)"
      ]
    },
    {
      "cell_type": "code",
      "execution_count": null,
      "metadata": {
        "colab": {
          "base_uri": "https://localhost:8080/",
          "height": 503
        },
        "id": "iA8WcitFyB5-",
        "outputId": "21b3f395-ef28-44e1-e343-f7742580d527"
      },
      "outputs": [],
      "source": [
        "sns.countplot(x = base_credit['default']);"
      ]
    },
    {
      "cell_type": "code",
      "execution_count": null,
      "metadata": {
        "colab": {
          "base_uri": "https://localhost:8080/",
          "height": 484
        },
        "id": "mXtSTyhDyDZN",
        "outputId": "b4db3198-00b1-4359-ae1c-75c072328b99"
      },
      "outputs": [],
      "source": [
        "plt.hist(x = base_credit['age']);"
      ]
    },
    {
      "cell_type": "code",
      "execution_count": null,
      "metadata": {
        "colab": {
          "base_uri": "https://localhost:8080/",
          "height": 484
        },
        "id": "faPKNa3CyFNz",
        "outputId": "71380b67-2507-4a2f-b608-101d09266963"
      },
      "outputs": [],
      "source": [
        "plt.hist(x = base_credit['income']);"
      ]
    },
    {
      "cell_type": "code",
      "execution_count": null,
      "metadata": {
        "colab": {
          "base_uri": "https://localhost:8080/",
          "height": 484
        },
        "id": "wJNMdNQLyD8r",
        "outputId": "c8dc6633-bb0e-4317-f7fa-74caf563e70d"
      },
      "outputs": [],
      "source": [
        "plt.hist(x = base_credit['loan']);"
      ]
    },
    {
      "cell_type": "code",
      "execution_count": null,
      "metadata": {
        "colab": {
          "base_uri": "https://localhost:8080/",
          "height": 542
        },
        "id": "tKNC-Vl6yIxE",
        "outputId": "44ded1f1-8d58-400f-a4d4-60cafc14c5fc"
      },
      "outputs": [],
      "source": [
        "grafico = px.scatter_matrix(base_credit, dimensions=['age', 'income', 'loan'], color = 'default')\n",
        "grafico.show()"
      ]
    },
    {
      "cell_type": "markdown",
      "metadata": {
        "id": "KqNYLKplylR1"
      },
      "source": [
        "###Tratamento de valores inconsistentes"
      ]
    },
    {
      "cell_type": "code",
      "execution_count": null,
      "metadata": {
        "colab": {
          "base_uri": "https://localhost:8080/",
          "height": 143
        },
        "id": "lBZ_VC9fynhh",
        "outputId": "3e1c728d-1b0b-4c3e-f981-5f51fad6ea3d"
      },
      "outputs": [],
      "source": [
        "base_credit.loc[base_credit['age'] < 0]"
      ]
    },
    {
      "cell_type": "code",
      "execution_count": null,
      "metadata": {
        "colab": {
          "base_uri": "https://localhost:8080/",
          "height": 143
        },
        "id": "QHu2Gl9ZypDB",
        "outputId": "3e208690-b782-4493-8055-a4c12bfe5a64"
      },
      "outputs": [],
      "source": [
        "base_credit[base_credit['age'] < 0]"
      ]
    },
    {
      "cell_type": "code",
      "execution_count": null,
      "metadata": {
        "colab": {
          "base_uri": "https://localhost:8080/",
          "height": 423
        },
        "id": "k2eyCpzFyq7_",
        "outputId": "12484f3c-3820-47d9-ee04-81cdcb7910f7"
      },
      "outputs": [],
      "source": [
        "# Apagar a coluna inteira (de todos os registros da base de dados)\n",
        "base_credit2 = base_credit.drop('age', axis = 1)\n",
        "base_credit2"
      ]
    },
    {
      "cell_type": "code",
      "execution_count": null,
      "metadata": {
        "colab": {
          "base_uri": "https://localhost:8080/"
        },
        "id": "IRjHIKEqyuH3",
        "outputId": "0b5ba69e-8d57-40c4-9872-02db7f43ce92"
      },
      "outputs": [],
      "source": [
        "base_credit.index"
      ]
    },
    {
      "cell_type": "code",
      "execution_count": null,
      "metadata": {
        "colab": {
          "base_uri": "https://localhost:8080/"
        },
        "id": "eWAEHVHCyvcG",
        "outputId": "185e01d2-ce01-4cad-c1c4-61d7f2bdda81"
      },
      "outputs": [],
      "source": [
        "base_credit[base_credit['age'] < 0].index"
      ]
    },
    {
      "cell_type": "code",
      "execution_count": null,
      "metadata": {
        "colab": {
          "base_uri": "https://localhost:8080/",
          "height": 423
        },
        "id": "LV3JTvVKyw0m",
        "outputId": "94690b11-fdcf-4a75-fc1c-fe983564bc86"
      },
      "outputs": [],
      "source": [
        "# Apagar somente os registros com valores inconsistentes\n",
        "base_credit3 = base_credit.drop(base_credit[base_credit['age'] < 0].index)\n",
        "base_credit3"
      ]
    },
    {
      "cell_type": "code",
      "execution_count": null,
      "metadata": {
        "colab": {
          "base_uri": "https://localhost:8080/",
          "height": 53
        },
        "id": "Dlzt3-GkyyhR",
        "outputId": "6b961cc1-3a85-4861-d660-e76a13708f74"
      },
      "outputs": [],
      "source": [
        "base_credit3.loc[base_credit3['age'] < 0]"
      ]
    },
    {
      "cell_type": "code",
      "execution_count": null,
      "metadata": {
        "colab": {
          "base_uri": "https://localhost:8080/"
        },
        "id": "6DQIxLNQy0AO",
        "outputId": "c57e4bfb-18a7-4c86-bbcb-e34c95692330"
      },
      "outputs": [],
      "source": [
        "base_credit.mean()"
      ]
    },
    {
      "cell_type": "code",
      "execution_count": null,
      "metadata": {
        "colab": {
          "base_uri": "https://localhost:8080/"
        },
        "id": "mobu_wYxy196",
        "outputId": "e403b4c2-27ed-4d59-94bb-28352658eb20"
      },
      "outputs": [],
      "source": [
        "base_credit['age'].mean()"
      ]
    },
    {
      "cell_type": "code",
      "execution_count": null,
      "metadata": {
        "colab": {
          "base_uri": "https://localhost:8080/"
        },
        "id": "A3F9HPUoy2ZG",
        "outputId": "aac62e53-fbce-407b-c7bb-5bd847145226"
      },
      "outputs": [],
      "source": [
        "base_credit['age'][base_credit['age'] > 0].mean()"
      ]
    },
    {
      "cell_type": "code",
      "execution_count": 38,
      "metadata": {
        "id": "53w_cE7py4ZO"
      },
      "outputs": [],
      "source": [
        "base_credit.loc[base_credit['age'] < 0, 'age'] = 40.92"
      ]
    },
    {
      "cell_type": "code",
      "execution_count": null,
      "metadata": {
        "colab": {
          "base_uri": "https://localhost:8080/",
          "height": 53
        },
        "id": "XQI0Oavay67a",
        "outputId": "b2acc2e0-314e-4426-be2c-be30db27a6f6"
      },
      "outputs": [],
      "source": [
        "base_credit.loc[base_credit['age'] < 0]"
      ]
    },
    {
      "cell_type": "code",
      "execution_count": null,
      "metadata": {
        "colab": {
          "base_uri": "https://localhost:8080/",
          "height": 896
        },
        "id": "dZ11aDhhy8au",
        "outputId": "be1d3766-294f-432a-88ec-8442d6d44ca8"
      },
      "outputs": [],
      "source": [
        "base_credit.head(27)"
      ]
    },
    {
      "cell_type": "markdown",
      "metadata": {
        "id": "dMHZwrP-y-hE"
      },
      "source": [
        "###Tratamento de valores faltantes"
      ]
    },
    {
      "cell_type": "code",
      "execution_count": null,
      "metadata": {
        "colab": {
          "base_uri": "https://localhost:8080/",
          "height": 423
        },
        "id": "_Ev0lYeoy_bF",
        "outputId": "54c93979-535e-4dd8-b587-dd85a01141ac"
      },
      "outputs": [],
      "source": [
        "base_credit.isnull()"
      ]
    },
    {
      "cell_type": "code",
      "execution_count": null,
      "metadata": {
        "colab": {
          "base_uri": "https://localhost:8080/"
        },
        "id": "QXu7f73_zA5L",
        "outputId": "41b00ddc-430e-4697-c570-6489be19e45e"
      },
      "outputs": [],
      "source": [
        "base_credit.isnull().sum()"
      ]
    },
    {
      "cell_type": "code",
      "execution_count": null,
      "metadata": {
        "colab": {
          "base_uri": "https://localhost:8080/",
          "height": 143
        },
        "id": "8uLkjlLvzCd0",
        "outputId": "dfd8b351-61b9-461e-f364-241c3029b9a4"
      },
      "outputs": [],
      "source": [
        "base_credit.loc[pd.isnull(base_credit['age'])]"
      ]
    },
    {
      "cell_type": "code",
      "execution_count": 44,
      "metadata": {
        "id": "ECa53BFRzD-K"
      },
      "outputs": [],
      "source": [
        "base_credit['age'].fillna(base_credit['age'].mean(), inplace = True)"
      ]
    },
    {
      "cell_type": "code",
      "execution_count": null,
      "metadata": {
        "colab": {
          "base_uri": "https://localhost:8080/",
          "height": 53
        },
        "id": "BwgQaeZvzGYq",
        "outputId": "2e7303b3-c4fa-4571-a948-7b2c63cbd8fe"
      },
      "outputs": [],
      "source": [
        "base_credit.loc[pd.isnull(base_credit['age'])]"
      ]
    },
    {
      "cell_type": "code",
      "execution_count": null,
      "metadata": {
        "colab": {
          "base_uri": "https://localhost:8080/",
          "height": 143
        },
        "id": "VTqO9uJOzIYy",
        "outputId": "69746673-2cab-4765-e699-5c6dce72561a"
      },
      "outputs": [],
      "source": [
        "base_credit.loc[(base_credit['clientid'] == 29) | (base_credit['clientid'] == 31) | (base_credit['clientid'] == 32)]"
      ]
    },
    {
      "cell_type": "code",
      "execution_count": null,
      "metadata": {
        "colab": {
          "base_uri": "https://localhost:8080/",
          "height": 143
        },
        "id": "GMqBg_mIzJSI",
        "outputId": "e4917e35-8f07-4f3e-94a6-c2e18ed63c92"
      },
      "outputs": [],
      "source": [
        "base_credit.loc[base_credit['clientid'].isin([29, 31, 32])]"
      ]
    },
    {
      "cell_type": "markdown",
      "metadata": {
        "id": "wtySv2u5zNKy"
      },
      "source": [
        "###Divisão entre previsores e classe"
      ]
    },
    {
      "cell_type": "code",
      "execution_count": null,
      "metadata": {
        "colab": {
          "base_uri": "https://localhost:8080/",
          "height": 203
        },
        "id": "h9TkO0-bzK2B",
        "outputId": "ac8a9fc2-e79c-4e3e-aa7c-085ede6146da"
      },
      "outputs": [],
      "source": [
        "type(base_credit)"
      ]
    },
    {
      "cell_type": "code",
      "execution_count": 49,
      "metadata": {
        "id": "7pfvJO4SzRP4"
      },
      "outputs": [],
      "source": [
        "X_credit = base_credit.iloc[:, 1:4].values"
      ]
    },
    {
      "cell_type": "code",
      "execution_count": null,
      "metadata": {
        "colab": {
          "base_uri": "https://localhost:8080/"
        },
        "id": "0dUDlYgezSy_",
        "outputId": "a3d27a21-ab14-4a89-ebd9-d1c2affdb549"
      },
      "outputs": [],
      "source": [
        "X_credit"
      ]
    },
    {
      "cell_type": "code",
      "execution_count": null,
      "metadata": {
        "colab": {
          "base_uri": "https://localhost:8080/"
        },
        "id": "xBSdiGyvzVPV",
        "outputId": "77e2879d-016f-4654-93fb-83875adf3827"
      },
      "outputs": [],
      "source": [
        "type(X_credit)"
      ]
    },
    {
      "cell_type": "code",
      "execution_count": 52,
      "metadata": {
        "id": "R2obYU_BzWfg"
      },
      "outputs": [],
      "source": [
        "y_credit = base_credit.iloc[:, 4].values"
      ]
    },
    {
      "cell_type": "code",
      "execution_count": null,
      "metadata": {
        "colab": {
          "base_uri": "https://localhost:8080/"
        },
        "id": "j1TbObJQzYIX",
        "outputId": "1d70aac6-d064-434a-9f6c-ebf99d61cc93"
      },
      "outputs": [],
      "source": [
        "y_credit"
      ]
    },
    {
      "cell_type": "code",
      "execution_count": null,
      "metadata": {
        "colab": {
          "base_uri": "https://localhost:8080/"
        },
        "id": "GTSFLJPgzZ7_",
        "outputId": "6913b6e2-965a-4d45-9253-2db12db5fb5c"
      },
      "outputs": [],
      "source": [
        "type(y_credit)"
      ]
    },
    {
      "cell_type": "markdown",
      "metadata": {
        "id": "icfHOFlKzb1l"
      },
      "source": [
        "###Escalonamento dos valores"
      ]
    },
    {
      "cell_type": "code",
      "execution_count": null,
      "metadata": {
        "colab": {
          "base_uri": "https://localhost:8080/"
        },
        "id": "Djyx5wUrzcpE",
        "outputId": "d2fd10a7-17f8-43de-b698-c8742cf8b184"
      },
      "outputs": [],
      "source": [
        "X_credit"
      ]
    },
    {
      "cell_type": "code",
      "execution_count": null,
      "metadata": {
        "colab": {
          "base_uri": "https://localhost:8080/"
        },
        "id": "-cCxhMiKzfOA",
        "outputId": "a9e4fa4a-2a26-4b96-d0fa-fdbde95b9f6a"
      },
      "outputs": [],
      "source": [
        "X_credit[:,0].min(), X_credit[:,1].min(), X_credit[:,2].min()"
      ]
    },
    {
      "cell_type": "code",
      "execution_count": null,
      "metadata": {
        "colab": {
          "base_uri": "https://localhost:8080/"
        },
        "id": "JRUngPZiz88Q",
        "outputId": "bdfd1ba2-dd4e-402b-cce4-44ecf4fd18fc"
      },
      "outputs": [],
      "source": [
        "X_credit[:,0].max(), X_credit[:,1].max(), X_credit[:,2].max()"
      ]
    },
    {
      "cell_type": "code",
      "execution_count": 58,
      "metadata": {
        "id": "i-r6FVCC0NZA"
      },
      "outputs": [],
      "source": [
        "scaler_credit = StandardScaler()\n",
        "X_credit = scaler_credit.fit_transform(X_credit)"
      ]
    },
    {
      "cell_type": "code",
      "execution_count": null,
      "metadata": {
        "colab": {
          "base_uri": "https://localhost:8080/"
        },
        "id": "S1CRkh2-0Tj-",
        "outputId": "fdfbe01a-9efc-427b-c945-dfc789f4dddc"
      },
      "outputs": [],
      "source": [
        "X_credit[:,0].min(), X_credit[:,1].min(), X_credit[:,2].min()"
      ]
    },
    {
      "cell_type": "code",
      "execution_count": null,
      "metadata": {
        "colab": {
          "base_uri": "https://localhost:8080/"
        },
        "id": "7DKCtRdJ0VC2",
        "outputId": "0890306d-dbb3-4006-8aea-e76525a5712c"
      },
      "outputs": [],
      "source": [
        "X_credit[:,0].max(), X_credit[:,1].max(), X_credit[:,2].max()"
      ]
    },
    {
      "cell_type": "code",
      "execution_count": null,
      "metadata": {
        "colab": {
          "base_uri": "https://localhost:8080/"
        },
        "id": "ErzZUCpS0XqP",
        "outputId": "6b4d178a-13b5-4c51-fb8a-7c6a317eb8fb"
      },
      "outputs": [],
      "source": [
        "X_credit"
      ]
    },
    {
      "cell_type": "markdown",
      "metadata": {
        "id": "nqnIb1pf0hpU"
      },
      "source": [
        "##Divisão das bases em treinamento e teste"
      ]
    },
    {
      "cell_type": "code",
      "execution_count": 62,
      "metadata": {
        "id": "NOYiim390ird"
      },
      "outputs": [],
      "source": [
        "X_credit_treinamento, X_credit_teste, y_credit_treinamento, y_credit_teste = train_test_split(X_credit, y_credit, test_size = 0.25, random_state = 0)"
      ]
    },
    {
      "cell_type": "code",
      "execution_count": null,
      "metadata": {
        "colab": {
          "base_uri": "https://localhost:8080/"
        },
        "id": "xNrkLBIw0kmq",
        "outputId": "6a07d180-6ef1-46ca-b42b-5b3a7e7d434f"
      },
      "outputs": [],
      "source": [
        "X_credit_treinamento.shape"
      ]
    },
    {
      "cell_type": "code",
      "execution_count": null,
      "metadata": {
        "colab": {
          "base_uri": "https://localhost:8080/"
        },
        "id": "uJZ2QhAR0m_6",
        "outputId": "eeab009e-3ab6-4731-94ad-423fb0812e34"
      },
      "outputs": [],
      "source": [
        "y_credit_treinamento.shape"
      ]
    },
    {
      "cell_type": "code",
      "execution_count": null,
      "metadata": {
        "colab": {
          "base_uri": "https://localhost:8080/"
        },
        "id": "AyXtcdJq0oeR",
        "outputId": "6843b562-b037-4afb-f444-08f5157a74aa"
      },
      "outputs": [],
      "source": [
        "X_credit_teste.shape, y_credit_teste.shape"
      ]
    },
    {
      "cell_type": "markdown",
      "metadata": {
        "id": "Vb_YTl3niM5p"
      },
      "source": [
        "##Algoritmo Naive Bayes - Gaussian"
      ]
    },
    {
      "cell_type": "code",
      "execution_count": null,
      "metadata": {
        "colab": {
          "base_uri": "https://localhost:8080/",
          "height": 74
        },
        "id": "BiPZtFgd0skS",
        "outputId": "4889e56b-fded-49c2-903f-2b89360fb937"
      },
      "outputs": [],
      "source": [
        "naive_credit_data = GaussianNB()\n",
        "naive_credit_data.fit(X_credit_treinamento, y_credit_treinamento)"
      ]
    },
    {
      "cell_type": "code",
      "execution_count": 67,
      "metadata": {
        "id": "hwil85gC1BXl"
      },
      "outputs": [],
      "source": [
        "previsoes = naive_credit_data.predict(X_credit_teste)"
      ]
    },
    {
      "cell_type": "code",
      "execution_count": null,
      "metadata": {
        "colab": {
          "base_uri": "https://localhost:8080/"
        },
        "id": "ZeqvfskM1CwU",
        "outputId": "a9b7289e-3748-4d4c-9a52-c620daf253a5"
      },
      "outputs": [],
      "source": [
        "previsoes"
      ]
    },
    {
      "cell_type": "code",
      "execution_count": null,
      "metadata": {
        "colab": {
          "base_uri": "https://localhost:8080/"
        },
        "id": "RaEetqOE1EX_",
        "outputId": "a393e37c-64c5-43f3-cb30-ca6abc689494"
      },
      "outputs": [],
      "source": [
        "y_credit_teste"
      ]
    },
    {
      "cell_type": "code",
      "execution_count": null,
      "metadata": {
        "colab": {
          "base_uri": "https://localhost:8080/"
        },
        "id": "7lhFzrG11G1-",
        "outputId": "2bf18e41-f097-4a3b-fd0c-b2eba16d928e"
      },
      "outputs": [],
      "source": [
        "accuracy_score(y_credit_teste, previsoes)"
      ]
    },
    {
      "cell_type": "code",
      "execution_count": null,
      "metadata": {
        "colab": {
          "base_uri": "https://localhost:8080/"
        },
        "id": "7WcofOxx1II9",
        "outputId": "b390ef12-42ae-4af7-f06d-b2756bb0f08d"
      },
      "outputs": [],
      "source": [
        "confusion_matrix(y_credit_teste, previsoes)"
      ]
    },
    {
      "cell_type": "code",
      "execution_count": null,
      "metadata": {
        "colab": {
          "base_uri": "https://localhost:8080/",
          "height": 496
        },
        "id": "Ee3BChLc1bU6",
        "outputId": "de625749-af7e-4df0-b472-183b693dfc2d"
      },
      "outputs": [],
      "source": [
        "cm = ConfusionMatrix(naive_credit_data)\n",
        "cm.fit(X_credit_treinamento, y_credit_treinamento)\n",
        "cm.score(X_credit_teste, y_credit_teste)"
      ]
    },
    {
      "cell_type": "code",
      "execution_count": null,
      "metadata": {
        "colab": {
          "base_uri": "https://localhost:8080/"
        },
        "id": "EwCVLn5g1dU_",
        "outputId": "f9fbb1f9-34c6-42cd-9553-c49d3ab06ab2"
      },
      "outputs": [],
      "source": [
        "print(classification_report(y_credit_teste, previsoes))"
      ]
    },
    {
      "cell_type": "markdown",
      "metadata": {
        "id": "mnEU8gwT4p_i"
      },
      "source": [
        "##Atividades de casa\n",
        "- Utilize a mesma base de dados para outros modelos de algoritmo Naive Bayes."
      ]
    },
    {
      "cell_type": "markdown",
      "metadata": {
        "id": "Nx0py0djiU5x"
      },
      "source": [
        "##Referências\n",
        "- [O algoritmo Naive Bayes — descrição e implementação em Python](https://joaoclaudionc.medium.com/o-algoritmo-naive-bayes-descri%C3%A7%C3%A3o-e-implementa%C3%A7%C3%A3o-em-python-35757ade6b36)\n",
        "- [Naive Bayes](https://scikit-learn.org/stable/modules/naive_bayes.html#multinomial-naive-bayes)\n",
        "- [Credit Risk Dataset](https://www.kaggle.com/datasets/laotse/credit-risk-dataset)\n",
        "- [Machine Learning e Data Science com Python de A a Z\n",
        "](https://www.udemy.com/share/101sO83@3JeaCsoVXbtLR3c19vqxGXpQtlRYAXiHwCeouw_gbHJJjG_yQKxj_n81udLVMCgf/)"
      ]
    }
  ],
  "metadata": {
    "colab": {
      "provenance": []
    },
    "kernelspec": {
      "display_name": "Python 3",
      "name": "python3"
    },
    "language_info": {
      "name": "python"
    }
  },
  "nbformat": 4,
  "nbformat_minor": 0
}
