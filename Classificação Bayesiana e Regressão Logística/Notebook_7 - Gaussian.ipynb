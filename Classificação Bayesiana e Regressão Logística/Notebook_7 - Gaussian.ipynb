{
  "cells": [
    {
      "cell_type": "markdown",
      "metadata": {
        "id": "46Wgvcemg2zt"
      },
      "source": [
        "#**Notebook 07**\n",
        "- **Professor:** Iális Cavalcante\n",
        "- **Monitor:** Iago Magalhães\n",
        "- **Disciplina:** Ciência de dados\n",
        "- **Curso:** Engenharia da Computação\n",
        "- **Descrição:**\n",
        "No notebook 7 iremos aprender sobre o algoritmo Naive Bayes.\n"
      ]
    },
    {
      "cell_type": "markdown",
      "metadata": {
        "id": "NOSU58lWh-ZL"
      },
      "source": [
        "##Importações de bibliotecas"
      ]
    },
    {
      "cell_type": "code",
      "execution_count": 4,
      "metadata": {
        "id": "UEMJd3sPfhzB"
      },
      "outputs": [],
      "source": [
        "import pandas as pd\n",
        "\n",
        "from sklearn.feature_extraction.text import CountVectorizer\n",
        "from sklearn.model_selection import train_test_split\n",
        "from sklearn.naive_bayes import GaussianNB\n",
        "from sklearn.metrics import accuracy_score"
      ]
    },
    {
      "cell_type": "markdown",
      "metadata": {
        "id": "Vb_YTl3niM5p"
      },
      "source": [
        "##Algoritmo Naive Bayes - Gaussian"
      ]
    },
    {
      "cell_type": "markdown",
      "metadata": {
        "id": "TmdT8e0l8lNR"
      },
      "source": [
        "###Exemplo 1"
      ]
    },
    {
      "cell_type": "code",
      "execution_count": null,
      "metadata": {
        "colab": {
          "base_uri": "https://localhost:8080/"
        },
        "id": "iSP91hQ4iD9q",
        "outputId": "8792dab6-8958-4dc1-ec01-cdd9e0b258c8"
      },
      "outputs": [],
      "source": [
        "# Criando o dataframe de exemplo\n",
        "dados = {\n",
        "    'temperatura': [30, 25, 28, 18, 20, 22, 24, 28, 26, 30],\n",
        "    'umidade': [85, 90, 78, 65, 75, 70, 80, 75, 80, 70],\n",
        "    'jogar_tenis': ['Não', 'Não', 'Sim', 'Sim', 'Sim', 'Sim', 'Não', 'Sim', 'Sim', 'Não']\n",
        "}\n",
        "\n",
        "df = pd.DataFrame(dados)\n",
        "print(df)"
      ]
    },
    {
      "cell_type": "code",
      "execution_count": null,
      "metadata": {
        "colab": {
          "base_uri": "https://localhost:8080/"
        },
        "id": "W27ARJhjigh9",
        "outputId": "ea8f829f-b404-44be-a972-8c949d011d52"
      },
      "outputs": [],
      "source": [
        "# Separando as variáveis de entrada (temperatura e umidade) e o alvo (jogar_tenis)\n",
        "X = df[['temperatura', 'umidade']]\n",
        "y = df['jogar_tenis']\n",
        "\n",
        "# Dividindo o conjunto de dados em treinamento e teste\n",
        "X_train, X_test, y_train, y_test = train_test_split(X, y, test_size=0.2, random_state=42)\n",
        "\n",
        "# Criando o modelo Naive Bayes Gaussiano\n",
        "modelo = GaussianNB()\n",
        "\n",
        "# Treinando o modelo\n",
        "modelo.fit(X_train, y_train)\n",
        "\n",
        "# Fazendo previsões\n",
        "y_pred = modelo.predict(X_test)\n",
        "\n",
        "# Calculando a acurácia do modelo\n",
        "acuracia = accuracy_score(y_test, y_pred)\n",
        "print('Acurácia:', acuracia)"
      ]
    },
    {
      "cell_type": "markdown",
      "metadata": {
        "id": "e7f0mBBd8GEv"
      },
      "source": [
        "###Exemplo 2"
      ]
    },
    {
      "cell_type": "code",
      "execution_count": null,
      "metadata": {
        "colab": {
          "base_uri": "https://localhost:8080/"
        },
        "id": "B77Xxxbz8IV2",
        "outputId": "5865a43e-5efc-4136-ee2c-8c1d1c8b0171"
      },
      "outputs": [],
      "source": [
        "# Criando o dataframe de exemplo\n",
        "dados = {\n",
        "    'texto': [\n",
        "        'oferta incrível! compre agora',\n",
        "        'ganhe dinheiro rápido e fácil',\n",
        "        'promoção exclusiva por tempo limitado',\n",
        "        'trabalhe em casa e tenha renda extra',\n",
        "        'sua encomenda foi entregue',\n",
        "        'confirmação do seu pedido'\n",
        "    ],\n",
        "    'spam': ['spam', 'spam', 'spam', 'spam', 'não spam', 'não spam']\n",
        "}\n",
        "\n",
        "df = pd.DataFrame(dados)\n",
        "print(df)"
      ]
    },
    {
      "cell_type": "code",
      "execution_count": null,
      "metadata": {
        "colab": {
          "base_uri": "https://localhost:8080/"
        },
        "id": "58RjZCFC8LBb",
        "outputId": "b7c2d4c3-82b8-4c3b-ed21-3afa8cb15fc9"
      },
      "outputs": [],
      "source": [
        "# Convertendo o texto em recursos numéricos usando Bag of Words\n",
        "vectorizer = CountVectorizer()\n",
        "X = vectorizer.fit_transform(df['texto'])\n",
        "y = df['spam']\n",
        "\n",
        "# Dividindo o conjunto de dados em treinamento e teste\n",
        "X_train, X_test, y_train, y_test = train_test_split(X, y, test_size=0.2, random_state=42)\n",
        "\n",
        "# Criando o modelo Naive Bayes Gaussiano\n",
        "modelo = GaussianNB()\n",
        "\n",
        "# Treinando o modelo\n",
        "modelo.fit(X_train.toarray(), y_train)\n",
        "\n",
        "# Fazendo previsões\n",
        "y_pred = modelo.predict(X_test.toarray())\n",
        "\n",
        "# Calculando a acurácia do modelo\n",
        "acuracia = accuracy_score(y_test, y_pred)\n",
        "print('Acurácia:', acuracia)"
      ]
    },
    {
      "cell_type": "markdown",
      "metadata": {
        "id": "Nx0py0djiU5x"
      },
      "source": [
        "##Referências\n",
        "- [O algoritmo Naive Bayes — descrição e implementação em Python](https://joaoclaudionc.medium.com/o-algoritmo-naive-bayes-descri%C3%A7%C3%A3o-e-implementa%C3%A7%C3%A3o-em-python-35757ade6b36)\n",
        "- [Naive Bayes](https://scikit-learn.org/stable/modules/naive_bayes.html#multinomial-naive-bayes)"
      ]
    }
  ],
  "metadata": {
    "colab": {
      "provenance": [],
      "toc_visible": true
    },
    "kernelspec": {
      "display_name": "Python 3",
      "name": "python3"
    },
    "language_info": {
      "name": "python"
    }
  },
  "nbformat": 4,
  "nbformat_minor": 0
}
