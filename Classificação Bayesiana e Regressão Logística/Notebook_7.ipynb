{
  "nbformat": 4,
  "nbformat_minor": 0,
  "metadata": {
    "colab": {
      "provenance": [],
      "toc_visible": true
    },
    "kernelspec": {
      "name": "python3",
      "display_name": "Python 3"
    },
    "language_info": {
      "name": "python"
    }
  },
  "cells": [
    {
      "cell_type": "markdown",
      "source": [
        "#**Notebook 07**\n",
        "- **Professor:** Iális Cavalcante\n",
        "- **Monitor:** Iago Magalhães\n",
        "- **Disciplina:** Ciência de dados\n",
        "- **Curso:** Engenharia da Computação\n",
        "- **Descrição:**\n",
        "No notebook 7 iremos aprender sobre o algoritmo Naive Bayes.\n"
      ],
      "metadata": {
        "id": "46Wgvcemg2zt"
      }
    },
    {
      "cell_type": "markdown",
      "source": [
        "##Importações de bibliotecas"
      ],
      "metadata": {
        "id": "NOSU58lWh-ZL"
      }
    },
    {
      "cell_type": "code",
      "execution_count": 4,
      "metadata": {
        "id": "UEMJd3sPfhzB"
      },
      "outputs": [],
      "source": [
        "import pandas as pd\n",
        "\n",
        "from sklearn.feature_extraction.text import CountVectorizer\n",
        "from sklearn.model_selection import train_test_split\n",
        "from sklearn.naive_bayes import GaussianNB\n",
        "from sklearn.metrics import accuracy_score"
      ]
    },
    {
      "cell_type": "markdown",
      "source": [
        "##Algoritmo Naive Bayes - Gaussian"
      ],
      "metadata": {
        "id": "Vb_YTl3niM5p"
      }
    },
    {
      "cell_type": "markdown",
      "source": [
        "###Exemplo 1"
      ],
      "metadata": {
        "id": "TmdT8e0l8lNR"
      }
    },
    {
      "cell_type": "code",
      "source": [
        "# Criando o dataframe de exemplo\n",
        "dados = {\n",
        "    'temperatura': [30, 25, 28, 18, 20, 22, 24, 28, 26, 30],\n",
        "    'umidade': [85, 90, 78, 65, 75, 70, 80, 75, 80, 70],\n",
        "    'jogar_tenis': ['Não', 'Não', 'Sim', 'Sim', 'Sim', 'Sim', 'Não', 'Sim', 'Sim', 'Não']\n",
        "}\n",
        "\n",
        "df = pd.DataFrame(dados)\n",
        "print(df)"
      ],
      "metadata": {
        "id": "iSP91hQ4iD9q",
        "colab": {
          "base_uri": "https://localhost:8080/"
        },
        "outputId": "8792dab6-8958-4dc1-ec01-cdd9e0b258c8"
      },
      "execution_count": 2,
      "outputs": [
        {
          "output_type": "stream",
          "name": "stdout",
          "text": [
            "   temperatura  umidade jogar_tenis\n",
            "0           30       85         Não\n",
            "1           25       90         Não\n",
            "2           28       78         Sim\n",
            "3           18       65         Sim\n",
            "4           20       75         Sim\n",
            "5           22       70         Sim\n",
            "6           24       80         Não\n",
            "7           28       75         Sim\n",
            "8           26       80         Sim\n",
            "9           30       70         Não\n"
          ]
        }
      ]
    },
    {
      "cell_type": "code",
      "source": [
        "# Separando as variáveis de entrada (temperatura e umidade) e o alvo (jogar_tenis)\n",
        "X = df[['temperatura', 'umidade']]\n",
        "y = df['jogar_tenis']\n",
        "\n",
        "# Dividindo o conjunto de dados em treinamento e teste\n",
        "X_train, X_test, y_train, y_test = train_test_split(X, y, test_size=0.2, random_state=42)\n",
        "\n",
        "# Criando o modelo Naive Bayes Gaussiano\n",
        "modelo = GaussianNB()\n",
        "\n",
        "# Treinando o modelo\n",
        "modelo.fit(X_train, y_train)\n",
        "\n",
        "# Fazendo previsões\n",
        "y_pred = modelo.predict(X_test)\n",
        "\n",
        "# Calculando a acurácia do modelo\n",
        "acuracia = accuracy_score(y_test, y_pred)\n",
        "print('Acurácia:', acuracia)"
      ],
      "metadata": {
        "id": "W27ARJhjigh9",
        "colab": {
          "base_uri": "https://localhost:8080/"
        },
        "outputId": "ea8f829f-b404-44be-a972-8c949d011d52"
      },
      "execution_count": 3,
      "outputs": [
        {
          "output_type": "stream",
          "name": "stdout",
          "text": [
            "Acurácia: 0.5\n"
          ]
        }
      ]
    },
    {
      "cell_type": "markdown",
      "source": [
        "###Exemplo 2"
      ],
      "metadata": {
        "id": "e7f0mBBd8GEv"
      }
    },
    {
      "cell_type": "code",
      "source": [
        "# Criando o dataframe de exemplo\n",
        "dados = {\n",
        "    'texto': [\n",
        "        'oferta incrível! compre agora',\n",
        "        'ganhe dinheiro rápido e fácil',\n",
        "        'promoção exclusiva por tempo limitado',\n",
        "        'trabalhe em casa e tenha renda extra',\n",
        "        'sua encomenda foi entregue',\n",
        "        'confirmação do seu pedido'\n",
        "    ],\n",
        "    'spam': ['spam', 'spam', 'spam', 'spam', 'não spam', 'não spam']\n",
        "}\n",
        "\n",
        "df = pd.DataFrame(dados)\n",
        "print(df)"
      ],
      "metadata": {
        "colab": {
          "base_uri": "https://localhost:8080/"
        },
        "id": "B77Xxxbz8IV2",
        "outputId": "5865a43e-5efc-4136-ee2c-8c1d1c8b0171"
      },
      "execution_count": 5,
      "outputs": [
        {
          "output_type": "stream",
          "name": "stdout",
          "text": [
            "                                   texto      spam\n",
            "0          oferta incrível! compre agora      spam\n",
            "1          ganhe dinheiro rápido e fácil      spam\n",
            "2  promoção exclusiva por tempo limitado      spam\n",
            "3   trabalhe em casa e tenha renda extra      spam\n",
            "4             sua encomenda foi entregue  não spam\n",
            "5              confirmação do seu pedido  não spam\n"
          ]
        }
      ]
    },
    {
      "cell_type": "code",
      "source": [
        "# Convertendo o texto em recursos numéricos usando Bag of Words\n",
        "vectorizer = CountVectorizer()\n",
        "X = vectorizer.fit_transform(df['texto'])\n",
        "y = df['spam']\n",
        "\n",
        "# Dividindo o conjunto de dados em treinamento e teste\n",
        "X_train, X_test, y_train, y_test = train_test_split(X, y, test_size=0.2, random_state=42)\n",
        "\n",
        "# Criando o modelo Naive Bayes Gaussiano\n",
        "modelo = GaussianNB()\n",
        "\n",
        "# Treinando o modelo\n",
        "modelo.fit(X_train.toarray(), y_train)\n",
        "\n",
        "# Fazendo previsões\n",
        "y_pred = modelo.predict(X_test.toarray())\n",
        "\n",
        "# Calculando a acurácia do modelo\n",
        "acuracia = accuracy_score(y_test, y_pred)\n",
        "print('Acurácia:', acuracia)"
      ],
      "metadata": {
        "colab": {
          "base_uri": "https://localhost:8080/"
        },
        "id": "58RjZCFC8LBb",
        "outputId": "b7c2d4c3-82b8-4c3b-ed21-3afa8cb15fc9"
      },
      "execution_count": 6,
      "outputs": [
        {
          "output_type": "stream",
          "name": "stdout",
          "text": [
            "Acurácia: 0.0\n"
          ]
        }
      ]
    },
    {
      "cell_type": "markdown",
      "source": [
        "##Atividades de casa\n",
        "- Utilize outra base de dados e analise os resultados para o algoritmo KMeans."
      ],
      "metadata": {
        "id": "mnEU8gwT4p_i"
      }
    },
    {
      "cell_type": "markdown",
      "source": [
        "##Referências\n",
        "- [O algoritmo Naive Bayes — descrição e implementação em Python](https://joaoclaudionc.medium.com/o-algoritmo-naive-bayes-descri%C3%A7%C3%A3o-e-implementa%C3%A7%C3%A3o-em-python-35757ade6b36)\n",
        "- [Naive Bayes](https://scikit-learn.org/stable/modules/naive_bayes.html#multinomial-naive-bayes)"
      ],
      "metadata": {
        "id": "Nx0py0djiU5x"
      }
    }
  ]
}