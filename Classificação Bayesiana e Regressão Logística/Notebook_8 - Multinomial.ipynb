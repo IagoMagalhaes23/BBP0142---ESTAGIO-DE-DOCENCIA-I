{
  "cells": [
    {
      "cell_type": "markdown",
      "metadata": {
        "id": "46Wgvcemg2zt"
      },
      "source": [
        "#**Notebook 08**\n",
        "- **Professor:** Iális Cavalcante\n",
        "- **Monitor:** Iago Magalhães\n",
        "- **Disciplina:** Ciência de dados\n",
        "- **Curso:** Engenharia da Computação\n",
        "- **Descrição:**\n",
        "No notebook 8 iremos aprender sobre o algoritmo Naive Bayes Multinomial.\n"
      ]
    },
    {
      "cell_type": "markdown",
      "metadata": {
        "id": "NOSU58lWh-ZL"
      },
      "source": [
        "##Importações de bibliotecas"
      ]
    },
    {
      "cell_type": "code",
      "execution_count": null,
      "metadata": {
        "id": "UEMJd3sPfhzB"
      },
      "outputs": [],
      "source": [
        "import pandas as pd\n",
        "\n",
        "from sklearn.feature_extraction.text import CountVectorizer\n",
        "from sklearn.model_selection import train_test_split\n",
        "from sklearn.naive_bayes import MultinomialNB\n",
        "from sklearn.metrics import accuracy_score"
      ]
    },
    {
      "cell_type": "markdown",
      "metadata": {
        "id": "Vb_YTl3niM5p"
      },
      "source": [
        "##Algoritmo Naive Bayes - Gaussian"
      ]
    },
    {
      "cell_type": "markdown",
      "metadata": {
        "id": "TmdT8e0l8lNR"
      },
      "source": [
        "###Exemplo 1"
      ]
    },
    {
      "cell_type": "code",
      "execution_count": null,
      "metadata": {
        "id": "iSP91hQ4iD9q"
      },
      "outputs": [],
      "source": [
        "# Criando um dataframe de exemplo\n",
        "data = {\n",
        "    'Mensagem': ['Promoção incrível! Aproveite nossas ofertas', 'Olá, como você está?', 'Ganhe dinheiro rápido!', 'Convite para a festa de aniversário'],\n",
        "    'Classe': ['spam', 'não spam', 'spam', 'não spam']\n",
        "}\n",
        "\n",
        "df = pd.DataFrame(data)"
      ]
    },
    {
      "cell_type": "code",
      "execution_count": null,
      "metadata": {
        "colab": {
          "base_uri": "https://localhost:8080/"
        },
        "id": "W27ARJhjigh9",
        "outputId": "daf57720-2d7a-468b-f4c8-9d3753d58b9a"
      },
      "outputs": [],
      "source": [
        "# Criando um vetorizador para converter texto em vetores de contagem de palavras\n",
        "vectorizer = CountVectorizer()\n",
        "\n",
        "# Vetorizando as mensagens\n",
        "X = vectorizer.fit_transform(df['Mensagem'])\n",
        "\n",
        "# Criando o modelo Naive Bayes\n",
        "model = MultinomialNB()\n",
        "\n",
        "# Treinando o modelo com os dados\n",
        "model.fit(X, df['Classe'])\n",
        "\n",
        "# Exemplo de classificação de uma nova mensagem\n",
        "nova_mensagem = ['Ganhe dinheiro rápido e fácil!']\n",
        "\n",
        "# Vetorizando a nova mensagem\n",
        "nova_mensagem_vetorizada = vectorizer.transform(nova_mensagem)\n",
        "\n",
        "# Classificando a nova mensagem\n",
        "resultado = model.predict(nova_mensagem_vetorizada)\n",
        "\n",
        "print(resultado)  # Saída: ['spam']"
      ]
    },
    {
      "cell_type": "markdown",
      "metadata": {
        "id": "mnEU8gwT4p_i"
      },
      "source": [
        "##Atividades de casa\n",
        "- Utilize a mesma base de dados e analise os resultados para outros algoritmos."
      ]
    },
    {
      "cell_type": "markdown",
      "metadata": {
        "id": "Nx0py0djiU5x"
      },
      "source": [
        "##Referências\n",
        "- [O algoritmo Naive Bayes — descrição e implementação em Python](https://joaoclaudionc.medium.com/o-algoritmo-naive-bayes-descri%C3%A7%C3%A3o-e-implementa%C3%A7%C3%A3o-em-python-35757ade6b36)\n",
        "- [Naive Bayes](https://scikit-learn.org/stable/modules/naive_bayes.html#multinomial-naive-bayes)"
      ]
    }
  ],
  "metadata": {
    "colab": {
      "provenance": [],
      "toc_visible": true
    },
    "kernelspec": {
      "display_name": "Python 3",
      "name": "python3"
    },
    "language_info": {
      "name": "python"
    }
  },
  "nbformat": 4,
  "nbformat_minor": 0
}
