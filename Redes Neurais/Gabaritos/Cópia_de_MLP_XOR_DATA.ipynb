{
  "cells": [
    {
      "cell_type": "code",
      "execution_count": null,
      "metadata": {
        "id": "BwrwfTOdAAlA"
      },
      "outputs": [],
      "source": [
        "import numpy as np\n",
        "import pandas as pd\n",
        "import random\n",
        "import matplotlib.pyplot as mp\n",
        "from sklearn.model_selection import train_test_split"
      ]
    },
    {
      "cell_type": "code",
      "execution_count": null,
      "metadata": {
        "id": "G-eCSjczAK5B"
      },
      "outputs": [],
      "source": [
        "def tratamentoDados(banco):\n",
        "  #Realiza a leitura do banco no formato csv e guarda em data\n",
        "  data = pd.read_csv(banco)\n",
        "  data.tail()\n",
        "\n",
        "  #Divisão conjunto de treinamento e testes\n",
        "  data = np.asarray(data)\n",
        "  dados = np.zeros((len(data), len(data[0]) - 2))\n",
        "  classes = np.zeros((len(data), len(data[0]) - 2))\n",
        "\n",
        "  for i in range(len(data)):\n",
        "    for j in range(2):\n",
        "      dados[i][j] = data[i][j]\n",
        "      classes[i][j] = data[i][j + 2]\n",
        "\n",
        "  #Separação de dados de treino e teste\n",
        "  X_train, X_test, y_train, y_test = train_test_split(dados, classes, test_size = 0.2, random_state = 42)\n",
        "\n",
        "  X_train = X_train.astype('float32') #Converte a variável em float\n",
        "  X_test = X_test.astype('float32') #Converte a variável em float\n",
        "\n",
        "  print('Número de dados no conjunto de treinamento:', len(X_train)) #Exibindo dados da variável X_train\n",
        "  print('Número de dados no conjunto de teste:', len(X_test)) #Exibindo dados da variável X_test\n",
        "  print('Número de classes no conjunto de treinamento:', len(y_train)) #Exibindo dados da variável X_train\n",
        "  print('Número de classes no conjunto de teste:', len(y_test)) #Exibindo dados da variável X_test\n",
        "\n",
        "  print(X_train.shape)\n",
        "  print(X_test.shape)\n",
        "  print(y_train.shape)\n",
        "  print(y_test.shape)\n",
        "\n",
        "  print('---------------------------------------------')\n",
        "\n",
        "  return X_train, X_test, y_train, y_test"
      ]
    },
    {
      "cell_type": "code",
      "execution_count": null,
      "metadata": {
        "id": "iq0j38PPAPRB"
      },
      "outputs": [],
      "source": [
        "def sigmoid(soma):\n",
        "  return 1 / (1 + np.exp(-soma))\n",
        "\n",
        "def sigmoidDerivada(sig):\n",
        "  return sig * (1 - sig)"
      ]
    },
    {
      "cell_type": "code",
      "execution_count": null,
      "metadata": {
        "id": "jxLLB1PpAR5g"
      },
      "outputs": [],
      "source": [
        "def treinar(epocas, entradas, saidas, taxaAprendizagem, momento, pesosEntrada, pesosSaida):\n",
        "  historicoErro = []\n",
        "  historicoDelta = []\n",
        "  for i in range(epocas):\n",
        "    somaEntrada = np.dot(entradas, pesosEntrada)\n",
        "    camadaOculta = sigmoid(somaEntrada)\n",
        "\n",
        "    somaSaida = np.dot(camadaOculta, pesosSaida)\n",
        "    camadaSaida = sigmoid(somaSaida)\n",
        "\n",
        "    #print(camadaSaida.shape)\n",
        "    #print(entradas.shape)\n",
        "    erro = np.empty((len(saidas), 2))\n",
        "\n",
        "    erro = saidas - camadaSaida\n",
        "\n",
        "    #print(erro.shape)\n",
        "    mediaAbsoluta = np.mean(np.abs(erro))\n",
        "    #print(mediaAbsoluta)\n",
        "    historicoErro.append(mediaAbsoluta)\n",
        "\n",
        "    derivadaSaida = sigmoidDerivada(camadaSaida)\n",
        "    #print(derivadaSaida.shape)\n",
        "    #print(pesosSaida.shape)\n",
        "    delta = erro * derivadaSaida\n",
        "    #historicoDelta.append(delta)\n",
        "\n",
        "    pesos1Transposta = pesosSaida.T\n",
        "    deltaSaidaXPeso = delta.dot(pesos1Transposta)\n",
        "    deltaCamadaOculta = deltaSaidaXPeso * sigmoidDerivada(camadaOculta)\n",
        "\n",
        "    camadaSaidaTransposta = camadaOculta.T\n",
        "    pesosNovoSaida = camadaSaidaTransposta.dot(delta)\n",
        "    pesosSaida = (pesosSaida * momento) + (pesosNovoSaida * taxaAprendizagem)\n",
        "\n",
        "    camadaOcultaTransposta = entradas.T\n",
        "    pesosNovoEntrada = camadaOcultaTransposta.dot(deltaCamadaOculta)\n",
        "    pesosEntrada = (pesosEntrada * momento) + (pesosNovoEntrada * taxaAprendizagem)\n",
        "\n",
        "  mp.plot(historicoErro)\n",
        "  mp.title('Progressão do erro')\n",
        "  mp.xlabel('Épocas')\n",
        "  mp.ylabel('Erro')\n",
        "\n",
        "  # mp.plot(historicoDelta)\n",
        "  # mp.title('Progressão do delta')\n",
        "  # mp.xlabel('Épocas')\n",
        "  # mp.ylabel('Delta')"
      ]
    },
    {
      "cell_type": "code",
      "execution_count": null,
      "metadata": {
        "id": "DBVdDOH7AYbY"
      },
      "outputs": [],
      "source": [
        "def teste(X_test, Y_test, pesosEntrada, pesosSaida):\n",
        "  somaEntrada = np.dot(X_test, pesosEntrada)\n",
        "  camadaOculta = sigmoid(somaEntrada)\n",
        "\n",
        "  somaSaida = np.dot(camadaOculta, pesosSaida)\n",
        "  camadaSaida = sigmoid(somaSaida)\n",
        "\n",
        "  #print(Y_test)\n",
        "\n",
        "  count = 0\n",
        "  a = np.empty((len(camadaSaida), 2))\n",
        "\n",
        "  for i in range(len(camadaSaida)):\n",
        "    if (camadaSaida[i][0] > camadaSaida[i][1]):\n",
        "      a[i] = [1, 0]\n",
        "    else:\n",
        "      a[i] = [0, 1]\n",
        "    #valorCamadaSaida[i][0] == Y_test[i][0] and valorCamadaSaida[i][1] == Y_test[i][1]\n",
        "    if (a[i][0] == Y_test[i][0] and a[i][1] == Y_test[i][1]):\n",
        "      count += 1\n",
        "\n",
        "  #print(a)\n",
        "  acc = (count / len(camadaSaida)) * 100\n",
        "  print('Acurácia no conjunto de teste: ' + str(acc) + '%')"
      ]
    },
    {
      "cell_type": "code",
      "execution_count": null,
      "metadata": {
        "colab": {
          "base_uri": "https://localhost:8080/",
          "height": 965
        },
        "id": "q4dnHqb5AY9a",
        "outputId": "7b322902-84dc-4c3d-b891-73d3acf34744"
      },
      "outputs": [],
      "source": [
        "# =============================== Main ===============================================\n",
        "banco = 'xor_data.csv'\n",
        "\n",
        "print('---------------------------------------------')\n",
        "print('------------------- Dados -------------------')\n",
        "print('---------------------------------------------')\n",
        "\n",
        "X_train, X_test, Y_train, Y_test = tratamentoDados(banco)\n",
        "\n",
        "pesosEntrada = np.random.random((2,5))\n",
        "pesosSaida = np.random.random((5,2))\n",
        "\n",
        "epocas = 100000\n",
        "taxaAprendizagem = 0.002\n",
        "momento = 1\n",
        "\n",
        "treinar(epocas, X_train, Y_train, taxaAprendizagem, momento, pesosEntrada, pesosSaida)\n",
        "teste(X_test, Y_test, pesosEntrada, pesosSaida)"
      ]
    }
  ],
  "metadata": {
    "accelerator": "GPU",
    "colab": {
      "provenance": []
    },
    "kernelspec": {
      "display_name": "Python 3",
      "name": "python3"
    }
  },
  "nbformat": 4,
  "nbformat_minor": 0
}
