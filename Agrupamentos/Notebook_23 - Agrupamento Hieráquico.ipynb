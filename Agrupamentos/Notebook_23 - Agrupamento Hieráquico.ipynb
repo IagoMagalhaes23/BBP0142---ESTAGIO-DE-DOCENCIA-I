{
  "cells": [
    {
      "cell_type": "markdown",
      "metadata": {
        "id": "46Wgvcemg2zt"
      },
      "source": [
        "#**Notebook 23**\n",
        "- **Professor:** Iális Cavalcante\n",
        "- **Monitor:** Iago Magalhães\n",
        "- **Disciplina:** Ciência de dados\n",
        "- **Curso:** Engenharia da Computação\n",
        "- **Descrição:**\n",
        "No notebook 23 iremos aprender sobre o agrupamento hieráquico."
      ]
    },
    {
      "cell_type": "markdown",
      "metadata": {
        "id": "NOSU58lWh-ZL"
      },
      "source": [
        "##Importações de bibliotecas"
      ]
    },
    {
      "cell_type": "code",
      "execution_count": 7,
      "metadata": {
        "id": "UEMJd3sPfhzB"
      },
      "outputs": [],
      "source": [
        "import numpy as np\n",
        "import matplotlib.pyplot as plt\n",
        "\n",
        "from scipy.cluster.hierarchy import dendrogram, linkage\n",
        "from sklearn.cluster import AgglomerativeClustering\n",
        "from sklearn.preprocessing import StandardScaler"
      ]
    },
    {
      "cell_type": "markdown",
      "metadata": {
        "id": "G3fUxNosiBJh"
      },
      "source": [
        "##Leitura de dados"
      ]
    },
    {
      "cell_type": "code",
      "execution_count": null,
      "metadata": {
        "id": "iSP91hQ4iD9q"
      },
      "outputs": [],
      "source": [
        "x = [20,  27,  21,  37,  46, 53, 55,  47,  52,  32,  39,  41,  39,  48,  48]\n",
        "y = [1000,1200,2900,1850,900,950,2000,2100,3000,5900,4100,5100,7000,5000,6500]\n",
        "\n",
        "plt.scatter(x, y)\n",
        "plt.show()"
      ]
    },
    {
      "cell_type": "code",
      "execution_count": 9,
      "metadata": {
        "id": "zulj4U2-xXPS"
      },
      "outputs": [],
      "source": [
        "base = np.array([[20,1000],[27,1200],[21,2900],[37,1850],[46,900],\n",
        "                 [53,950],[55,2000],[47,2100],[52,3000],[32,5900],\n",
        "                 [39,4100],[41,5100],[39,7000],[48,5000],[48,6500]])"
      ]
    },
    {
      "cell_type": "markdown",
      "metadata": {
        "id": "Vb_YTl3niM5p"
      },
      "source": [
        "##Agrupamento Hierárquico"
      ]
    },
    {
      "cell_type": "code",
      "execution_count": null,
      "metadata": {
        "id": "W27ARJhjigh9"
      },
      "outputs": [],
      "source": [
        "scaler = StandardScaler()\n",
        "base = scaler.fit_transform(base)\n",
        "\n",
        "dendrograma = dendrogram(linkage(base, method = 'ward'))\n",
        "plt.title('Dendrograma')\n",
        "plt.xlabel('Pessoas')\n",
        "plt.ylabel('Distância Euclidiana')\n",
        "\n",
        "hc = AgglomerativeClustering(n_clusters = 3, affinity = 'euclidean', linkage = 'ward')\n",
        "previsoes = hc.fit_predict(base)"
      ]
    },
    {
      "cell_type": "code",
      "execution_count": null,
      "metadata": {
        "id": "NUf2NhTbLPLi"
      },
      "outputs": [],
      "source": [
        "plt.scatter(base[previsoes == 0, 0], base[previsoes == 0, 1], s = 50, c = 'red', label = 'Cluster 1')\n",
        "plt.scatter(base[previsoes == 1, 0], base[previsoes == 1, 1], s = 50, c = 'blue', label = 'Cluster 2')\n",
        "plt.scatter(base[previsoes == 2, 0], base[previsoes == 2, 1], s = 50, c = 'green', label = 'Cluster 3')\n",
        "plt.xlabel('Idade')\n",
        "plt.ylabel('Salário')\n",
        "plt.legend()"
      ]
    },
    {
      "cell_type": "markdown",
      "metadata": {
        "id": "mnEU8gwT4p_i"
      },
      "source": [
        "##Atividades de casa\n",
        "- Utilize outra base de dados e analise os resultados para o algoritmo hieráquico."
      ]
    },
    {
      "cell_type": "markdown",
      "metadata": {
        "id": "Nx0py0djiU5x"
      },
      "source": [
        "##Referências\n",
        "- [Aprendizado de Máquina (Machine Learning) | Agrupamento Hierárquico para Dados não Rotulados](https://youtu.be/GZzm6ISCYi0?si=SQjEEyPuU2wVL_So)\n",
        "- [Como funciona o algoritmo de Agrupamento Hierárquico](https://www.computersciencemaster.com.br/como-funciona-o-algoritmo-de-agrupamento-hierarquico/)\n",
        "- [Clustering](https://scikit-learn.org/stable/modules/clustering.html#hierarchical-clustering)"
      ]
    }
  ],
  "metadata": {
    "colab": {
      "provenance": [],
      "toc_visible": true
    },
    "kernelspec": {
      "display_name": "Python 3",
      "name": "python3"
    },
    "language_info": {
      "name": "python"
    }
  },
  "nbformat": 4,
  "nbformat_minor": 0
}
