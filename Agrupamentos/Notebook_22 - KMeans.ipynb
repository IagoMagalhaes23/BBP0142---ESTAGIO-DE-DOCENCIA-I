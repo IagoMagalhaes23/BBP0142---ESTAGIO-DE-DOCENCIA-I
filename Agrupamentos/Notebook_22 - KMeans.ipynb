{
  "nbformat": 4,
  "nbformat_minor": 0,
  "metadata": {
    "colab": {
      "provenance": [],
      "toc_visible": true
    },
    "kernelspec": {
      "name": "python3",
      "display_name": "Python 3"
    },
    "language_info": {
      "name": "python"
    }
  },
  "cells": [
    {
      "cell_type": "markdown",
      "source": [
        "#**Notebook 06**\n",
        "- **Professor:** Iális Cavalcante\n",
        "- **Monitor:** Iago Magalhães\n",
        "- **Disciplina:** Ciência de dados\n",
        "- **Curso:** Engenharia da Computação\n",
        "- **Descrição:**\n",
        "No notebook 22 iremos aprender sobre o algoritmo KMeans.\n"
      ],
      "metadata": {
        "id": "46Wgvcemg2zt"
      }
    },
    {
      "cell_type": "markdown",
      "source": [
        "##Importações de bibliotecas"
      ],
      "metadata": {
        "id": "NOSU58lWh-ZL"
      }
    },
    {
      "cell_type": "code",
      "execution_count": 1,
      "metadata": {
        "id": "UEMJd3sPfhzB"
      },
      "outputs": [],
      "source": [
        "import matplotlib.pyplot as plt\n",
        "from sklearn.cluster import KMeans"
      ]
    },
    {
      "cell_type": "markdown",
      "source": [
        "##Leitura de dados"
      ],
      "metadata": {
        "id": "G3fUxNosiBJh"
      }
    },
    {
      "cell_type": "code",
      "source": [
        "num_1 = [21, 22, 27, 21, 20, 28, 31, 23, 27, 29]\n",
        "num_2 = [38, 36, 41, 34, 33, 42, 41, 39, 38, 38]\n",
        "\n",
        "plt.scatter(num_1, num_2)\n",
        "plt.show()"
      ],
      "metadata": {
        "id": "iSP91hQ4iD9q"
      },
      "execution_count": null,
      "outputs": []
    },
    {
      "cell_type": "markdown",
      "source": [
        "##Método do Cotovelo"
      ],
      "metadata": {
        "id": "aOXqXJqkiENs"
      }
    },
    {
      "cell_type": "code",
      "source": [
        "data = list(zip(num_1, num_2))\n",
        "inertias = []\n",
        "\n",
        "for i in range(1,11):\n",
        "  kmeans = KMeans(n_clusters=i, n_init=10)\n",
        "  kmeans.fit(data)\n",
        "  inertias.append(kmeans.inertia_)\n",
        "\n",
        "plt.plot(range(1,11), inertias, marker='o')\n",
        "plt.title('Método do Cotovelo')\n",
        "plt.xlabel('Número de clusters')\n",
        "plt.ylabel('Inércia')\n",
        "plt.show()"
      ],
      "metadata": {
        "id": "zulj4U2-xXPS"
      },
      "execution_count": null,
      "outputs": []
    },
    {
      "cell_type": "markdown",
      "source": [
        "##Algoritmo KMeans"
      ],
      "metadata": {
        "id": "Vb_YTl3niM5p"
      }
    },
    {
      "cell_type": "code",
      "source": [
        "kmeans = KMeans(n_clusters=2, n_init=10)\n",
        "kmeans.fit(data)\n",
        "\n",
        "plt.scatter(num_1, num_2, c=kmeans.labels_)\n",
        "plt.show()\n",
        "\n",
        "print(kmeans.labels_)"
      ],
      "metadata": {
        "id": "W27ARJhjigh9"
      },
      "execution_count": null,
      "outputs": []
    },
    {
      "cell_type": "markdown",
      "source": [
        "##Atividades de casa\n",
        "- Utilize outra base de dados e analise os resultados para o algoritmo KMeans."
      ],
      "metadata": {
        "id": "mnEU8gwT4p_i"
      }
    },
    {
      "cell_type": "markdown",
      "source": [
        "##Referências\n",
        "- [KMeans SKLearn](https://scikit-learn.org/stable/modules/generated/sklearn.cluster.KMeans.html)\n",
        "- [Aprendizado de Máquina (Machine Learning) | Implementação do Algoritmo K-Means em Python #24](https://youtu.be/eXw9lI091Qs?si=HLdb4H9Q4quEecld)"
      ],
      "metadata": {
        "id": "Nx0py0djiU5x"
      }
    }
  ]
}