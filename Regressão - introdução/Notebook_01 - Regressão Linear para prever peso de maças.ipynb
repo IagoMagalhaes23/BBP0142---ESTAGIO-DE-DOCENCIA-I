{
  "nbformat": 4,
  "nbformat_minor": 0,
  "metadata": {
    "colab": {
      "provenance": [],
      "toc_visible": true
    },
    "kernelspec": {
      "name": "python3",
      "display_name": "Python 3"
    },
    "language_info": {
      "name": "python"
    }
  },
  "cells": [
    {
      "cell_type": "markdown",
      "source": [
        "#**Notebook 01**\n",
        "- **Professor:** Iális Cavalcante\n",
        "- **Monitor:** Iago Magalhães\n",
        "- **Disciplina:** Ciência de dados\n",
        "- **Curso:** Engenharia da Computação\n",
        "- **Descrição:**\n",
        "O notebook 01 apresenta de forma introdutória o algoritmo de regressão linear aplicado ao dataset 'Apple Quality'. Neste dataset algumas informações são fornecidas como ID, Tamanho, Peso, Doçura, Crocância, Suculência, Maturação, Acidez e Qualidade, através de um arquivo CSV.\n",
        "Agora imagine a seguinte situação problema, o comerciante Iális deseja comprar maçãs para utilizar no restaurante universitário da UFC que demanda a compra de frutos a partir de certo tamanho. O produtor de maçãs, João Vitor, possui uma máquina que coleta informações das frutas colhidas como Tamanho, Peso, Doçura, Crocância, Suculência, Maturação, Acidez e Qualidade. Com base em seus conhecimentos de ciência de dados ajude o produtor João VItor a estimar o tamanho das maçãs utilizando o algoritmo de **regressão linear**.\n",
        "Através da imagem a seguir é possível enteder o passo a passo a ser realizado para solucionar o problema.\n",
        "\n"
      ],
      "metadata": {
        "id": "46Wgvcemg2zt"
      }
    },
    {
      "cell_type": "markdown",
      "source": [
        "##Instalação de bibliotecas"
      ],
      "metadata": {
        "id": "YRh-JyH3z_cq"
      }
    },
    {
      "cell_type": "code",
      "source": [
        "!pip install plotly --upgrade"
      ],
      "metadata": {
        "id": "SJ8QNRmJ0CYh"
      },
      "execution_count": null,
      "outputs": []
    },
    {
      "cell_type": "markdown",
      "source": [
        "##Importações de bibliotecas"
      ],
      "metadata": {
        "id": "NOSU58lWh-ZL"
      }
    },
    {
      "cell_type": "code",
      "execution_count": null,
      "metadata": {
        "id": "UEMJd3sPfhzB"
      },
      "outputs": [],
      "source": [
        "import plotly.graph_objects as go\n",
        "import matplotlib.pyplot as plt\n",
        "import plotly.express as px\n",
        "import seaborn as sns\n",
        "import pandas as pd\n",
        "import numpy as np\n",
        "\n",
        "from sklearn.model_selection import train_test_split\n",
        "from sklearn.linear_model import LinearRegression\n",
        "from sklearn.metrics import mean_absolute_error\n",
        "from sklearn.metrics import mean_squared_error\n",
        "from sklearn.metrics import max_error"
      ]
    },
    {
      "cell_type": "markdown",
      "source": [
        "##Leitura de dados"
      ],
      "metadata": {
        "id": "G3fUxNosiBJh"
      }
    },
    {
      "cell_type": "code",
      "source": [
        "apples = pd.read_csv('apple_quality.csv')\n",
        "apples"
      ],
      "metadata": {
        "id": "iSP91hQ4iD9q"
      },
      "execution_count": null,
      "outputs": []
    },
    {
      "cell_type": "markdown",
      "source": [
        "##Funções extras"
      ],
      "metadata": {
        "id": "JEOcnex_iGgf"
      }
    },
    {
      "cell_type": "code",
      "source": [
        "def corr(df):\n",
        "  '''\n",
        "    Função de correlação\n",
        "    :param df: recebe dataframe com os dados a serem analisados para gerar a matriz de correlação\n",
        "    :return: retorna um heatmap dos dados\n",
        "  '''\n",
        "  figura = plt.figure(figsize=(10,5))\n",
        "  return sns.heatmap(df.corr(), annot=True);"
      ],
      "metadata": {
        "id": "YiYkXXONiMhf"
      },
      "execution_count": null,
      "outputs": []
    },
    {
      "cell_type": "markdown",
      "source": [
        "##Análise de dados"
      ],
      "metadata": {
        "id": "aOXqXJqkiENs"
      }
    },
    {
      "cell_type": "code",
      "source": [
        "#Crie um código para exibir o shape da base de dados disponibilizada\n",
        "apples._"
      ],
      "metadata": {
        "id": "chLAAl8fiGNg",
        "colab": {
          "base_uri": "https://localhost:8080/"
        },
        "outputId": "24ee43e0-d350-4e6d-bac7-e1ef58aa9119"
      },
      "execution_count": null,
      "outputs": [
        {
          "output_type": "execute_result",
          "data": {
            "text/plain": [
              "(4001, 9)"
            ]
          },
          "metadata": {},
          "execution_count": 5
        }
      ]
    },
    {
      "cell_type": "code",
      "source": [
        "apples.dtypes"
      ],
      "metadata": {
        "id": "t6ULtq_iNmfa"
      },
      "execution_count": null,
      "outputs": []
    },
    {
      "cell_type": "code",
      "source": [
        "#Verifique a existência de valores nulos\n",
        "print(apples._._)"
      ],
      "metadata": {
        "id": "zFaT_m0SYXWF"
      },
      "execution_count": null,
      "outputs": []
    },
    {
      "cell_type": "code",
      "source": [
        "#Removendo valores nulos do dataset\n",
        "apples = apples.dropna().reset_index(drop=True)\n",
        "apples"
      ],
      "metadata": {
        "id": "1W9-0JqsYe0D"
      },
      "execution_count": null,
      "outputs": []
    },
    {
      "cell_type": "code",
      "source": [
        "apples.describe()"
      ],
      "metadata": {
        "id": "XOGgjCwqYuVR"
      },
      "execution_count": null,
      "outputs": []
    },
    {
      "cell_type": "code",
      "source": [
        "#Aplicando gráfico de boxplot ao campo 'Size' do dataset\n",
        "plt.boxplot(apples['Size'])"
      ],
      "metadata": {
        "id": "P0mDsPtOOSBs"
      },
      "execution_count": null,
      "outputs": []
    },
    {
      "cell_type": "code",
      "source": [
        "#Analisando a correlação dos dados\n",
        "apples.corr()"
      ],
      "metadata": {
        "id": "d-G5fg-cZ5k9"
      },
      "execution_count": null,
      "outputs": []
    },
    {
      "cell_type": "code",
      "source": [
        "#Análise da correlação de forma gráfica\n",
        "corr(apples)"
      ],
      "metadata": {
        "id": "JdGp-dDIa-dM"
      },
      "execution_count": null,
      "outputs": []
    },
    {
      "cell_type": "markdown",
      "source": [
        "##Algoritmo de Machine Learning"
      ],
      "metadata": {
        "id": "Vb_YTl3niM5p"
      }
    },
    {
      "cell_type": "markdown",
      "source": [
        "###Divisão de dados de treino e teste"
      ],
      "metadata": {
        "id": "WisjkmPlicex"
      }
    },
    {
      "cell_type": "code",
      "source": [
        "#Utilizando dados de 'Acidity', 'Weight', 'Sweetness', 'Crunchiness' e 'Juiciness' para prever os dados de 'Size'\n",
        "X_train, X_test, y_train, y_test = train_test_split(apples[['Acidity', 'Weight', 'Sweetness', 'Crunchiness', 'Juiciness']], apples['Size'], test_size = 0.3, random_state = 0)"
      ],
      "metadata": {
        "id": "W27ARJhjigh9"
      },
      "execution_count": null,
      "outputs": []
    },
    {
      "cell_type": "code",
      "source": [
        "print('Shape dos dados de treino: {}'.format(X_train.shape))\n",
        "print('Shape das classes de treino: {}'.format(y_train.shape, '\\n'))\n",
        "print('Shape dos dados de teste: {}'.format(X_test.shape))\n",
        "print('Shape das classes de teste: {}'.format(y_test.shape))"
      ],
      "metadata": {
        "id": "4Ie4jkHOcfeE"
      },
      "execution_count": null,
      "outputs": []
    },
    {
      "cell_type": "markdown",
      "source": [
        "###Algoritmo de Regressão Linear"
      ],
      "metadata": {
        "id": "8aoBpPNUigxw"
      }
    },
    {
      "cell_type": "code",
      "source": [
        "#Crie um algortimo de Regressão Linear\n",
        "regressor_linear = _"
      ],
      "metadata": {
        "id": "BrLq0bN1imUX"
      },
      "execution_count": null,
      "outputs": []
    },
    {
      "cell_type": "markdown",
      "source": [
        "###Treinamento do modelo"
      ],
      "metadata": {
        "id": "U6R3u6IIimw0"
      }
    },
    {
      "cell_type": "code",
      "source": [
        "#Treine o modelo com a função fit\n",
        "regressor_linear._"
      ],
      "metadata": {
        "id": "9_delDq4ipO6"
      },
      "execution_count": null,
      "outputs": []
    },
    {
      "cell_type": "code",
      "source": [
        "regressor_linear.score(X_test, y_test)"
      ],
      "metadata": {
        "id": "cOr08QA7dN5F"
      },
      "execution_count": null,
      "outputs": []
    },
    {
      "cell_type": "code",
      "source": [
        "#Realize previsões com a função predict\n",
        "previsoes = regressor_linear._\n",
        "previsoes"
      ],
      "metadata": {
        "id": "qFmFCRegdZMs"
      },
      "execution_count": null,
      "outputs": []
    },
    {
      "cell_type": "markdown",
      "source": [
        "##Visualização dos resultados"
      ],
      "metadata": {
        "id": "diK5jeUciSio"
      }
    },
    {
      "cell_type": "code",
      "source": [
        "#Calculando ponto de interceptação\n",
        "regressor_linear.intercept_"
      ],
      "metadata": {
        "id": "zwoZ2IQ-kRs3"
      },
      "execution_count": null,
      "outputs": []
    },
    {
      "cell_type": "code",
      "source": [
        "#Calculando valores de coenficiente\n",
        "regressor_linear.coef_"
      ],
      "metadata": {
        "id": "QN-LJKPikYy_"
      },
      "execution_count": null,
      "outputs": []
    },
    {
      "cell_type": "code",
      "source": [
        "plt.figure(figsize=(20,10))\n",
        "plt.plot(np.linspace(-1, 1, len(y_test)), previsoes, label='Previsões', color='black', linewidth=1.5)\n",
        "plt.plot(np.linspace(-1, 1, len(y_test)), y_test, label='Saída Original', color='red', linewidth=1.5)\n",
        "plt.legend(loc=\"lower right\")\n",
        "plt.show()"
      ],
      "metadata": {
        "id": "b-QB48ZeiVRg"
      },
      "execution_count": null,
      "outputs": []
    },
    {
      "cell_type": "code",
      "source": [
        "plt.figure(figsize=(10,5))\n",
        "plt.plot(np.linspace(-1, 1, 100), previsoes[0:100], label='Previsões', color='black', linewidth=1.5)\n",
        "plt.plot(np.linspace(-1, 1, 100), y_test[0:100], label='Saída Original', color='red', linewidth=1.5)\n",
        "plt.legend(loc=\"lower right\")\n",
        "plt.show()"
      ],
      "metadata": {
        "id": "nurePbblfgJS"
      },
      "execution_count": null,
      "outputs": []
    },
    {
      "cell_type": "code",
      "source": [
        "#Calculando métricas de avaliação para modelos de regressão\n",
        "print(\" Erro máx. {}.\\n Erro médio absoluto: {}.\\n Erro quadrático absoluto: {}.\\n Raiz do erro quadrático médio: {}. \"\n",
        "      .format(max_error(previsoes, y_test),mean_absolute_error(previsoes, y_test),\n",
        "      mean_squared_error(previsoes, y_test),mean_squared_error(previsoes, y_test)\n",
        "      ))"
      ],
      "metadata": {
        "id": "-VKguJuIf-X9"
      },
      "execution_count": null,
      "outputs": []
    },
    {
      "cell_type": "markdown",
      "source": [
        "##Referências\n",
        "- [Basics charts with Plotly](https://plotly.com/python/basic-charts/)\n",
        "- [Seaborn](https://seaborn.pydata.org/)\n",
        "- [Entendendo correlação](https://www.significados.com.br/correlacao/)\n",
        "- [Regressão Linear](https://scikit-learn.org/stable/modules/linear_model.html)\n",
        "- [Métricas de avaliação](https://scikit-learn.org/stable/modules/model_evaluation.html#model-evaluation)"
      ],
      "metadata": {
        "id": "Nx0py0djiU5x"
      }
    }
  ]
}