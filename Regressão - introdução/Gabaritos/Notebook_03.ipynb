{
  "nbformat": 4,
  "nbformat_minor": 0,
  "metadata": {
    "colab": {
      "provenance": []
    },
    "kernelspec": {
      "name": "python3",
      "display_name": "Python 3"
    },
    "language_info": {
      "name": "python"
    }
  },
  "cells": [
    {
      "cell_type": "markdown",
      "source": [
        "#**Notebook 03**\n",
        "- **Professor:** Iális Cavalcante\n",
        "- **Monitor:** Iago Magalhães\n",
        "- **Disciplina:** Ciência de dados\n",
        "- **Curso:** Engenharia da Computação\n",
        "- **Descrição:**\n",
        "No notebook 03 vamos avançar um pouco mais sobre os conceitos de regressão linear e entenderemos um pouco sobre outros algoritmos.\n",
        "- **Questão:** A engenheira de computação, Amanda, esta trabalhando em uma empresa de aço e precisa analisar e realizar previsões sobre o uso da energia na fábrica em que ela trabalha. Utilize seus conhecimentos em regressão e realize previsões sobre o consumo de energia em kWh, selecionando o melhor conjunto de amostras para tal.\n",
        "\n"
      ],
      "metadata": {
        "id": "46Wgvcemg2zt"
      }
    },
    {
      "cell_type": "markdown",
      "source": [
        "##Instalação de bibliotecas"
      ],
      "metadata": {
        "id": "YRh-JyH3z_cq"
      }
    },
    {
      "cell_type": "code",
      "source": [
        "!pip install plotly --upgrade"
      ],
      "metadata": {
        "id": "SJ8QNRmJ0CYh"
      },
      "execution_count": null,
      "outputs": []
    },
    {
      "cell_type": "markdown",
      "source": [
        "##Importações de bibliotecas"
      ],
      "metadata": {
        "id": "NOSU58lWh-ZL"
      }
    },
    {
      "cell_type": "code",
      "execution_count": 2,
      "metadata": {
        "id": "UEMJd3sPfhzB"
      },
      "outputs": [],
      "source": [
        "import plotly.graph_objects as go\n",
        "import matplotlib.pyplot as plt\n",
        "import plotly.express as px\n",
        "import seaborn as sns\n",
        "import pandas as pd\n",
        "import numpy as np\n",
        "\n",
        "from sklearn.model_selection import train_test_split\n",
        "from sklearn.linear_model import LinearRegression\n",
        "from sklearn.metrics import mean_absolute_error\n",
        "from sklearn.metrics import mean_squared_error\n",
        "from sklearn.metrics import max_error"
      ]
    },
    {
      "cell_type": "markdown",
      "source": [
        "##Leitura de dados"
      ],
      "metadata": {
        "id": "G3fUxNosiBJh"
      }
    },
    {
      "cell_type": "code",
      "source": [
        "steel = pd.read_csv('Steel_industry.csv')\n",
        "steel"
      ],
      "metadata": {
        "id": "iSP91hQ4iD9q"
      },
      "execution_count": null,
      "outputs": []
    },
    {
      "cell_type": "markdown",
      "source": [
        "##Funções extras"
      ],
      "metadata": {
        "id": "JEOcnex_iGgf"
      }
    },
    {
      "cell_type": "code",
      "source": [],
      "metadata": {
        "id": "IeaX1tjr3AMh"
      },
      "execution_count": null,
      "outputs": []
    },
    {
      "cell_type": "markdown",
      "source": [
        "##Análise de dados"
      ],
      "metadata": {
        "id": "aOXqXJqkiENs"
      }
    },
    {
      "cell_type": "code",
      "source": [
        "#Crie um código para exibir o shape da base de dados disponibilizada\n",
        "steel.shape"
      ],
      "metadata": {
        "id": "chLAAl8fiGNg",
        "colab": {
          "base_uri": "https://localhost:8080/"
        },
        "outputId": "37a87606-7e1d-46a1-f459-63735fbb2998"
      },
      "execution_count": 4,
      "outputs": [
        {
          "output_type": "execute_result",
          "data": {
            "text/plain": [
              "(35041, 11)"
            ]
          },
          "metadata": {},
          "execution_count": 4
        }
      ]
    },
    {
      "cell_type": "code",
      "source": [
        "steel.dtypes"
      ],
      "metadata": {
        "id": "t6ULtq_iNmfa"
      },
      "execution_count": null,
      "outputs": []
    },
    {
      "cell_type": "code",
      "source": [
        "#Verifique a existência de valores nulos\n",
        "print(steel.isnull().sum())"
      ],
      "metadata": {
        "id": "zFaT_m0SYXWF"
      },
      "execution_count": null,
      "outputs": []
    },
    {
      "cell_type": "code",
      "source": [
        "steel.describe()"
      ],
      "metadata": {
        "id": "XOGgjCwqYuVR"
      },
      "execution_count": null,
      "outputs": []
    },
    {
      "cell_type": "code",
      "source": [
        "#Aplicando gráfico de boxplot ao campo 'Age' do dataset\n",
        "plt.boxplot(steel['Usage_kWh'])"
      ],
      "metadata": {
        "id": "P0mDsPtOOSBs"
      },
      "execution_count": null,
      "outputs": []
    },
    {
      "cell_type": "code",
      "source": [
        "#Analisando a correlação dos dados\n",
        "steel.corr()"
      ],
      "metadata": {
        "id": "d-G5fg-cZ5k9"
      },
      "execution_count": null,
      "outputs": []
    },
    {
      "cell_type": "code",
      "source": [
        "plt.figure(figsize=(20,10))\n",
        "plt.plot(steel['Usage_kWh'])\n",
        "plt.tick_params(axis='x', labelrotation=45)\n",
        "plt.show()"
      ],
      "metadata": {
        "id": "QbDvdAQiDrmB"
      },
      "execution_count": null,
      "outputs": []
    },
    {
      "cell_type": "markdown",
      "source": [
        "##Algoritmo de Machine Learning"
      ],
      "metadata": {
        "id": "Vb_YTl3niM5p"
      }
    },
    {
      "cell_type": "markdown",
      "source": [
        "###Divisão de dados de treino e teste"
      ],
      "metadata": {
        "id": "WisjkmPlicex"
      }
    },
    {
      "cell_type": "code",
      "source": [
        "#Utilizando dados de 'Acidity', 'Weight', 'Sweetness', 'Crunchiness' e 'Juiciness' para prever os dados de 'Size'\n",
        "X_train, X_test, y_train, y_test = train_test_split(steel[['Lagging_Current_Reactive.Power_kVarh', 'Leading_Current_Reactive_Power_kVarh', 'CO2(tCO2)', 'Lagging_Current_Power_Factor', 'Leading_Current_Power_Factor']], steel['Usage_kWh'], test_size = 0.3, random_state = 0)"
      ],
      "metadata": {
        "id": "W27ARJhjigh9"
      },
      "execution_count": 11,
      "outputs": []
    },
    {
      "cell_type": "code",
      "source": [
        "print('Shape dos dados de treino: {}'.format(X_train.shape))\n",
        "print('Shape das classes de treino: {}'.format(y_train.shape, '\\n'))\n",
        "print('Shape dos dados de teste: {}'.format(X_test.shape))\n",
        "print('Shape das classes de teste: {}'.format(y_test.shape))"
      ],
      "metadata": {
        "id": "4Ie4jkHOcfeE"
      },
      "execution_count": null,
      "outputs": []
    },
    {
      "cell_type": "markdown",
      "source": [
        "###Algoritmo de Regressão Linear"
      ],
      "metadata": {
        "id": "8aoBpPNUigxw"
      }
    },
    {
      "cell_type": "code",
      "source": [
        "#Crie um algortimo de Regressão Linear\n",
        "regressor_linear = LinearRegression()"
      ],
      "metadata": {
        "id": "BrLq0bN1imUX"
      },
      "execution_count": 13,
      "outputs": []
    },
    {
      "cell_type": "markdown",
      "source": [
        "###Treinamento do modelo"
      ],
      "metadata": {
        "id": "U6R3u6IIimw0"
      }
    },
    {
      "cell_type": "code",
      "source": [
        "#Treine o modelo com a função fit\n",
        "regressor_linear.fit(X_train, y_train)"
      ],
      "metadata": {
        "id": "9_delDq4ipO6"
      },
      "execution_count": null,
      "outputs": []
    },
    {
      "cell_type": "code",
      "source": [
        "regressor_linear.score(X_test, y_test)"
      ],
      "metadata": {
        "id": "cOr08QA7dN5F"
      },
      "execution_count": null,
      "outputs": []
    },
    {
      "cell_type": "code",
      "source": [
        "#Realize previsões com a função predict\n",
        "previsoes = regressor_linear.predict(X_test)\n",
        "previsoes"
      ],
      "metadata": {
        "id": "qFmFCRegdZMs"
      },
      "execution_count": null,
      "outputs": []
    },
    {
      "cell_type": "markdown",
      "source": [
        "##Visualização dos resultados"
      ],
      "metadata": {
        "id": "diK5jeUciSio"
      }
    },
    {
      "cell_type": "code",
      "source": [
        "#Calculando ponto de interceptação\n",
        "regressor_linear.intercept_"
      ],
      "metadata": {
        "id": "zwoZ2IQ-kRs3"
      },
      "execution_count": null,
      "outputs": []
    },
    {
      "cell_type": "code",
      "source": [
        "#Calculando valores de coenficiente\n",
        "regressor_linear.coef_"
      ],
      "metadata": {
        "id": "QN-LJKPikYy_"
      },
      "execution_count": null,
      "outputs": []
    },
    {
      "cell_type": "code",
      "source": [
        "plt.figure(figsize=(20,10))\n",
        "plt.plot(np.linspace(-1, 1, len(y_test)), previsoes, label='Previsões', color='black', linewidth=1.5)\n",
        "plt.plot(np.linspace(-1, 1, len(y_test)), y_test, label='Saída Original', color='red', linewidth=1.5)\n",
        "plt.legend(loc=\"lower right\")\n",
        "plt.show()"
      ],
      "metadata": {
        "id": "b-QB48ZeiVRg"
      },
      "execution_count": null,
      "outputs": []
    },
    {
      "cell_type": "code",
      "source": [
        "plt.figure(figsize=(10,5))\n",
        "plt.plot(np.linspace(-1, 1, 10), previsoes[0:10], label='Previsões', color='black', linewidth=1.5)\n",
        "plt.plot(np.linspace(-1, 1, 10), y_test[0:10], label='Saída Original', color='red', linewidth=1.5)\n",
        "plt.legend(loc=\"lower right\")\n",
        "plt.show()"
      ],
      "metadata": {
        "id": "nurePbblfgJS"
      },
      "execution_count": null,
      "outputs": []
    },
    {
      "cell_type": "code",
      "source": [
        "#Calculando métricas de avaliação para modelos de regressão\n",
        "print(\" Erro máx. {}.\\n Erro médio absoluto: {}.\\n Erro quadrático absoluto: {}.\\n Raiz do erro quadrático médio: {}. \"\n",
        "      .format(max_error(previsoes, y_test),mean_absolute_error(previsoes, y_test),\n",
        "      mean_squared_error(previsoes, y_test),mean_squared_error(previsoes, y_test)\n",
        "      ))"
      ],
      "metadata": {
        "id": "-VKguJuIf-X9"
      },
      "execution_count": null,
      "outputs": []
    },
    {
      "cell_type": "markdown",
      "source": [
        "##Referências\n",
        "- [Dataset Steel](https://www.kaggle.com/datasets/nimapourmoradi/steel-dataset/data)\n",
        "- [Basics charts with Plotly](https://plotly.com/python/basic-charts/)\n",
        "- [Seaborn](https://seaborn.pydata.org/)\n",
        "- [Entendendo correlação](https://www.significados.com.br/correlacao/)\n",
        "- [Regressão Linear](https://scikit-learn.org/stable/modules/linear_model.html)\n",
        "- [Métricas de avaliação](https://scikit-learn.org/stable/modules/model_evaluation.html#model-evaluation)"
      ],
      "metadata": {
        "id": "Nx0py0djiU5x"
      }
    }
  ]
}