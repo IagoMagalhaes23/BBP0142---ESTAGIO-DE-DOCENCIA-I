{
  "cells": [
    {
      "cell_type": "markdown",
      "metadata": {
        "id": "46Wgvcemg2zt"
      },
      "source": [
        "#**Notebook 02**\n",
        "- **Professor:** Iális Cavalcante\n",
        "- **Monitor:** Iago Magalhães\n",
        "- **Disciplina:** Ciência de dados\n",
        "- **Curso:** Engenharia da Computação\n",
        "- **Descrição:**\n",
        "No notebook 02 continuaremos aprendendo sobre reressão linear. Agora iremos aplicar este algoritmo a base de dados 'WorlCup 2022' que tras informações sobre a copa do mundo de futebol masculino de 2022. Neste dataset algumas informações são fornecidas como Times, Gols, Assitências e outras informações primodiais através de um arquivo CSV. Neste exemplo básico iremos explorar um pouco os dados presentes no dataset e realizar a previsão do número de gols com base em alguns atributos.\n",
        "\n"
      ]
    },
    {
      "cell_type": "markdown",
      "metadata": {
        "id": "YRh-JyH3z_cq"
      },
      "source": [
        "##Instalação de bibliotecas"
      ]
    },
    {
      "cell_type": "code",
      "execution_count": null,
      "metadata": {
        "id": "SJ8QNRmJ0CYh"
      },
      "outputs": [],
      "source": [
        "!pip install plotly --upgrade"
      ]
    },
    {
      "cell_type": "markdown",
      "metadata": {
        "id": "NOSU58lWh-ZL"
      },
      "source": [
        "##Importações de bibliotecas"
      ]
    },
    {
      "cell_type": "code",
      "execution_count": 2,
      "metadata": {
        "id": "UEMJd3sPfhzB"
      },
      "outputs": [],
      "source": [
        "import plotly.graph_objects as go\n",
        "import matplotlib.pyplot as plt\n",
        "import plotly.express as px\n",
        "import seaborn as sns\n",
        "import pandas as pd\n",
        "import numpy as np\n",
        "\n",
        "from sklearn.model_selection import train_test_split\n",
        "from sklearn.linear_model import LinearRegression\n",
        "from sklearn.metrics import mean_absolute_error\n",
        "from sklearn.metrics import mean_squared_error\n",
        "from sklearn.metrics import max_error"
      ]
    },
    {
      "cell_type": "markdown",
      "metadata": {
        "id": "G3fUxNosiBJh"
      },
      "source": [
        "##Leitura de dados"
      ]
    },
    {
      "cell_type": "code",
      "execution_count": null,
      "metadata": {
        "id": "iSP91hQ4iD9q"
      },
      "outputs": [],
      "source": [
        "worldcup = pd.read_csv('2022worldcup.csv')\n",
        "worldcup"
      ]
    },
    {
      "cell_type": "markdown",
      "metadata": {
        "id": "JEOcnex_iGgf"
      },
      "source": [
        "##Funções extras"
      ]
    },
    {
      "cell_type": "code",
      "execution_count": null,
      "metadata": {
        "id": "IeaX1tjr3AMh"
      },
      "outputs": [],
      "source": []
    },
    {
      "cell_type": "markdown",
      "metadata": {
        "id": "aOXqXJqkiENs"
      },
      "source": [
        "##Análise de dados"
      ]
    },
    {
      "cell_type": "code",
      "execution_count": null,
      "metadata": {
        "id": "chLAAl8fiGNg"
      },
      "outputs": [],
      "source": [
        "#Crie um código para exibir o shape da base de dados disponibilizada\n",
        "worldcup.shape"
      ]
    },
    {
      "cell_type": "code",
      "execution_count": null,
      "metadata": {
        "id": "t6ULtq_iNmfa"
      },
      "outputs": [],
      "source": [
        "worldcup.dtypes"
      ]
    },
    {
      "cell_type": "code",
      "execution_count": null,
      "metadata": {
        "id": "zFaT_m0SYXWF"
      },
      "outputs": [],
      "source": [
        "#Verifique a existência de valores nulos\n",
        "print(worldcup.isnull().sum())"
      ]
    },
    {
      "cell_type": "code",
      "execution_count": null,
      "metadata": {
        "id": "XOGgjCwqYuVR"
      },
      "outputs": [],
      "source": [
        "worldcup.describe()"
      ]
    },
    {
      "cell_type": "code",
      "execution_count": null,
      "metadata": {
        "id": "P0mDsPtOOSBs"
      },
      "outputs": [],
      "source": [
        "#Aplicando gráfico de boxplot ao campo 'Age' do dataset\n",
        "plt.boxplot(worldcup['Age'])"
      ]
    },
    {
      "cell_type": "code",
      "execution_count": null,
      "metadata": {
        "id": "_43zNZ-I5cZ5"
      },
      "outputs": [],
      "source": [
        "#Aplicando gráfico de boxplot ao campo 'Gls' do dataset\n",
        "plt.boxplot(worldcup['Gls'])"
      ]
    },
    {
      "cell_type": "code",
      "execution_count": null,
      "metadata": {
        "id": "d-G5fg-cZ5k9"
      },
      "outputs": [],
      "source": [
        "#Analisando a correlação dos dados\n",
        "worldcup.iloc[:, 1:].corr()"
      ]
    },
    {
      "cell_type": "code",
      "execution_count": null,
      "metadata": {
        "id": "VDSJgZlq3EIJ"
      },
      "outputs": [],
      "source": [
        "plt.figure(figsize=(20,10))\n",
        "plt.plot(worldcup['Squad'], worldcup['Age'])\n",
        "plt.tick_params(axis='x', labelrotation=45)\n",
        "plt.show()"
      ]
    },
    {
      "cell_type": "code",
      "execution_count": null,
      "metadata": {
        "id": "QbDvdAQiDrmB"
      },
      "outputs": [],
      "source": [
        "plt.figure(figsize=(20,10))\n",
        "plt.plot(worldcup['Squad'], worldcup['Gls'])\n",
        "plt.tick_params(axis='x', labelrotation=45)\n",
        "plt.show()"
      ]
    },
    {
      "cell_type": "markdown",
      "metadata": {
        "id": "Vb_YTl3niM5p"
      },
      "source": [
        "##Algoritmo de Machine Learning"
      ]
    },
    {
      "cell_type": "markdown",
      "metadata": {
        "id": "WisjkmPlicex"
      },
      "source": [
        "###Divisão de dados de treino e teste"
      ]
    },
    {
      "cell_type": "code",
      "execution_count": 23,
      "metadata": {
        "id": "W27ARJhjigh9"
      },
      "outputs": [],
      "source": [
        "#Utilizando dados de 'Acidity', 'Weight', 'Sweetness', 'Crunchiness' e 'Juiciness' para prever os dados de 'Size'\n",
        "X_train, X_test, y_train, y_test = train_test_split(worldcup[['Age', 'Poss', 'Ast']], worldcup['Gls'], test_size = 0.3, random_state = 0)"
      ]
    },
    {
      "cell_type": "code",
      "execution_count": null,
      "metadata": {
        "id": "4Ie4jkHOcfeE"
      },
      "outputs": [],
      "source": [
        "print('Shape dos dados de treino: {}'.format(X_train.shape))\n",
        "print('Shape das classes de treino: {}'.format(y_train.shape, '\\n'))\n",
        "print('Shape dos dados de teste: {}'.format(X_test.shape))\n",
        "print('Shape das classes de teste: {}'.format(y_test.shape))"
      ]
    },
    {
      "cell_type": "markdown",
      "metadata": {
        "id": "8aoBpPNUigxw"
      },
      "source": [
        "###Algoritmo de Regressão Linear"
      ]
    },
    {
      "cell_type": "code",
      "execution_count": 26,
      "metadata": {
        "id": "BrLq0bN1imUX"
      },
      "outputs": [],
      "source": [
        "#Crie um algortimo de Regressão Linear\n",
        "regressor_linear = LinearRegression()"
      ]
    },
    {
      "cell_type": "markdown",
      "metadata": {
        "id": "U6R3u6IIimw0"
      },
      "source": [
        "###Treinamento do modelo"
      ]
    },
    {
      "cell_type": "code",
      "execution_count": null,
      "metadata": {
        "id": "9_delDq4ipO6"
      },
      "outputs": [],
      "source": [
        "#Treine o modelo com a função fit\n",
        "regressor_linear.fit(X_train, y_train)"
      ]
    },
    {
      "cell_type": "code",
      "execution_count": null,
      "metadata": {
        "id": "cOr08QA7dN5F"
      },
      "outputs": [],
      "source": [
        "regressor_linear.score(X_test, y_test)"
      ]
    },
    {
      "cell_type": "code",
      "execution_count": null,
      "metadata": {
        "id": "qFmFCRegdZMs"
      },
      "outputs": [],
      "source": [
        "#Realize previsões com a função predict\n",
        "previsoes = regressor_linear.predict(X_test)\n",
        "previsoes"
      ]
    },
    {
      "cell_type": "markdown",
      "metadata": {
        "id": "diK5jeUciSio"
      },
      "source": [
        "##Visualização dos resultados"
      ]
    },
    {
      "cell_type": "code",
      "execution_count": null,
      "metadata": {
        "id": "zwoZ2IQ-kRs3"
      },
      "outputs": [],
      "source": [
        "#Calculando ponto de interceptação\n",
        "regressor_linear.intercept_"
      ]
    },
    {
      "cell_type": "code",
      "execution_count": null,
      "metadata": {
        "id": "QN-LJKPikYy_"
      },
      "outputs": [],
      "source": [
        "#Calculando valores de coenficiente\n",
        "regressor_linear.coef_"
      ]
    },
    {
      "cell_type": "code",
      "execution_count": null,
      "metadata": {
        "id": "b-QB48ZeiVRg"
      },
      "outputs": [],
      "source": [
        "plt.figure(figsize=(20,10))\n",
        "plt.plot(np.linspace(-1, 1, len(y_test)), previsoes, label='Previsões', color='black', linewidth=1.5)\n",
        "plt.plot(np.linspace(-1, 1, len(y_test)), y_test, label='Saída Original', color='red', linewidth=1.5)\n",
        "plt.legend(loc=\"lower right\")\n",
        "plt.show()"
      ]
    },
    {
      "cell_type": "code",
      "execution_count": null,
      "metadata": {
        "id": "nurePbblfgJS"
      },
      "outputs": [],
      "source": [
        "plt.figure(figsize=(10,5))\n",
        "plt.plot(np.linspace(-1, 1, 10), previsoes, label='Previsões', color='black', linewidth=1.5)\n",
        "plt.plot(np.linspace(-1, 1, 10), y_test, label='Saída Original', color='red', linewidth=1.5)\n",
        "plt.legend(loc=\"lower right\")\n",
        "plt.show()"
      ]
    },
    {
      "cell_type": "code",
      "execution_count": null,
      "metadata": {
        "id": "-VKguJuIf-X9"
      },
      "outputs": [],
      "source": [
        "#Calculando métricas de avaliação para modelos de regressão\n",
        "print(\" Erro máx. {}.\\n Erro médio absoluto: {}.\\n Erro quadrático absoluto: {}.\\n Raiz do erro quadrático médio: {}. \"\n",
        "      .format(max_error(previsoes, y_test),mean_absolute_error(previsoes, y_test),\n",
        "      mean_squared_error(previsoes, y_test),mean_squared_error(previsoes, y_test)\n",
        "      ))"
      ]
    },
    {
      "cell_type": "markdown",
      "metadata": {},
      "source": [
        "##Atividades de casa\n",
        "- Configure o conjunto de dados de entrada para obter melhores desempenhos do algoritmo de regressão linear para estimar o número de gols de cada time;\n",
        "- Desenvolva um algoritmo utilizando regressão linear para estimar a idade dos jogadores;\n",
        "- Utilizando a correlação das variaveis, construa um algoritmo de regressão linear para estimar o número de gols de cada time e o número de assitências."
      ]
    },
    {
      "cell_type": "markdown",
      "metadata": {
        "id": "Nx0py0djiU5x"
      },
      "source": [
        "##Referências\n",
        "- [Dataset World Cup 2022](https://www.kaggle.com/datasets/greysonmb/2022-world-cup-stats)\n",
        "- [Basics charts with Plotly](https://plotly.com/python/basic-charts/)\n",
        "- [Seaborn](https://seaborn.pydata.org/)\n",
        "- [Entendendo correlação](https://www.significados.com.br/correlacao/)\n",
        "- [Regressão Linear](https://scikit-learn.org/stable/modules/linear_model.html)\n",
        "- [Métricas de avaliação](https://scikit-learn.org/stable/modules/model_evaluation.html#model-evaluation)"
      ]
    }
  ],
  "metadata": {
    "colab": {
      "provenance": [],
      "toc_visible": true
    },
    "kernelspec": {
      "display_name": "Python 3",
      "name": "python3"
    },
    "language_info": {
      "name": "python"
    }
  },
  "nbformat": 4,
  "nbformat_minor": 0
}
