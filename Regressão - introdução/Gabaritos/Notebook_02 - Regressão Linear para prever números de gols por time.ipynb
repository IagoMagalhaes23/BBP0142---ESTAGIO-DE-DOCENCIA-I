{
  "nbformat": 4,
  "nbformat_minor": 0,
  "metadata": {
    "colab": {
      "provenance": [],
      "toc_visible": true
    },
    "kernelspec": {
      "name": "python3",
      "display_name": "Python 3"
    },
    "language_info": {
      "name": "python"
    }
  },
  "cells": [
    {
      "cell_type": "markdown",
      "source": [
        "#**Notebook 02**\n",
        "- **Professor:** Iális Cavalcante\n",
        "- **Monitor:** Iago Magalhães\n",
        "- **Disciplina:** Ciência de dados\n",
        "- **Curso:** Engenharia da Computação\n",
        "- **Descrição:**\n",
        "No notebook 02 continuaremos aprendendo sobre reressão linear. Agora iremos aplicar este algoritmo a base de dados 'WorlCup 2022' que tras informações sobre a copa do mundo de futebol masculino de 2022. Neste dataset algumas informações são fornecidas como Times, Gols, Assitências e outras informações primodiais através de um arquivo CSV. Neste exemplo básico iremos explorar um pouco os dados presentes no dataset e realizar a previsão do número de gols com base em alguns atributos.\n",
        "\n"
      ],
      "metadata": {
        "id": "46Wgvcemg2zt"
      }
    },
    {
      "cell_type": "markdown",
      "source": [
        "##Instalação de bibliotecas"
      ],
      "metadata": {
        "id": "YRh-JyH3z_cq"
      }
    },
    {
      "cell_type": "code",
      "source": [
        "!pip install plotly --upgrade"
      ],
      "metadata": {
        "id": "SJ8QNRmJ0CYh"
      },
      "execution_count": null,
      "outputs": []
    },
    {
      "cell_type": "markdown",
      "source": [
        "##Importações de bibliotecas"
      ],
      "metadata": {
        "id": "NOSU58lWh-ZL"
      }
    },
    {
      "cell_type": "code",
      "execution_count": 2,
      "metadata": {
        "id": "UEMJd3sPfhzB"
      },
      "outputs": [],
      "source": [
        "import plotly.graph_objects as go\n",
        "import matplotlib.pyplot as plt\n",
        "import plotly.express as px\n",
        "import seaborn as sns\n",
        "import pandas as pd\n",
        "import numpy as np\n",
        "\n",
        "from sklearn.model_selection import train_test_split\n",
        "from sklearn.linear_model import LinearRegression\n",
        "from sklearn.metrics import mean_absolute_error\n",
        "from sklearn.metrics import mean_squared_error\n",
        "from sklearn.metrics import max_error"
      ]
    },
    {
      "cell_type": "markdown",
      "source": [
        "##Leitura de dados"
      ],
      "metadata": {
        "id": "G3fUxNosiBJh"
      }
    },
    {
      "cell_type": "code",
      "source": [
        "worldcup = pd.read_csv('2022worldcup.csv')\n",
        "worldcup"
      ],
      "metadata": {
        "id": "iSP91hQ4iD9q"
      },
      "execution_count": null,
      "outputs": []
    },
    {
      "cell_type": "markdown",
      "source": [
        "##Funções extras"
      ],
      "metadata": {
        "id": "JEOcnex_iGgf"
      }
    },
    {
      "cell_type": "code",
      "source": [],
      "metadata": {
        "id": "IeaX1tjr3AMh"
      },
      "execution_count": null,
      "outputs": []
    },
    {
      "cell_type": "markdown",
      "source": [
        "##Análise de dados"
      ],
      "metadata": {
        "id": "aOXqXJqkiENs"
      }
    },
    {
      "cell_type": "code",
      "source": [
        "#Crie um código para exibir o shape da base de dados disponibilizada\n",
        "worldcup.shape"
      ],
      "metadata": {
        "id": "chLAAl8fiGNg"
      },
      "execution_count": null,
      "outputs": []
    },
    {
      "cell_type": "code",
      "source": [
        "worldcup.dtypes"
      ],
      "metadata": {
        "id": "t6ULtq_iNmfa"
      },
      "execution_count": null,
      "outputs": []
    },
    {
      "cell_type": "code",
      "source": [
        "#Verifique a existência de valores nulos\n",
        "print(worldcup.isnull().sum())"
      ],
      "metadata": {
        "id": "zFaT_m0SYXWF"
      },
      "execution_count": null,
      "outputs": []
    },
    {
      "cell_type": "code",
      "source": [
        "worldcup.describe()"
      ],
      "metadata": {
        "id": "XOGgjCwqYuVR"
      },
      "execution_count": null,
      "outputs": []
    },
    {
      "cell_type": "code",
      "source": [
        "#Aplicando gráfico de boxplot ao campo 'Age' do dataset\n",
        "plt.boxplot(worldcup['Age'])"
      ],
      "metadata": {
        "id": "P0mDsPtOOSBs"
      },
      "execution_count": null,
      "outputs": []
    },
    {
      "cell_type": "code",
      "source": [
        "#Aplicando gráfico de boxplot ao campo 'Gls' do dataset\n",
        "plt.boxplot(worldcup['Gls'])"
      ],
      "metadata": {
        "id": "_43zNZ-I5cZ5"
      },
      "execution_count": null,
      "outputs": []
    },
    {
      "cell_type": "code",
      "source": [
        "#Analisando a correlação dos dados\n",
        "worldcup.corr()"
      ],
      "metadata": {
        "id": "d-G5fg-cZ5k9"
      },
      "execution_count": null,
      "outputs": []
    },
    {
      "cell_type": "code",
      "source": [
        "plt.figure(figsize=(20,10))\n",
        "plt.plot(worldcup['Squad'], worldcup['Age'])\n",
        "plt.tick_params(axis='x', labelrotation=45)\n",
        "plt.show()"
      ],
      "metadata": {
        "id": "VDSJgZlq3EIJ"
      },
      "execution_count": null,
      "outputs": []
    },
    {
      "cell_type": "code",
      "source": [
        "plt.figure(figsize=(20,10))\n",
        "plt.plot(worldcup['Squad'], worldcup['Gls'])\n",
        "plt.tick_params(axis='x', labelrotation=45)\n",
        "plt.show()"
      ],
      "metadata": {
        "id": "QbDvdAQiDrmB"
      },
      "execution_count": null,
      "outputs": []
    },
    {
      "cell_type": "markdown",
      "source": [
        "##Algoritmo de Machine Learning"
      ],
      "metadata": {
        "id": "Vb_YTl3niM5p"
      }
    },
    {
      "cell_type": "markdown",
      "source": [
        "###Divisão de dados de treino e teste"
      ],
      "metadata": {
        "id": "WisjkmPlicex"
      }
    },
    {
      "cell_type": "code",
      "source": [
        "#Utilizando dados de 'Acidity', 'Weight', 'Sweetness', 'Crunchiness' e 'Juiciness' para prever os dados de 'Size'\n",
        "X_train, X_test, y_train, y_test = train_test_split(worldcup[['Age', 'Poss', 'Ast']], worldcup['Gls'], test_size = 0.3, random_state = 0)"
      ],
      "metadata": {
        "id": "W27ARJhjigh9"
      },
      "execution_count": 23,
      "outputs": []
    },
    {
      "cell_type": "code",
      "source": [
        "print('Shape dos dados de treino: {}'.format(X_train.shape))\n",
        "print('Shape das classes de treino: {}'.format(y_train.shape, '\\n'))\n",
        "print('Shape dos dados de teste: {}'.format(X_test.shape))\n",
        "print('Shape das classes de teste: {}'.format(y_test.shape))"
      ],
      "metadata": {
        "id": "4Ie4jkHOcfeE"
      },
      "execution_count": null,
      "outputs": []
    },
    {
      "cell_type": "markdown",
      "source": [
        "###Algoritmo de Regressão Linear"
      ],
      "metadata": {
        "id": "8aoBpPNUigxw"
      }
    },
    {
      "cell_type": "code",
      "source": [
        "#Crie um algortimo de Regressão Linear\n",
        "regressor_linear = LinearRegression()"
      ],
      "metadata": {
        "id": "BrLq0bN1imUX"
      },
      "execution_count": 26,
      "outputs": []
    },
    {
      "cell_type": "markdown",
      "source": [
        "###Treinamento do modelo"
      ],
      "metadata": {
        "id": "U6R3u6IIimw0"
      }
    },
    {
      "cell_type": "code",
      "source": [
        "#Treine o modelo com a função fit\n",
        "regressor_linear.fit(X_train, y_train)"
      ],
      "metadata": {
        "id": "9_delDq4ipO6"
      },
      "execution_count": null,
      "outputs": []
    },
    {
      "cell_type": "code",
      "source": [
        "regressor_linear.score(X_test, y_test)"
      ],
      "metadata": {
        "id": "cOr08QA7dN5F"
      },
      "execution_count": null,
      "outputs": []
    },
    {
      "cell_type": "code",
      "source": [
        "#Realize previsões com a função predict\n",
        "previsoes = regressor_linear.predict(X_test)\n",
        "previsoes"
      ],
      "metadata": {
        "id": "qFmFCRegdZMs"
      },
      "execution_count": null,
      "outputs": []
    },
    {
      "cell_type": "markdown",
      "source": [
        "##Visualização dos resultados"
      ],
      "metadata": {
        "id": "diK5jeUciSio"
      }
    },
    {
      "cell_type": "code",
      "source": [
        "#Calculando ponto de interceptação\n",
        "regressor_linear.intercept_"
      ],
      "metadata": {
        "id": "zwoZ2IQ-kRs3"
      },
      "execution_count": null,
      "outputs": []
    },
    {
      "cell_type": "code",
      "source": [
        "#Calculando valores de coenficiente\n",
        "regressor_linear.coef_"
      ],
      "metadata": {
        "id": "QN-LJKPikYy_"
      },
      "execution_count": null,
      "outputs": []
    },
    {
      "cell_type": "code",
      "source": [
        "plt.figure(figsize=(20,10))\n",
        "plt.plot(np.linspace(-1, 1, len(y_test)), previsoes, label='Previsões', color='black', linewidth=1.5)\n",
        "plt.plot(np.linspace(-1, 1, len(y_test)), y_test, label='Saída Original', color='red', linewidth=1.5)\n",
        "plt.legend(loc=\"lower right\")\n",
        "plt.show()"
      ],
      "metadata": {
        "id": "b-QB48ZeiVRg"
      },
      "execution_count": null,
      "outputs": []
    },
    {
      "cell_type": "code",
      "source": [
        "plt.figure(figsize=(10,5))\n",
        "plt.plot(np.linspace(-1, 1, 10), previsoes, label='Previsões', color='black', linewidth=1.5)\n",
        "plt.plot(np.linspace(-1, 1, 10), y_test, label='Saída Original', color='red', linewidth=1.5)\n",
        "plt.legend(loc=\"lower right\")\n",
        "plt.show()"
      ],
      "metadata": {
        "id": "nurePbblfgJS"
      },
      "execution_count": null,
      "outputs": []
    },
    {
      "cell_type": "code",
      "source": [
        "#Calculando métricas de avaliação para modelos de regressão\n",
        "print(\" Erro máx. {}.\\n Erro médio absoluto: {}.\\n Erro quadrático absoluto: {}.\\n Raiz do erro quadrático médio: {}. \"\n",
        "      .format(max_error(previsoes, y_test),mean_absolute_error(previsoes, y_test),\n",
        "      mean_squared_error(previsoes, y_test),mean_squared_error(previsoes, y_test)\n",
        "      ))"
      ],
      "metadata": {
        "id": "-VKguJuIf-X9"
      },
      "execution_count": null,
      "outputs": []
    },
    {
      "cell_type": "markdown",
      "source": [
        "##Referências\n",
        "- [Dataset World Cup 2022](https://www.kaggle.com/datasets/greysonmb/2022-world-cup-stats)\n",
        "- [Basics charts with Plotly](https://plotly.com/python/basic-charts/)\n",
        "- [Seaborn](https://seaborn.pydata.org/)\n",
        "- [Entendendo correlação](https://www.significados.com.br/correlacao/)\n",
        "- [Regressão Linear](https://scikit-learn.org/stable/modules/linear_model.html)\n",
        "- [Métricas de avaliação](https://scikit-learn.org/stable/modules/model_evaluation.html#model-evaluation)"
      ],
      "metadata": {
        "id": "Nx0py0djiU5x"
      }
    }
  ]
}